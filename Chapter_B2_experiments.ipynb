{
 "cells": [
  {
   "cell_type": "code",
   "execution_count": 1,
   "id": "bb2662e7",
   "metadata": {},
   "outputs": [],
   "source": [
    "from tensorflow.keras.datasets import mnist\n",
    "from tensorflow.keras import backend as Keras_backend\n",
    "\n",
    "#from tensorflow.keras.utils.np_utils import to_categorical\n",
    "from tensorflow.keras.utils import to_categorical \n",
    "\n",
    "import matplotlib.pyplot as plt\n",
    "\n",
    "import numpy as np\n",
    "\n",
    "from tensorflow.keras import backend as keras_backend\n",
    "keras_backend.set_image_data_format('channels_last')\n",
    "\n",
    "# Workaround for Keras issues on Mac computers (you can comment this\n",
    "# out if you're not on a Mac, or not having problems)\n",
    "import os\n",
    "os.environ['KMP_DUPLICATE_LIB_OK']='True'"
   ]
  },
  {
   "cell_type": "code",
   "execution_count": 2,
   "id": "0a73249a",
   "metadata": {},
   "outputs": [
    {
     "name": "stdout",
     "output_type": "stream",
     "text": [
      "[[ 1  2]\n",
      " [ 3  4]\n",
      " [ 5  6]\n",
      " [ 7  8]\n",
      " [ 9 10]\n",
      " [11 12]]\n"
     ]
    }
   ],
   "source": [
    "# reshape a Python array using reshape() called from NumPy\n",
    "demoData = [[1, 2, 3, 4], [5, 6, 7, 8], [9, 10, 11, 12]]\n",
    "newData = np.reshape(demoData, (6, 2))\n",
    "print(newData)"
   ]
  },
  {
   "cell_type": "code",
   "execution_count": 3,
   "id": "dd3530bb",
   "metadata": {},
   "outputs": [
    {
     "name": "stdout",
     "output_type": "stream",
     "text": [
      "[[ 1  2]\n",
      " [ 3  4]\n",
      " [ 5  6]\n",
      " [ 7  8]\n",
      " [ 9 10]\n",
      " [11 12]]\n"
     ]
    }
   ],
   "source": [
    "# reshape a NumPy array by calling reshape() as one of its methods\n",
    "demoData = np.array([[1, 2, 3, 4], [5, 6, 7, 8], [9, 10, 11, 12]])\n",
    "newData = demoData.reshape((6, 2))\n",
    "print(newData)"
   ]
  },
  {
   "cell_type": "code",
   "execution_count": 6,
   "id": "4934213d",
   "metadata": {},
   "outputs": [],
   "source": [
    "# reshaping to an incompatible size causes an error\n",
    "demoData = np.array([[1, 2, 3, 4], [5, 6, 7, 8], [9, 10, 11, 12]])\n",
    "# uncomment the next line to see the error\n",
    "# demoData.reshape((5,15))"
   ]
  },
  {
   "cell_type": "code",
   "execution_count": null,
   "id": "32ec3b27",
   "metadata": {},
   "outputs": [],
   "source": []
  }
 ],
 "metadata": {
  "kernelspec": {
   "display_name": "Python 3 (ipykernel)",
   "language": "python",
   "name": "python3"
  },
  "language_info": {
   "codemirror_mode": {
    "name": "ipython",
    "version": 3
   },
   "file_extension": ".py",
   "mimetype": "text/x-python",
   "name": "python",
   "nbconvert_exporter": "python",
   "pygments_lexer": "ipython3",
   "version": "3.7.11"
  }
 },
 "nbformat": 4,
 "nbformat_minor": 5
}
