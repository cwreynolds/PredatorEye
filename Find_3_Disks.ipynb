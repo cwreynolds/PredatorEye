{
  "nbformat": 4,
  "nbformat_minor": 0,
  "metadata": {
    "colab": {
      "name": "Find_3_Disks.ipynb",
      "provenance": [],
      "collapsed_sections": []
    },
    "kernelspec": {
      "name": "python3",
      "display_name": "Python 3"
    },
    "language_info": {
      "name": "python"
    }
  },
  "cells": [
    {
      "cell_type": "markdown",
      "source": [
        "# Find 3 Disks\n",
        "Given an image with a background texture, and three overlaid texured disks, predict the centerpoint of the labeled “most concpicuous disk.”"
      ],
      "metadata": {
        "id": "0qtAzmipHZMh"
      }
    },
    {
      "cell_type": "code",
      "execution_count": 1,
      "metadata": {
        "id": "oROsyXIQrzSM"
      },
      "outputs": [],
      "source": [
        "import numpy as np\n",
        "\n",
        "import math\n",
        "\n",
        "# import numpy as np\n",
        "# import matplotlib.pyplot as plt\n",
        "\n",
        "# Python Imaging Library imports\n",
        "# import Image\n",
        "from PIL import Image\n",
        "# import ImageDraw\n",
        "from PIL import ImageDraw\n",
        "\n",
        "\n",
        "\n",
        "# Import DiskFind utilities for PredatorEye.\n",
        "import sys\n",
        "sys.path.append('/content/drive/My Drive/PredatorEye/shared_code/')\n",
        "import DiskFind as df"
      ]
    },
    {
      "cell_type": "markdown",
      "source": [
        "# Generate uniform texture dataset"
      ],
      "metadata": {
        "id": "tMa0B_-6IIFC"
      }
    },
    {
      "cell_type": "code",
      "source": [
        "dataset_size = 1000\n",
        "image_size = 128\n",
        "image_depth = 3  # for RGB\n",
        "disk_radius = image_size * df.relative_disk_radius()\n",
        "\n",
        "def MakeUniformTextureDataset():\n",
        "    dataset_shape = (dataset_size, image_size, image_size, image_depth)\n",
        "    dataset = np.zeros(dataset_shape, dtype=np.float32)\n",
        "    return dataset\n",
        "\n",
        "def generateUniformExample():\n",
        "    bg_color = np.random.random_sample(image_depth)\n",
        "    fg_color = np.random.random_sample(image_depth)\n",
        "    # print('bg_color =', bg_color)\n",
        "    # print('fg_color =', fg_color)\n",
        "    image_shape = (image_size, image_size, image_depth)\n",
        "    image = np.full(image_shape, bg_color, dtype=np.float32)\n",
        "\n",
        "    def random_center():\n",
        "        s = image_size - (2 * disk_radius)\n",
        "        return (np.random.random_sample(2) * s) + disk_radius\n",
        "\n",
        "    # print('type(random_center()) =', type(random_center()))\n",
        "    # print('random_center().shape =', random_center().shape)\n",
        "    # print('random_center().dtype =', random_center().dtype)\n",
        "\n",
        "    centers = [random_center()]\n",
        "    min_dist = 3 * disk_radius\n",
        "    while len(centers) < 3:\n",
        "        c = random_center()\n",
        "        all_ok = True\n",
        "        for o in centers:\n",
        "            if (df.dist2d(c, o) < min_dist):\n",
        "                all_ok = False\n",
        "        if (all_ok):\n",
        "            centers.append(c)\n",
        "\n",
        "    # def draw_disk(center):\n",
        "    #     cx = int(center[0])\n",
        "    #     cy = int(center[1])\n",
        "    #     dr = int(disk_radius)\n",
        "    #     for x in range(cx - dr, cx + dr + 1):\n",
        "    #         for y in range(cy - dr, cy + dr + 1):\n",
        "    #             # o = [x - cx, y - cy]\n",
        "    #             # d = math.sqrt(math.pow(o[0], 2) + math.pow(o[1], 2))\n",
        "    #             d = math.sqrt(math.pow(x - cx, 2) + math.pow(y - cy, 2))\n",
        "    #             if (d <= dr):\n",
        "    #                 # image[x, y, :] = fg_color\n",
        "    #                 # image[x, y, :] = df.interpolate(d / dr, fg_color, bg_color)\n",
        "    #                 # blend = df.spot_utility((x,y), center, dr * 0.9, dr)\n",
        "    #                 blend = df.spot_utility((x,y), center, dr * 0.8, dr)\n",
        "    #                 # image[x, y, :] = df.interpolate(blend, fg_color, bg_color) \n",
        "    #                 image[x, y, :] = df.interpolate(blend, bg_color, fg_color) \n",
        "\n",
        "    def draw_disk(center, color):\n",
        "        cx = int(center[0])\n",
        "        cy = int(center[1])\n",
        "        dr = int(disk_radius)\n",
        "        for x in range(cx - dr, cx + dr + 1):\n",
        "            for y in range(cy - dr, cy + dr + 1):\n",
        "                # o = [x - cx, y - cy]\n",
        "                # d = math.sqrt(math.pow(o[0], 2) + math.pow(o[1], 2))\n",
        "                d = math.sqrt(math.pow(x - cx, 2) + math.pow(y - cy, 2))\n",
        "                if (d <= dr):\n",
        "                    # image[x, y, :] = fg_color\n",
        "                    # image[x, y, :] = df.interpolate(d / dr, fg_color, bg_color)\n",
        "                    # blend = df.spot_utility((x,y), center, dr * 0.9, dr)\n",
        "                    blend = df.spot_utility((x,y), center, dr * 0.8, dr)\n",
        "                    # image[x, y, :] = df.interpolate(blend, fg_color, bg_color) \n",
        "                    image[x, y, :] = df.interpolate(blend, bg_color, color) \n",
        "\n",
        "    # for c in centers:\n",
        "    #     draw_disk(c)\n",
        "\n",
        "    # draw_disk(centers[0], fg_color)\n",
        "    # draw_disk(centers[1], df.interpolate(0.33, fg_color, bg_color))\n",
        "    # draw_disk(centers[2], df.interpolate(0.66, fg_color, bg_color))\n",
        "\n",
        "    draw_disk(centers[0], fg_color)\n",
        "    draw_disk(centers[1], df.interpolate(0.50, fg_color, bg_color))\n",
        "    draw_disk(centers[2], df.interpolate(0.75, fg_color, bg_color))\n",
        "\n",
        "    df.draw_image(image)\n",
        "\n",
        "uniform_dataset = MakeUniformTextureDataset()\n",
        "# print('uniform_dataset.shape =', uniform_dataset.shape)\n",
        "# print('uniform_dataset.dtype =', uniform_dataset.dtype)\n",
        "\n",
        "print('df.sinusoid (0.00)', df.sinusoid (0.00))\n",
        "print('df.sinusoid (0.25)', df.sinusoid (0.25))\n",
        "print('df.sinusoid (0.50)', df.sinusoid (0.50))\n",
        "print('df.sinusoid (0.75)', df.sinusoid (0.75))\n",
        "print('df.sinusoid (1.00)', df.sinusoid (1.00))\n",
        "\n",
        "print('df.clip(-1, 0, 1) =', df.clip(-1, 0, 1))\n",
        "print('df.clip(0, 0, 1) =', df.clip(0, 0, 1))\n",
        "print('df.clip(0.5, 0, 1) =', df.clip(0.5, 0, 1))\n",
        "print('df.clip(1, 0, 1) =', df.clip(1, 0, 1))\n",
        "print('df.clip(2, 0, 1) =', df.clip(2, 0, 1))\n",
        "\n",
        "print('df.spot_utility(np.array([1,1]), np.array([1,1]), 0, 1) =',\n",
        "      df.spot_utility(np.array([1,1]), np.array([1,1]), 0, 1))\n",
        "print('df.spot_utility(np.array([1,1]), np.array([0,1]), 0, 1) =',\n",
        "      df.spot_utility(np.array([1,1]), np.array([0,1]), 0, 1))\n",
        "print('df.spot_utility(np.array([0.5,0.5]), np.array([1,1]), 0, 1) =',\n",
        "      df.spot_utility(np.array([0.5,0.5]), np.array([1,1]), 0, 1))\n",
        "\n",
        "\n",
        "print('df.interpolate(0, np.array([0, 0, 0]), np.array([0.1, 0.2, 0.3])) =',\n",
        "      df.interpolate(0, np.array([0, 0, 0]), np.array([0.1, 0.2, 0.3])))\n",
        "print('df.interpolate(0.5, np.array([0, 0, 0]), np.array([0.1, 0.2, 0.3])) =',\n",
        "      df.interpolate(0.5, np.array([0, 0, 0]), np.array([0.1, 0.2, 0.3])))\n",
        "print('df.interpolate(1, np.array([0, 0, 0]), np.array([0.1, 0.2, 0.3])) =',\n",
        "      df.interpolate(1, np.array([0, 0, 0]), np.array([0.1, 0.2, 0.3])))\n",
        "\n",
        "generateUniformExample()"
      ],
      "metadata": {
        "colab": {
          "base_uri": "https://localhost:8080/",
          "height": 546
        },
        "id": "pdjCCGblIGdW",
        "outputId": "6ad89add-abf8-4624-f50c-493f675748cf"
      },
      "execution_count": 24,
      "outputs": [
        {
          "output_type": "stream",
          "name": "stdout",
          "text": [
            "df.sinusoid (0.00) 0.0\n",
            "df.sinusoid (0.25) 0.1464466094067262\n",
            "df.sinusoid (0.50) 0.49999999999999994\n",
            "df.sinusoid (0.75) 0.8535533905932737\n",
            "df.sinusoid (1.00) 1.0\n",
            "df.clip(-1, 0, 1) = 0\n",
            "df.clip(0, 0, 1) = 0\n",
            "df.clip(0.5, 0, 1) = 0.5\n",
            "df.clip(1, 0, 1) = 1\n",
            "df.clip(2, 0, 1) = 1\n",
            "df.spot_utility(np.array([1,1]), np.array([1,1]), 0, 1) = 1.0\n",
            "df.spot_utility(np.array([1,1]), np.array([0,1]), 0, 1) = 0.0\n",
            "df.spot_utility(np.array([0.5,0.5]), np.array([1,1]), 0, 1) = 0.1971500664605933\n",
            "df.interpolate(0, np.array([0, 0, 0]), np.array([0.1, 0.2, 0.3])) = [0. 0. 0.]\n",
            "df.interpolate(0.5, np.array([0, 0, 0]), np.array([0.1, 0.2, 0.3])) = [0.05 0.1  0.15]\n",
            "df.interpolate(1, np.array([0, 0, 0]), np.array([0.1, 0.2, 0.3])) = [0.1 0.2 0.3]\n"
          ]
        },
        {
          "output_type": "display_data",
          "data": {
            "image/png": "[encoded data removed]",
            "text/plain": [
              "<Figure size 432x288 with 1 Axes>"
            ]
          },
          "metadata": {
            "needs_background": "light"
          }
        }
      ]
    }
  ]
}