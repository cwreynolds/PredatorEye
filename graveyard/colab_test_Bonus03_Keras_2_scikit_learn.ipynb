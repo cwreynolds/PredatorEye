{
  "nbformat": 4,
  "nbformat_minor": 0,
  "metadata": {
    "kernelspec": {
      "display_name": "Python 3 (ipykernel)",
      "language": "python",
      "name": "python3"
    },
    "language_info": {
      "codemirror_mode": {
        "name": "ipython",
        "version": 3
      },
      "file_extension": ".py",
      "mimetype": "text/x-python",
      "name": "python",
      "nbconvert_exporter": "python",
      "pygments_lexer": "ipython3",
      "version": "3.7.11"
    },
    "colab": {
      "name": "colab_test_Bonus03-Keras-2-scikit-learn.ipynb",
      "provenance": []
    },
    "accelerator": "GPU"
  },
  "cells": [
    {
      "cell_type": "markdown",
      "metadata": {
        "collapsed": true,
        "id": "ZwLhqLAYSc_i"
      },
      "source": [
        "# temp copy of Glassner's B3 Notebook 2\n",
        "\n",
        "## <small>\n",
        "Copyright (c) 2017-21 Andrew Glassner\n",
        "\n",
        "Permission is hereby granted, free of charge, to any person obtaining a copy of this software and associated documentation files (the \"Software\"), to deal in the Software without restriction, including without limitation the rights to use, copy, modify, merge, publish, distribute, sublicense, and/or sell copies of the Software, and to permit persons to whom the Software is furnished to do so, subject to the following conditions:\n",
        "\n",
        "The above copyright notice and this permission notice shall be included in all copies or substantial portions of the Software.\n",
        "\n",
        "THE SOFTWARE IS PROVIDED \"AS IS\", WITHOUT WARRANTY OF ANY KIND, EXPRESS OR IMPLIED, INCLUDING BUT NOT LIMITED TO THE WARRANTIES OF MERCHANTABILITY, FITNESS FOR A PARTICULAR PURPOSE AND NONINFRINGEMENT. IN NO EVENT SHALL THE AUTHORS OR COPYRIGHT HOLDERS BE LIABLE FOR ANY CLAIM, DAMAGES OR OTHER LIABILITY, WHETHER IN AN ACTION OF CONTRACT, TORT OR OTHERWISE, ARISING FROM, OUT OF OR IN CONNECTION WITH THE SOFTWARE OR THE USE OR OTHER DEALINGS IN THE SOFTWARE.\n",
        "</small>\n",
        "\n",
        "\n",
        "\n",
        "# Deep Learning: A Visual Approach\n",
        "## by Andrew Glassner, https://glassner.com\n",
        "### Order: https://nostarch.com/deep-learning-visual-approach\n",
        "### GitHub: https://github.com/blueberrymusic\n",
        "------\n",
        "\n",
        "### What's in this notebook\n",
        "\n",
        "This notebook is provided to help you work with Keras and TensorFlow. It accompanies the bonus chapters for my book. The code is in Python3, using the versions of libraries as of April 2021.\n",
        "\n",
        "Note that I've included the output cells in this saved notebook, but Jupyter doesn't save the variables or data that were used to generate them. To recreate any cell's output, evaluate all the cells from the start up to that cell. A convenient way to experiment is to first choose \"Restart & Run All\" from the Kernel menu, so that everything's been defined and is up to date. Then you can experiment using the variables, data, functions, and other stuff defined in this notebook.\n"
      ]
    },
    {
      "cell_type": "markdown",
      "metadata": {
        "id": "fqnCOFtASc_k"
      },
      "source": [
        "## Bonus Chapter 3 - Notebook 2: Keras with scikit-learn"
      ]
    },
    {
      "cell_type": "code",
      "metadata": {
        "colab": {
          "base_uri": "https://localhost:8080/"
        },
        "id": "1ThIheLzTzgc",
        "outputId": "f27b0c15-fa73-4b0a-8287-f689fae17b10"
      },
      "source": [
        "%tensorflow_version 2.x\n",
        "import tensorflow as tf\n",
        "device_name = tf.test.gpu_device_name()\n",
        "if device_name != '/device:GPU:0':\n",
        "  raise SystemError('GPU device not found')\n",
        "print('Found GPU at: {}'.format(device_name))"
      ],
      "execution_count": 1,
      "outputs": [
        {
          "output_type": "stream",
          "name": "stdout",
          "text": [
            "Found GPU at: /device:GPU:0\n"
          ]
        }
      ]
    },
    {
      "cell_type": "code",
      "metadata": {
        "id": "g4ElA2mlSc_l"
      },
      "source": [
        "from tensorflow.keras.datasets import mnist\n",
        "from tensorflow.keras.models import Sequential\n",
        "from tensorflow.keras.layers import Dense\n",
        "from tensorflow.keras.layers import Dropout\n",
        "from tensorflow.keras.constraints import MaxNorm\n",
        "from tensorflow.keras.callbacks import EarlyStopping\n",
        "from tensorflow.keras.wrappers.scikit_learn import KerasClassifier\n",
        "from tensorflow.keras.utils import to_categorical\n",
        "\n",
        "\n",
        "from sklearn.model_selection import StratifiedKFold\n",
        "from sklearn.model_selection import cross_val_score\n",
        "from sklearn.pipeline import make_pipeline, Pipeline\n",
        "from sklearn.model_selection import GridSearchCV\n",
        "from sklearn.preprocessing import MinMaxScaler\n",
        "\n",
        "import matplotlib.pyplot as plt\n",
        "import h5py\n",
        "import numpy as np\n",
        "\n",
        "from tensorflow.keras import backend as keras_backend\n",
        "keras_backend.set_image_data_format('channels_last')"
      ],
      "execution_count": 2,
      "outputs": []
    },
    {
      "cell_type": "code",
      "metadata": {
        "id": "mvUT3Zl4Sc_m"
      },
      "source": [
        "# Workaround for Keras issues on Mac computers (you can comment this\n",
        "# out if you're not on a Mac, or not having problems)\n",
        "# import os\n",
        "# os.environ['KMP_DUPLICATE_LIB_OK']='True'"
      ],
      "execution_count": null,
      "outputs": []
    },
    {
      "cell_type": "code",
      "metadata": {
        "id": "wDDorv5ZSc_m"
      },
      "source": [
        "# Make a File_Helper for saving and loading files.\n",
        "\n",
        "#save_files = True\n",
        "\n",
        "#import os, sys, inspect\n",
        "#current_dir = os.path.dirname(os.path.abspath(inspect.getfile(inspect.currentframe())))\n",
        "#sys.path.insert(0, os.path.dirname(current_dir)) # path to parent dir\n",
        "#from DLBasics_Utilities import File_Helper\n",
        "#file_helper = File_Helper(save_files)"
      ],
      "execution_count": null,
      "outputs": []
    },
    {
      "cell_type": "code",
      "metadata": {
        "colab": {
          "base_uri": "https://localhost:8080/"
        },
        "id": "AIWYOVuaSc_n",
        "outputId": "4271851a-7946-4174-f41e-417bff6c33cd"
      },
      "source": [
        "random_seed = 42\n",
        "np.random.seed(random_seed)\n",
        "\n",
        "# load the MNIST data\n",
        "(X_train, y_train), (X_test, y_test) = mnist.load_data()\n",
        "image_height = X_train.shape[1]\n",
        "image_width = X_train.shape[2]\n",
        "number_of_pixels = image_height * image_width\n",
        "\n",
        "# cast the sample data to the current Keras floating-point type\n",
        "X_train = keras_backend.cast_to_floatx(X_train)\n",
        "X_test = keras_backend.cast_to_floatx(X_test)\n",
        "\n",
        "# scale data to range [0, 1]\n",
        "X_train /= 255.0\n",
        "X_test /= 255.0\n",
        "\n",
        "# save y_train and y_test when used with scikit-learn\n",
        "original_y_train = y_train\n",
        "original_y_test = y_test\n",
        "\n",
        "# replace label data with one-hot encoded versions\n",
        "number_of_classes = 1 + max(np.append(y_train, y_test))\n",
        "y_train = to_categorical(y_train, number_of_classes)\n",
        "y_test = to_categorical(y_test, number_of_classes)\n",
        "\n",
        "# reshape to 2D grid, one line per image\n",
        "X_train = X_train.reshape(X_train.shape[0], number_of_pixels)\n",
        "X_test = X_test.reshape(X_test.shape[0], number_of_pixels)\n"
      ],
      "execution_count": 3,
      "outputs": [
        {
          "output_type": "stream",
          "name": "stdout",
          "text": [
            "Downloading data from https://storage.googleapis.com/tensorflow/tf-keras-datasets/mnist.npz\n",
            "11493376/11490434 [==============================] - 0s 0us/step\n",
            "11501568/11490434 [==============================] - 0s 0us/step\n"
          ]
        }
      ]
    },
    {
      "cell_type": "code",
      "metadata": {
        "id": "7sltwGjjSc_n"
      },
      "source": [
        "# Build a network of any number of (dense+ dropout) layers of the given size\n",
        "def make_model(number_of_layers=2, neurons_per_layer=32, dropout_ratio=0.2, optimizer='adam'):\n",
        "    model = Sequential()\n",
        "\n",
        "    # first layer is special, because it sets input_shape\n",
        "    model.add(Dense(neurons_per_layer, input_shape=[number_of_pixels],\n",
        "        activation='relu', kernel_constraint=MaxNorm(3)))\n",
        "    model.add(Dropout(dropout_ratio))\n",
        "    # now add in all the rest of the dense-dropout layers\n",
        "    for i in range(number_of_layers-1):\n",
        "        append_dense_dropout_layer(model, neurons_per_layer, dropout_ratio)\n",
        "    # wrap up with a softmax layer with 10 outputs\n",
        "    model.add(Dense(number_of_classes,  activation='softmax'))\n",
        "    # compile the model and return it\n",
        "    model.compile(loss='categorical_crossentropy',\n",
        "                  optimizer=optimizer, metrics=['accuracy'])\n",
        "    return model\n",
        "\n",
        "def append_dense_dropout_layer(model, neurons_per_layer, dropout_ratio):\n",
        "    model.add(Dense(neurons_per_layer, \n",
        "        activation='relu', kernel_constraint=MaxNorm(3)))\n",
        "    model.add(Dropout(dropout_ratio))"
      ],
      "execution_count": 4,
      "outputs": []
    },
    {
      "cell_type": "code",
      "metadata": {
        "colab": {
          "base_uri": "https://localhost:8080/"
        },
        "id": "yepi6vQpSc_o",
        "outputId": "689fd71e-5fa5-4282-ba83-170c63ebb0cf"
      },
      "source": [
        "# create the KerasClassifier that packages up our model maker for CV and grid search\n",
        "#\n",
        "# Wrap up our model-making function into a KerasClassifier, which\n",
        "# will make it behave like a standard scikit-learn estimator.  We'll\n",
        "# give all the arguments defaults which we can override later when\n",
        "# we build the model as part of cross-validation or grid search.\n",
        "# For instance, we will provide a value to number_of_layers, so this\n",
        "# value will be passed to number_of_layers when make_model() is called.\n",
        "#\n",
        "\n",
        "kc_model = KerasClassifier(build_fn=make_model,\n",
        "                          number_of_layers=2, neurons_per_layer=32,\n",
        "                          nb_epoch=100, batch_size=128, verbose=0)"
      ],
      "execution_count": 5,
      "outputs": [
        {
          "output_type": "stream",
          "name": "stderr",
          "text": [
            "/usr/local/lib/python3.7/dist-packages/ipykernel_launcher.py:13: DeprecationWarning: KerasClassifier is deprecated, use Sci-Keras (https://github.com/adriangb/scikeras) instead.\n",
            "  del sys.path[0]\n"
          ]
        }
      ]
    },
    {
      "cell_type": "code",
      "metadata": {
        "id": "FO3VmxQuSc_o"
      },
      "source": [
        "def run_grid_search(param_grid, filename, verbose=2):\n",
        "# Run the first grid search\n",
        "    np.random.seed(random_seed)\n",
        "    grid_searcher = GridSearchCV(estimator=pipeline, param_grid=param_grid, verbose=verbose)\n",
        "    search_results = grid_searcher.fit(X_train, original_y_train)\n",
        "\n",
        "    print('---- GRID SEARCH ----')\n",
        "    print('mean test scores: {}\\n'.format(search_results.cv_results_['mean_test_score']))\n",
        "    best_index = np.argmax(search_results.cv_results_['mean_test_score'])\n",
        "    print('best set of parameters:\\n  index {}\\n  {}\\n'.format(best_index, \n",
        "                                                               search_results.cv_results_['params'][best_index]))\n",
        "\n",
        "    params = search_results.cv_results_['params']\n",
        "    dict_vals = [params[i].values() for i in range(len(params))]\n",
        "    name_list =[[str(v) for v in dv] for dv in dict_vals]\n",
        "    xlabels = ['-'.join(name_list[i]) for i in range(len(name_list))]\n",
        "    plt.plot(search_results.cv_results_['mean_test_score'], 'r')\n",
        "    plt.xticks(np.arange(len(xlabels)), xlabels, rotation='vertical')\n",
        "    #file_helper.save_figure(filename+'-mean-test-scores')\n",
        "    plt.show()\n",
        "    return search_results"
      ],
      "execution_count": 10,
      "outputs": []
    },
    {
      "cell_type": "code",
      "metadata": {
        "colab": {
          "base_uri": "https://localhost:8080/"
        },
        "id": "vYaShNj6Sc_p",
        "outputId": "b480cf5d-fde0-4827-8843-146269fca01e"
      },
      "source": [
        "# Run cross validation on our data, without a normalization step (that is, no pipeline)\n",
        "np.random.seed(random_seed)\n",
        "kfold = StratifiedKFold(n_splits=10, shuffle=True, random_state=random_seed)\n",
        "cv_results1 = cross_val_score(kc_model, X_train, original_y_train, cv=kfold, verbose=2)\n",
        "print(\"results1 ={}\\nresults1.mean={}\".format(cv_results1, cv_results1.mean()))"
      ],
      "execution_count": 7,
      "outputs": [
        {
          "output_type": "stream",
          "name": "stderr",
          "text": [
            "[Parallel(n_jobs=1)]: Using backend SequentialBackend with 1 concurrent workers.\n"
          ]
        },
        {
          "output_type": "stream",
          "name": "stdout",
          "text": [
            "[CV] END .................................................... total time=   6.8s\n"
          ]
        },
        {
          "output_type": "stream",
          "name": "stderr",
          "text": [
            "[Parallel(n_jobs=1)]: Done   1 out of   1 | elapsed:    6.9s remaining:    0.0s\n"
          ]
        },
        {
          "output_type": "stream",
          "name": "stdout",
          "text": [
            "[CV] END .................................................... total time=   3.7s\n",
            "[CV] END .................................................... total time=   3.7s\n",
            "[CV] END .................................................... total time=   3.7s\n",
            "[CV] END .................................................... total time=   2.6s\n",
            "[CV] END .................................................... total time=   2.6s\n",
            "[CV] END .................................................... total time=   3.7s\n",
            "[CV] END .................................................... total time=   3.7s\n",
            "[CV] END .................................................... total time=   2.8s\n",
            "[CV] END .................................................... total time=   2.7s\n",
            "results1 =[0.91466665 0.91416669 0.9145     0.9173333  0.90783334 0.91533333\n",
            " 0.91566664 0.91233331 0.912      0.90700001]\n",
            "results1.mean=0.9130833268165588\n"
          ]
        },
        {
          "output_type": "stream",
          "name": "stderr",
          "text": [
            "[Parallel(n_jobs=1)]: Done  10 out of  10 | elapsed:   36.3s finished\n"
          ]
        }
      ]
    },
    {
      "cell_type": "code",
      "metadata": {
        "colab": {
          "base_uri": "https://localhost:8080/"
        },
        "id": "dYPqqQ1ESc_p",
        "outputId": "5334f08a-cc2c-4624-b0c9-909c941de930"
      },
      "source": [
        "# Run a CV step with a pipeline\n",
        "np.random.seed(random_seed)\n",
        "pipeline = make_pipeline(MinMaxScaler(), kc_model)\n",
        "kfold = StratifiedKFold(n_splits=10, shuffle=True, random_state=random_seed)\n",
        "cv_results2 = cross_val_score(pipeline, X_train, original_y_train, cv=kfold, verbose=2)\n",
        "print(\"results2 ={}\\nresults2.mean={}\".format(cv_results2, cv_results2.mean()))"
      ],
      "execution_count": 8,
      "outputs": [
        {
          "output_type": "stream",
          "name": "stderr",
          "text": [
            "[Parallel(n_jobs=1)]: Using backend SequentialBackend with 1 concurrent workers.\n"
          ]
        },
        {
          "output_type": "stream",
          "name": "stdout",
          "text": [
            "[CV] END .................................................... total time=   4.0s\n"
          ]
        },
        {
          "output_type": "stream",
          "name": "stderr",
          "text": [
            "[Parallel(n_jobs=1)]: Done   1 out of   1 | elapsed:    4.0s remaining:    0.0s\n"
          ]
        },
        {
          "output_type": "stream",
          "name": "stdout",
          "text": [
            "[CV] END .................................................... total time=   3.9s\n",
            "[CV] END .................................................... total time=   2.7s\n",
            "[CV] END .................................................... total time=   3.9s\n",
            "[CV] END .................................................... total time=   2.8s\n",
            "[CV] END .................................................... total time=   3.9s\n",
            "[CV] END .................................................... total time=   2.9s\n",
            "[CV] END .................................................... total time=   3.1s\n",
            "[CV] END .................................................... total time=   4.0s\n",
            "[CV] END .................................................... total time=   3.9s\n",
            "results2 =[0.90850002 0.90983331 0.91233331 0.91583335 0.90933335 0.91350001\n",
            " 0.91316664 0.90700001 0.91416669 0.91049999]\n",
            "results2.mean=0.9114166676998139\n"
          ]
        },
        {
          "output_type": "stream",
          "name": "stderr",
          "text": [
            "[Parallel(n_jobs=1)]: Done  10 out of  10 | elapsed:   35.2s finished\n"
          ]
        }
      ]
    },
    {
      "cell_type": "code",
      "metadata": {
        "colab": {
          "base_uri": "https://localhost:8080/",
          "height": 1000
        },
        "id": "Dygl3uT1Sc_p",
        "outputId": "f68cd6cf-092e-46b4-92ac-02b033f34011"
      },
      "source": [
        "# build a long-form, named pipeline for grid search steps\n",
        "estimators = []\n",
        "estimators.append(('normalize_step', MinMaxScaler()))\n",
        "estimators.append(('model_step', kc_model))\n",
        "pipeline = Pipeline(estimators)\n",
        "\n",
        "# Run the first grid search\n",
        "param_grid1 = dict(model_step__number_of_layers=[ 2, 3, 4 ],\n",
        "                   model_step__neurons_per_layer=[ 20, 30, 40 ],\n",
        "                   model_step__optimizer=[ 'adam', 'adadelta' ]) \n",
        "search_results1 = run_grid_search(param_grid1, 'GridSearch1')"
      ],
      "execution_count": 11,
      "outputs": [
        {
          "output_type": "stream",
          "name": "stdout",
          "text": [
            "Fitting 5 folds for each of 18 candidates, totalling 90 fits\n",
            "[CV] END model_step__neurons_per_layer=20, model_step__number_of_layers=2, model_step__optimizer=adam; total time=   2.6s\n",
            "[CV] END model_step__neurons_per_layer=20, model_step__number_of_layers=2, model_step__optimizer=adam; total time=   2.6s\n",
            "[CV] END model_step__neurons_per_layer=20, model_step__number_of_layers=2, model_step__optimizer=adam; total time=   2.6s\n",
            "[CV] END model_step__neurons_per_layer=20, model_step__number_of_layers=2, model_step__optimizer=adam; total time=   2.6s\n",
            "[CV] END model_step__neurons_per_layer=20, model_step__number_of_layers=2, model_step__optimizer=adam; total time=   2.5s\n",
            "[CV] END model_step__neurons_per_layer=20, model_step__number_of_layers=2, model_step__optimizer=adadelta; total time=   2.7s\n",
            "[CV] END model_step__neurons_per_layer=20, model_step__number_of_layers=2, model_step__optimizer=adadelta; total time=   3.1s\n",
            "[CV] END model_step__neurons_per_layer=20, model_step__number_of_layers=2, model_step__optimizer=adadelta; total time=   2.6s\n",
            "[CV] END model_step__neurons_per_layer=20, model_step__number_of_layers=2, model_step__optimizer=adadelta; total time=   2.8s\n",
            "[CV] END model_step__neurons_per_layer=20, model_step__number_of_layers=2, model_step__optimizer=adadelta; total time=   2.6s\n",
            "[CV] END model_step__neurons_per_layer=20, model_step__number_of_layers=3, model_step__optimizer=adam; total time=   2.9s\n",
            "[CV] END model_step__neurons_per_layer=20, model_step__number_of_layers=3, model_step__optimizer=adam; total time=   2.8s\n",
            "[CV] END model_step__neurons_per_layer=20, model_step__number_of_layers=3, model_step__optimizer=adam; total time=   2.8s\n",
            "[CV] END model_step__neurons_per_layer=20, model_step__number_of_layers=3, model_step__optimizer=adam; total time=   2.9s\n",
            "[CV] END model_step__neurons_per_layer=20, model_step__number_of_layers=3, model_step__optimizer=adam; total time=   2.8s\n",
            "[CV] END model_step__neurons_per_layer=20, model_step__number_of_layers=3, model_step__optimizer=adadelta; total time=   3.1s\n",
            "[CV] END model_step__neurons_per_layer=20, model_step__number_of_layers=3, model_step__optimizer=adadelta; total time=   2.9s\n",
            "[CV] END model_step__neurons_per_layer=20, model_step__number_of_layers=3, model_step__optimizer=adadelta; total time=   2.8s\n",
            "[CV] END model_step__neurons_per_layer=20, model_step__number_of_layers=3, model_step__optimizer=adadelta; total time=   4.2s\n",
            "[CV] END model_step__neurons_per_layer=20, model_step__number_of_layers=3, model_step__optimizer=adadelta; total time=   2.9s\n",
            "[CV] END model_step__neurons_per_layer=20, model_step__number_of_layers=4, model_step__optimizer=adam; total time=   3.1s\n",
            "[CV] END model_step__neurons_per_layer=20, model_step__number_of_layers=4, model_step__optimizer=adam; total time=   3.1s\n",
            "[CV] END model_step__neurons_per_layer=20, model_step__number_of_layers=4, model_step__optimizer=adam; total time=   3.0s\n",
            "[CV] END model_step__neurons_per_layer=20, model_step__number_of_layers=4, model_step__optimizer=adam; total time=   3.3s\n",
            "[CV] END model_step__neurons_per_layer=20, model_step__number_of_layers=4, model_step__optimizer=adam; total time=   3.0s\n",
            "[CV] END model_step__neurons_per_layer=20, model_step__number_of_layers=4, model_step__optimizer=adadelta; total time=   3.1s\n",
            "[CV] END model_step__neurons_per_layer=20, model_step__number_of_layers=4, model_step__optimizer=adadelta; total time=   4.3s\n",
            "[CV] END model_step__neurons_per_layer=20, model_step__number_of_layers=4, model_step__optimizer=adadelta; total time=   4.2s\n",
            "[CV] END model_step__neurons_per_layer=20, model_step__number_of_layers=4, model_step__optimizer=adadelta; total time=   3.1s\n",
            "[CV] END model_step__neurons_per_layer=20, model_step__number_of_layers=4, model_step__optimizer=adadelta; total time=   3.1s\n",
            "[CV] END model_step__neurons_per_layer=30, model_step__number_of_layers=2, model_step__optimizer=adam; total time=   2.9s\n",
            "[CV] END model_step__neurons_per_layer=30, model_step__number_of_layers=2, model_step__optimizer=adam; total time=   2.8s\n",
            "[CV] END model_step__neurons_per_layer=30, model_step__number_of_layers=2, model_step__optimizer=adam; total time=   2.7s\n",
            "[CV] END model_step__neurons_per_layer=30, model_step__number_of_layers=2, model_step__optimizer=adam; total time=   2.8s\n",
            "[CV] END model_step__neurons_per_layer=30, model_step__number_of_layers=2, model_step__optimizer=adam; total time=   2.5s\n",
            "[CV] END model_step__neurons_per_layer=30, model_step__number_of_layers=2, model_step__optimizer=adadelta; total time=   2.7s\n",
            "[CV] END model_step__neurons_per_layer=30, model_step__number_of_layers=2, model_step__optimizer=adadelta; total time=   2.5s\n",
            "[CV] END model_step__neurons_per_layer=30, model_step__number_of_layers=2, model_step__optimizer=adadelta; total time=   2.5s\n",
            "[CV] END model_step__neurons_per_layer=30, model_step__number_of_layers=2, model_step__optimizer=adadelta; total time=   2.7s\n",
            "[CV] END model_step__neurons_per_layer=30, model_step__number_of_layers=2, model_step__optimizer=adadelta; total time=   2.7s\n",
            "[CV] END model_step__neurons_per_layer=30, model_step__number_of_layers=3, model_step__optimizer=adam; total time=   3.2s\n",
            "[CV] END model_step__neurons_per_layer=30, model_step__number_of_layers=3, model_step__optimizer=adam; total time=   2.8s\n",
            "[CV] END model_step__neurons_per_layer=30, model_step__number_of_layers=3, model_step__optimizer=adam; total time=   2.8s\n",
            "[CV] END model_step__neurons_per_layer=30, model_step__number_of_layers=3, model_step__optimizer=adam; total time=   2.8s\n",
            "[CV] END model_step__neurons_per_layer=30, model_step__number_of_layers=3, model_step__optimizer=adam; total time=   2.8s\n",
            "[CV] END model_step__neurons_per_layer=30, model_step__number_of_layers=3, model_step__optimizer=adadelta; total time=   2.8s\n",
            "[CV] END model_step__neurons_per_layer=30, model_step__number_of_layers=3, model_step__optimizer=adadelta; total time=   2.9s\n",
            "[CV] END model_step__neurons_per_layer=30, model_step__number_of_layers=3, model_step__optimizer=adadelta; total time=   2.9s\n",
            "[CV] END model_step__neurons_per_layer=30, model_step__number_of_layers=3, model_step__optimizer=adadelta; total time=   3.2s\n",
            "[CV] END model_step__neurons_per_layer=30, model_step__number_of_layers=3, model_step__optimizer=adadelta; total time=   2.8s\n",
            "[CV] END model_step__neurons_per_layer=30, model_step__number_of_layers=4, model_step__optimizer=adam; total time=   3.1s\n",
            "[CV] END model_step__neurons_per_layer=30, model_step__number_of_layers=4, model_step__optimizer=adam; total time=   3.0s\n",
            "[CV] END model_step__neurons_per_layer=30, model_step__number_of_layers=4, model_step__optimizer=adam; total time=   3.0s\n",
            "[CV] END model_step__neurons_per_layer=30, model_step__number_of_layers=4, model_step__optimizer=adam; total time=   3.0s\n",
            "[CV] END model_step__neurons_per_layer=30, model_step__number_of_layers=4, model_step__optimizer=adam; total time=   4.3s\n",
            "[CV] END model_step__neurons_per_layer=30, model_step__number_of_layers=4, model_step__optimizer=adadelta; total time=   3.4s\n",
            "[CV] END model_step__neurons_per_layer=30, model_step__number_of_layers=4, model_step__optimizer=adadelta; total time=   4.2s\n",
            "[CV] END model_step__neurons_per_layer=30, model_step__number_of_layers=4, model_step__optimizer=adadelta; total time=   3.1s\n",
            "[CV] END model_step__neurons_per_layer=30, model_step__number_of_layers=4, model_step__optimizer=adadelta; total time=   4.2s\n",
            "[CV] END model_step__neurons_per_layer=30, model_step__number_of_layers=4, model_step__optimizer=adadelta; total time=   3.0s\n",
            "[CV] END model_step__neurons_per_layer=40, model_step__number_of_layers=2, model_step__optimizer=adam; total time=   2.6s\n",
            "[CV] END model_step__neurons_per_layer=40, model_step__number_of_layers=2, model_step__optimizer=adam; total time=   2.5s\n",
            "[CV] END model_step__neurons_per_layer=40, model_step__number_of_layers=2, model_step__optimizer=adam; total time=   2.6s\n",
            "[CV] END model_step__neurons_per_layer=40, model_step__number_of_layers=2, model_step__optimizer=adam; total time=   2.7s\n",
            "[CV] END model_step__neurons_per_layer=40, model_step__number_of_layers=2, model_step__optimizer=adam; total time=   2.9s\n",
            "[CV] END model_step__neurons_per_layer=40, model_step__number_of_layers=2, model_step__optimizer=adadelta; total time=   2.5s\n",
            "[CV] END model_step__neurons_per_layer=40, model_step__number_of_layers=2, model_step__optimizer=adadelta; total time=   2.5s\n",
            "[CV] END model_step__neurons_per_layer=40, model_step__number_of_layers=2, model_step__optimizer=adadelta; total time=   2.5s\n",
            "[CV] END model_step__neurons_per_layer=40, model_step__number_of_layers=2, model_step__optimizer=adadelta; total time=   2.5s\n",
            "[CV] END model_step__neurons_per_layer=40, model_step__number_of_layers=2, model_step__optimizer=adadelta; total time=   2.7s\n",
            "[CV] END model_step__neurons_per_layer=40, model_step__number_of_layers=3, model_step__optimizer=adam; total time=   2.8s\n",
            "[CV] END model_step__neurons_per_layer=40, model_step__number_of_layers=3, model_step__optimizer=adam; total time=   2.7s\n",
            "[CV] END model_step__neurons_per_layer=40, model_step__number_of_layers=3, model_step__optimizer=adam; total time=   2.9s\n",
            "[CV] END model_step__neurons_per_layer=40, model_step__number_of_layers=3, model_step__optimizer=adam; total time=   2.9s\n",
            "[CV] END model_step__neurons_per_layer=40, model_step__number_of_layers=3, model_step__optimizer=adam; total time=   3.4s\n",
            "[CV] END model_step__neurons_per_layer=40, model_step__number_of_layers=3, model_step__optimizer=adadelta; total time=   2.8s\n",
            "[CV] END model_step__neurons_per_layer=40, model_step__number_of_layers=3, model_step__optimizer=adadelta; total time=   2.8s\n",
            "[CV] END model_step__neurons_per_layer=40, model_step__number_of_layers=3, model_step__optimizer=adadelta; total time=   2.8s\n",
            "[CV] END model_step__neurons_per_layer=40, model_step__number_of_layers=3, model_step__optimizer=adadelta; total time=   2.8s\n",
            "[CV] END model_step__neurons_per_layer=40, model_step__number_of_layers=3, model_step__optimizer=adadelta; total time=   2.8s\n",
            "[CV] END model_step__neurons_per_layer=40, model_step__number_of_layers=4, model_step__optimizer=adam; total time=   3.0s\n",
            "[CV] END model_step__neurons_per_layer=40, model_step__number_of_layers=4, model_step__optimizer=adam; total time=   4.3s\n",
            "[CV] END model_step__neurons_per_layer=40, model_step__number_of_layers=4, model_step__optimizer=adam; total time=   4.5s\n",
            "[CV] END model_step__neurons_per_layer=40, model_step__number_of_layers=4, model_step__optimizer=adam; total time=   4.3s\n",
            "[CV] END model_step__neurons_per_layer=40, model_step__number_of_layers=4, model_step__optimizer=adam; total time=   3.0s\n",
            "[CV] END model_step__neurons_per_layer=40, model_step__number_of_layers=4, model_step__optimizer=adadelta; total time=   3.1s\n",
            "[CV] END model_step__neurons_per_layer=40, model_step__number_of_layers=4, model_step__optimizer=adadelta; total time=   3.1s\n",
            "[CV] END model_step__neurons_per_layer=40, model_step__number_of_layers=4, model_step__optimizer=adadelta; total time=   3.1s\n",
            "[CV] END model_step__neurons_per_layer=40, model_step__number_of_layers=4, model_step__optimizer=adadelta; total time=   4.2s\n",
            "[CV] END model_step__neurons_per_layer=40, model_step__number_of_layers=4, model_step__optimizer=adadelta; total time=   3.4s\n",
            "---- GRID SEARCH ----\n",
            "mean test scores: [0.88753333 0.08995    0.85993332 0.10166666 0.82073332 0.09358333\n",
            " 0.90636667 0.09911667 0.89936666 0.09711667 0.89533334 0.09056667\n",
            " 0.91460001 0.10325    0.9147     0.13303333 0.90806665 0.09633333]\n",
            "\n",
            "best set of parameters:\n",
            "  index 14\n",
            "  {'model_step__neurons_per_layer': 40, 'model_step__number_of_layers': 3, 'model_step__optimizer': 'adam'}\n",
            "\n"
          ]
        },
        {
          "output_type": "display_data",
          "data": {
            "image/png": "[encoded data removed]",
            "text/plain": [
              "<Figure size 432x288 with 1 Axes>"
            ]
          },
          "metadata": {
            "needs_background": "light"
          }
        }
      ]
    },
    {
      "cell_type": "code",
      "metadata": {
        "colab": {
          "base_uri": "https://localhost:8080/"
        },
        "id": "SSwLKsp4Sc_q",
        "outputId": "47d55d7b-93b9-461c-9161-2393ec26f244"
      },
      "source": [
        "search_results1.cv_results_['mean_test_score']"
      ],
      "execution_count": 12,
      "outputs": [
        {
          "output_type": "execute_result",
          "data": {
            "text/plain": [
              "array([0.88753333, 0.08995   , 0.85993332, 0.10166666, 0.82073332,\n",
              "       0.09358333, 0.90636667, 0.09911667, 0.89936666, 0.09711667,\n",
              "       0.89533334, 0.09056667, 0.91460001, 0.10325   , 0.9147    ,\n",
              "       0.13303333, 0.90806665, 0.09633333])"
            ]
          },
          "metadata": {},
          "execution_count": 12
        }
      ]
    },
    {
      "cell_type": "code",
      "metadata": {
        "colab": {
          "base_uri": "https://localhost:8080/"
        },
        "id": "07dgHLhMSc_q",
        "outputId": "e0751339-9ec3-4908-b61e-ef7a4b936686"
      },
      "source": [
        "best_index1 = np.argmax(search_results1.cv_results_['mean_test_score'])\n",
        "print('best set of parameters:\\n  index {}\\n  {}\\n'.format(\n",
        "              best_index1, search_results1.cv_results_['params'][best_index1]))"
      ],
      "execution_count": 13,
      "outputs": [
        {
          "output_type": "stream",
          "name": "stdout",
          "text": [
            "best set of parameters:\n",
            "  index 14\n",
            "  {'model_step__neurons_per_layer': 40, 'model_step__number_of_layers': 3, 'model_step__optimizer': 'adam'}\n",
            "\n"
          ]
        }
      ]
    },
    {
      "cell_type": "code",
      "metadata": {
        "colab": {
          "base_uri": "https://localhost:8080/",
          "height": 1000
        },
        "id": "UPgKIbI3Sc_q",
        "outputId": "570c03ed-6b38-45b3-9988-87b56ed38006"
      },
      "source": [
        "param_grid2 = dict(model_step__number_of_layers=[ 1, 2],\n",
        "                  model_step__neurons_per_layer=[ 50, 80, 110, 140, 170 ]) \n",
        "search_results2 = run_grid_search(param_grid2, 'GridSearch2')"
      ],
      "execution_count": 14,
      "outputs": [
        {
          "output_type": "stream",
          "name": "stdout",
          "text": [
            "Fitting 5 folds for each of 10 candidates, totalling 50 fits\n",
            "[CV] END model_step__neurons_per_layer=50, model_step__number_of_layers=1; total time=   2.3s\n",
            "[CV] END model_step__neurons_per_layer=50, model_step__number_of_layers=1; total time=   2.7s\n",
            "[CV] END model_step__neurons_per_layer=50, model_step__number_of_layers=1; total time=   2.3s\n",
            "[CV] END model_step__neurons_per_layer=50, model_step__number_of_layers=1; total time=   2.3s\n",
            "[CV] END model_step__neurons_per_layer=50, model_step__number_of_layers=1; total time=   2.7s\n",
            "[CV] END model_step__neurons_per_layer=50, model_step__number_of_layers=2; total time=   2.7s\n",
            "[CV] END model_step__neurons_per_layer=50, model_step__number_of_layers=2; total time=   2.7s\n",
            "[CV] END model_step__neurons_per_layer=50, model_step__number_of_layers=2; total time=   2.8s\n",
            "[CV] END model_step__neurons_per_layer=50, model_step__number_of_layers=2; total time=   2.8s\n",
            "[CV] END model_step__neurons_per_layer=50, model_step__number_of_layers=2; total time=   2.9s\n",
            "[CV] END model_step__neurons_per_layer=80, model_step__number_of_layers=1; total time=   2.6s\n",
            "[CV] END model_step__neurons_per_layer=80, model_step__number_of_layers=1; total time=   2.6s\n",
            "[CV] END model_step__neurons_per_layer=80, model_step__number_of_layers=1; total time=   2.6s\n",
            "[CV] END model_step__neurons_per_layer=80, model_step__number_of_layers=1; total time=   2.6s\n",
            "[CV] END model_step__neurons_per_layer=80, model_step__number_of_layers=1; total time=   2.6s\n",
            "[CV] END model_step__neurons_per_layer=80, model_step__number_of_layers=2; total time=   2.7s\n",
            "[CV] END model_step__neurons_per_layer=80, model_step__number_of_layers=2; total time=   2.5s\n",
            "[CV] END model_step__neurons_per_layer=80, model_step__number_of_layers=2; total time=   2.6s\n",
            "[CV] END model_step__neurons_per_layer=80, model_step__number_of_layers=2; total time=   2.8s\n",
            "[CV] END model_step__neurons_per_layer=80, model_step__number_of_layers=2; total time=   2.7s\n",
            "[CV] END model_step__neurons_per_layer=110, model_step__number_of_layers=1; total time=   3.0s\n",
            "[CV] END model_step__neurons_per_layer=110, model_step__number_of_layers=1; total time=   2.6s\n",
            "[CV] END model_step__neurons_per_layer=110, model_step__number_of_layers=1; total time=   2.2s\n",
            "[CV] END model_step__neurons_per_layer=110, model_step__number_of_layers=1; total time=   2.3s\n",
            "[CV] END model_step__neurons_per_layer=110, model_step__number_of_layers=1; total time=   2.7s\n",
            "[CV] END model_step__neurons_per_layer=110, model_step__number_of_layers=2; total time=   2.6s\n",
            "[CV] END model_step__neurons_per_layer=110, model_step__number_of_layers=2; total time=   2.6s\n",
            "[CV] END model_step__neurons_per_layer=110, model_step__number_of_layers=2; total time=   2.6s\n",
            "[CV] END model_step__neurons_per_layer=110, model_step__number_of_layers=2; total time=   2.6s\n",
            "[CV] END model_step__neurons_per_layer=110, model_step__number_of_layers=2; total time=   2.5s\n",
            "[CV] END model_step__neurons_per_layer=140, model_step__number_of_layers=1; total time=   2.7s\n",
            "[CV] END model_step__neurons_per_layer=140, model_step__number_of_layers=1; total time=   2.7s\n",
            "[CV] END model_step__neurons_per_layer=140, model_step__number_of_layers=1; total time=   2.7s\n",
            "[CV] END model_step__neurons_per_layer=140, model_step__number_of_layers=1; total time=   2.3s\n",
            "[CV] END model_step__neurons_per_layer=140, model_step__number_of_layers=1; total time=   2.6s\n",
            "[CV] END model_step__neurons_per_layer=140, model_step__number_of_layers=2; total time=   2.7s\n",
            "[CV] END model_step__neurons_per_layer=140, model_step__number_of_layers=2; total time=   2.6s\n",
            "[CV] END model_step__neurons_per_layer=140, model_step__number_of_layers=2; total time=   2.6s\n",
            "[CV] END model_step__neurons_per_layer=140, model_step__number_of_layers=2; total time=   2.7s\n",
            "[CV] END model_step__neurons_per_layer=140, model_step__number_of_layers=2; total time=   2.8s\n",
            "[CV] END model_step__neurons_per_layer=170, model_step__number_of_layers=1; total time=   2.4s\n",
            "[CV] END model_step__neurons_per_layer=170, model_step__number_of_layers=1; total time=   3.0s\n",
            "[CV] END model_step__neurons_per_layer=170, model_step__number_of_layers=1; total time=   2.6s\n",
            "[CV] END model_step__neurons_per_layer=170, model_step__number_of_layers=1; total time=   2.6s\n",
            "[CV] END model_step__neurons_per_layer=170, model_step__number_of_layers=1; total time=   2.6s\n",
            "[CV] END model_step__neurons_per_layer=170, model_step__number_of_layers=2; total time=   2.6s\n",
            "[CV] END model_step__neurons_per_layer=170, model_step__number_of_layers=2; total time=   2.7s\n",
            "[CV] END model_step__neurons_per_layer=170, model_step__number_of_layers=2; total time=   2.7s\n",
            "[CV] END model_step__neurons_per_layer=170, model_step__number_of_layers=2; total time=   2.6s\n",
            "[CV] END model_step__neurons_per_layer=170, model_step__number_of_layers=2; total time=   2.6s\n",
            "---- GRID SEARCH ----\n",
            "mean test scores: [0.91883333 0.9214     0.92625    0.93396666 0.93128333 0.94171667\n",
            " 0.93678334 0.94421667 0.94025    0.94704999]\n",
            "\n",
            "best set of parameters:\n",
            "  index 9\n",
            "  {'model_step__neurons_per_layer': 170, 'model_step__number_of_layers': 2}\n",
            "\n"
          ]
        },
        {
          "output_type": "display_data",
          "data": {
            "image/png": "[encoded data removed]",
            "text/plain": [
              "<Figure size 432x288 with 1 Axes>"
            ]
          },
          "metadata": {
            "needs_background": "light"
          }
        }
      ]
    },
    {
      "cell_type": "code",
      "metadata": {
        "colab": {
          "base_uri": "https://localhost:8080/",
          "height": 1000
        },
        "id": "L87NCR1iSc_r",
        "outputId": "306205a7-32be-44c1-c1b1-65da9e42d224"
      },
      "source": [
        "param_grid3 = dict(model_step__number_of_layers=[ 1, 2],\n",
        "                  model_step__neurons_per_layer=[ 180, 280, 380, 480, 580 ]) \n",
        "search_results3 = run_grid_search(param_grid3, 'GridSearch3')"
      ],
      "execution_count": 15,
      "outputs": [
        {
          "output_type": "stream",
          "name": "stdout",
          "text": [
            "Fitting 5 folds for each of 10 candidates, totalling 50 fits\n",
            "[CV] END model_step__neurons_per_layer=180, model_step__number_of_layers=1; total time=   2.4s\n",
            "[CV] END model_step__neurons_per_layer=180, model_step__number_of_layers=1; total time=   2.6s\n",
            "[CV] END model_step__neurons_per_layer=180, model_step__number_of_layers=1; total time=   2.3s\n",
            "[CV] END model_step__neurons_per_layer=180, model_step__number_of_layers=1; total time=   2.6s\n",
            "[CV] END model_step__neurons_per_layer=180, model_step__number_of_layers=1; total time=   2.7s\n",
            "[CV] END model_step__neurons_per_layer=180, model_step__number_of_layers=2; total time=   2.7s\n",
            "[CV] END model_step__neurons_per_layer=180, model_step__number_of_layers=2; total time=   2.6s\n",
            "[CV] END model_step__neurons_per_layer=180, model_step__number_of_layers=2; total time=   2.8s\n",
            "[CV] END model_step__neurons_per_layer=180, model_step__number_of_layers=2; total time=   2.8s\n",
            "[CV] END model_step__neurons_per_layer=180, model_step__number_of_layers=2; total time=   2.7s\n",
            "[CV] END model_step__neurons_per_layer=280, model_step__number_of_layers=1; total time=   2.4s\n",
            "[CV] END model_step__neurons_per_layer=280, model_step__number_of_layers=1; total time=   2.7s\n",
            "[CV] END model_step__neurons_per_layer=280, model_step__number_of_layers=1; total time=   2.6s\n",
            "[CV] END model_step__neurons_per_layer=280, model_step__number_of_layers=1; total time=   3.0s\n",
            "[CV] END model_step__neurons_per_layer=280, model_step__number_of_layers=1; total time=   2.4s\n",
            "[CV] END model_step__neurons_per_layer=280, model_step__number_of_layers=2; total time=   2.7s\n",
            "[CV] END model_step__neurons_per_layer=280, model_step__number_of_layers=2; total time=   2.8s\n",
            "[CV] END model_step__neurons_per_layer=280, model_step__number_of_layers=2; total time=   2.7s\n",
            "[CV] END model_step__neurons_per_layer=280, model_step__number_of_layers=2; total time=   2.6s\n",
            "[CV] END model_step__neurons_per_layer=280, model_step__number_of_layers=2; total time=   2.7s\n",
            "[CV] END model_step__neurons_per_layer=380, model_step__number_of_layers=1; total time=   2.4s\n",
            "[CV] END model_step__neurons_per_layer=380, model_step__number_of_layers=1; total time=   2.6s\n",
            "[CV] END model_step__neurons_per_layer=380, model_step__number_of_layers=1; total time=   2.6s\n",
            "[CV] END model_step__neurons_per_layer=380, model_step__number_of_layers=1; total time=   2.6s\n",
            "[CV] END model_step__neurons_per_layer=380, model_step__number_of_layers=1; total time=   2.7s\n",
            "[CV] END model_step__neurons_per_layer=380, model_step__number_of_layers=2; total time=   2.8s\n",
            "[CV] END model_step__neurons_per_layer=380, model_step__number_of_layers=2; total time=   2.8s\n",
            "[CV] END model_step__neurons_per_layer=380, model_step__number_of_layers=2; total time=   2.7s\n",
            "[CV] END model_step__neurons_per_layer=380, model_step__number_of_layers=2; total time=   2.8s\n",
            "[CV] END model_step__neurons_per_layer=380, model_step__number_of_layers=2; total time=   2.8s\n",
            "[CV] END model_step__neurons_per_layer=480, model_step__number_of_layers=1; total time=   2.6s\n",
            "[CV] END model_step__neurons_per_layer=480, model_step__number_of_layers=1; total time=   2.6s\n",
            "[CV] END model_step__neurons_per_layer=480, model_step__number_of_layers=1; total time=   2.7s\n",
            "[CV] END model_step__neurons_per_layer=480, model_step__number_of_layers=1; total time=   2.6s\n",
            "[CV] END model_step__neurons_per_layer=480, model_step__number_of_layers=1; total time=   2.6s\n",
            "[CV] END model_step__neurons_per_layer=480, model_step__number_of_layers=2; total time=   4.4s\n",
            "[CV] END model_step__neurons_per_layer=480, model_step__number_of_layers=2; total time=   4.0s\n",
            "[CV] END model_step__neurons_per_layer=480, model_step__number_of_layers=2; total time=   2.9s\n",
            "[CV] END model_step__neurons_per_layer=480, model_step__number_of_layers=2; total time=   3.0s\n",
            "[CV] END model_step__neurons_per_layer=480, model_step__number_of_layers=2; total time=   3.0s\n",
            "[CV] END model_step__neurons_per_layer=580, model_step__number_of_layers=1; total time=   2.6s\n",
            "[CV] END model_step__neurons_per_layer=580, model_step__number_of_layers=1; total time=   2.6s\n",
            "[CV] END model_step__neurons_per_layer=580, model_step__number_of_layers=1; total time=   2.7s\n",
            "[CV] END model_step__neurons_per_layer=580, model_step__number_of_layers=1; total time=   2.7s\n",
            "[CV] END model_step__neurons_per_layer=580, model_step__number_of_layers=1; total time=   2.6s\n",
            "[CV] END model_step__neurons_per_layer=580, model_step__number_of_layers=2; total time=   3.4s\n",
            "[CV] END model_step__neurons_per_layer=580, model_step__number_of_layers=2; total time=   3.1s\n",
            "[CV] END model_step__neurons_per_layer=580, model_step__number_of_layers=2; total time=   4.0s\n",
            "[CV] END model_step__neurons_per_layer=580, model_step__number_of_layers=2; total time=   3.0s\n",
            "[CV] END model_step__neurons_per_layer=580, model_step__number_of_layers=2; total time=   4.0s\n",
            "---- GRID SEARCH ----\n",
            "mean test scores: [0.93936666 0.94906665 0.94453332 0.95379999 0.9485     0.95881666\n",
            " 0.95066668 0.96071665 0.95180001 0.96105001]\n",
            "\n",
            "best set of parameters:\n",
            "  index 9\n",
            "  {'model_step__neurons_per_layer': 580, 'model_step__number_of_layers': 2}\n",
            "\n"
          ]
        },
        {
          "output_type": "display_data",
          "data": {
            "image/png": "[encoded data removed]",
            "text/plain": [
              "<Figure size 432x288 with 1 Axes>"
            ]
          },
          "metadata": {
            "needs_background": "light"
          }
        }
      ]
    },
    {
      "cell_type": "code",
      "metadata": {
        "id": "T0mK_nXcSc_r"
      },
      "source": [
        "###################################################\n",
        "# example from CoLab doc: CPU vs GPU\n",
        "###################################################"
      ],
      "execution_count": 16,
      "outputs": []
    },
    {
      "cell_type": "code",
      "metadata": {
        "colab": {
          "base_uri": "https://localhost:8080/"
        },
        "id": "jlvYVet1Sc_r",
        "outputId": "927357da-8443-4817-e1db-d8f8a801519f"
      },
      "source": [
        "%tensorflow_version 2.x\n",
        "import tensorflow as tf\n",
        "import timeit\n",
        "\n",
        "device_name = tf.test.gpu_device_name()\n",
        "if device_name != '/device:GPU:0':\n",
        "  print(\n",
        "      '\\n\\nThis error most likely means that this notebook is not '\n",
        "      'configured to use a GPU.  Change this in Notebook Settings via the '\n",
        "      'command palette (cmd/ctrl-shift-P) or the Edit menu.\\n\\n')\n",
        "  raise SystemError('GPU device not found')\n",
        "\n",
        "def cpu():\n",
        "  with tf.device('/cpu:0'):\n",
        "    random_image_cpu = tf.random.normal((100, 100, 100, 3))\n",
        "    net_cpu = tf.keras.layers.Conv2D(32, 7)(random_image_cpu)\n",
        "    return tf.math.reduce_sum(net_cpu)\n",
        "\n",
        "def gpu():\n",
        "  with tf.device('/device:GPU:0'):\n",
        "    random_image_gpu = tf.random.normal((100, 100, 100, 3))\n",
        "    net_gpu = tf.keras.layers.Conv2D(32, 7)(random_image_gpu)\n",
        "    return tf.math.reduce_sum(net_gpu)\n",
        "  \n",
        "# We run each op once to warm up; see: https://stackoverflow.com/a/45067900\n",
        "cpu()\n",
        "gpu()\n",
        "\n",
        "# Run the op several times.\n",
        "print('Time (s) to convolve 32x7x7x3 filter over random 100x100x100x3 images '\n",
        "      '(batch x height x width x channel). Sum of ten runs.')\n",
        "print('CPU (s):')\n",
        "cpu_time = timeit.timeit('cpu()', number=10, setup=\"from __main__ import cpu\")\n",
        "print(cpu_time)\n",
        "print('GPU (s):')\n",
        "gpu_time = timeit.timeit('gpu()', number=10, setup=\"from __main__ import gpu\")\n",
        "print(gpu_time)\n",
        "print('GPU speedup over CPU: {}x'.format(int(cpu_time/gpu_time)))"
      ],
      "execution_count": 17,
      "outputs": [
        {
          "output_type": "stream",
          "name": "stdout",
          "text": [
            "Time (s) to convolve 32x7x7x3 filter over random 100x100x100x3 images (batch x height x width x channel). Sum of ten runs.\n",
            "CPU (s):\n",
            "3.499391739999737\n",
            "GPU (s):\n",
            "0.05467827700022099\n",
            "GPU speedup over CPU: 63x\n"
          ]
        }
      ]
    }
  ]
}