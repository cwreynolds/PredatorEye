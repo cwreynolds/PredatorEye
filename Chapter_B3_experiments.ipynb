{
 "cells": [
  {
   "cell_type": "code",
   "execution_count": 2,
   "id": "da706d46",
   "metadata": {},
   "outputs": [],
   "source": [
    "########################################################\n",
    "# Bonus Chapter 3 - Notebook 1: Improving the model\n",
    "########################################################\n",
    "\n",
    "from tensorflow.keras.datasets import mnist\n",
    "from tensorflow.keras.models import Sequential\n",
    "from tensorflow.keras.layers import Dense\n",
    "from tensorflow.keras.utils import to_categorical\n",
    "from tensorflow.keras.models import load_model\n",
    "from tensorflow.keras.callbacks import EarlyStopping\n",
    "from tensorflow.keras.optimizers import Adam\n",
    "from tensorflow.keras.layers import Dropout\n",
    "from tensorflow.keras.constraints import MaxNorm\n",
    "import h5py\n",
    "import numpy as np\n",
    "\n",
    "from tensorflow.keras import backend as keras_backend\n",
    "keras_backend.set_image_data_format('channels_last')"
   ]
  },
  {
   "cell_type": "code",
   "execution_count": 3,
   "id": "1a36a7a5",
   "metadata": {},
   "outputs": [],
   "source": [
    "# Workaround for Keras issues on Mac computers (you can comment this\n",
    "# out if you're not on a Mac, or not having problems)\n",
    "# import os\n",
    "# os.environ['KMP_DUPLICATE_LIB_OK']='True'"
   ]
  },
  {
   "cell_type": "code",
   "execution_count": 4,
   "id": "2b885e79",
   "metadata": {},
   "outputs": [],
   "source": [
    "# Load and process the MNIST data\n",
    "\n",
    "random_seed = 42\n",
    "\n",
    "# load the MNIST data\n",
    "(X_train, y_train), (X_test, y_test) = mnist.load_data()\n",
    "image_height = X_train.shape[1]\n",
    "image_width = X_train.shape[2]\n",
    "number_of_pixels = image_height * image_width\n",
    "\n",
    "# cast the sample data to the current Keras floating-point type\n",
    "X_train = keras_backend.cast_to_floatx(X_train)\n",
    "X_test = keras_backend.cast_to_floatx(X_test)\n",
    "\n",
    "# scale data to range [0, 1]\n",
    "X_train /= 255.0\n",
    "X_test /= 255.0\n",
    "\n",
    "# save labels in their non-one-hot form\n",
    "original_y_train = np.copy(y_train)\n",
    "original_y_test = np.copy(y_test)\n",
    "\n",
    "# replace label data with one-hot encoded versions\n",
    "number_of_classes = 1 + max(np.append(y_train, y_test))\n",
    "y_train = to_categorical(y_train, number_of_classes)\n",
    "y_test = to_categorical(y_test, number_of_classes)\n",
    "\n",
    "# reshape to 2D grid, one line per image\n",
    "X_train = X_train.reshape(X_train.shape[0], number_of_pixels)\n",
    "X_test = X_test.reshape(X_test.shape[0], number_of_pixels)"
   ]
  },
  {
   "cell_type": "code",
   "execution_count": 5,
   "id": "1ef8f398",
   "metadata": {},
   "outputs": [],
   "source": [
    "# These variables are assigned during our pre-processing step. \n",
    "# We'll just assign them directly here for this demonstration.\n",
    "number_of_pixels = 28*28  # size of an MNIST image\n",
    "number_of_classes = 10    # MNIST images are digits 0 to 9\n",
    "\n",
    "def make_one_hidden_layer_model():\n",
    "    # create an empty model\n",
    "    model = Sequential()\n",
    "    # add a fully-connected hidden layer with #nodes = #pixels\n",
    "    model.add(Dense(number_of_pixels, activation='relu',\n",
    "                    input_shape=[number_of_pixels]))\n",
    "    # add an output layer with softmax activation\n",
    "    model.add(Dense(number_of_classes, activation='softmax'))\n",
    "    # compile the model to turn it from specification to code\n",
    "    model.compile(loss='categorical_crossentropy', optimizer='adam', \n",
    "                  metrics=['accuracy'])\n",
    "    return model"
   ]
  },
  {
   "cell_type": "code",
   "execution_count": 6,
   "id": "51b61b38",
   "metadata": {},
   "outputs": [],
   "source": [
    "def make_two_hidden_layers_model():\n",
    "    model = Sequential()\n",
    "    model.add(Dense(number_of_pixels, input_shape=[number_of_pixels], \n",
    "                    activation='relu'))\n",
    "    model.add(Dense(number_of_pixels, activation='relu'))\n",
    "    model.add(Dense(number_of_classes, activation='softmax'))\n",
    "    model.compile(loss='categorical_crossentropy', optimizer='adam', metrics=['accuracy'])\n",
    "    return model\n",
    "\n",
    "def make_hidden_layer_n_neurons(num_neurons):\n",
    "    model = Sequential()\n",
    "    model.add(Dense(num_neurons, input_shape=[number_of_pixels], \n",
    "                    activation='relu'))\n",
    "    model.add(Dense(number_of_classes, activation='softmax'))\n",
    "    model.compile(loss='categorical_crossentropy', optimizer='adam', metrics=['accuracy'])\n",
    "    return model\n",
    "\n",
    "# make a general model of any number of dense layers, each optionally followed by dropout\n",
    "def make_layers_model(neurons_per_layer, dropout_per_layer, learning_rate=0.001):\n",
    "    model = Sequential()\n",
    "    for i in range(len(neurons_per_layer)):\n",
    "        kwargs = { 'kernel_initializer': 'normal', 'activation': 'relu' }\n",
    "        if i==0:\n",
    "            kwargs['input_dim'] = number_of_pixels\n",
    "        if dropout_per_layer[i]:\n",
    "            kwargs['kernel_constraint'] = MaxNorm(3)\n",
    "        model.add(Dense(neurons_per_layer[i], **kwargs))\n",
    "        if dropout_per_layer[i]:\n",
    "            model.add(Dropout(0.2))\n",
    "    model.add(Dense(number_of_classes, activation='softmax'))\n",
    "    model.compile(loss='categorical_crossentropy', optimizer=Adam(lr=learning_rate), metrics=['accuracy'])\n",
    "    return model"
   ]
  },
  {
   "cell_type": "code",
   "execution_count": 7,
   "id": "a7348880",
   "metadata": {},
   "outputs": [],
   "source": [
    "# A little utility to draw accuracy and loss plots\n",
    "import matplotlib.pyplot as plt\n",
    "\n",
    "def plot_accuracy_and_loss(history, plot_title, filename):\n",
    "    xs = range(len(history.history['accuracy']))\n",
    "    # manually change legend location to 'best' when the locations\n",
    "    # here don't look good. \n",
    "\n",
    "    plt.figure(figsize=(10,3))\n",
    "    plt.subplot(1, 2, 1)\n",
    "    plt.plot(xs, history.history['accuracy'], label='train')\n",
    "    plt.plot(xs, history.history['val_accuracy'], label='validation')\n",
    "    plt.legend(loc='lower left')\n",
    "    plt.xlabel('epochs')\n",
    "    plt.ylabel('accuracy')\n",
    "    plt.title(plot_title+', Accuracy')\n",
    "\n",
    "    plt.subplot(1, 2, 2)\n",
    "    plt.plot(xs, history.history['loss'], label='train')\n",
    "    plt.plot(xs, history.history['val_loss'], label='validation')\n",
    "    plt.legend(loc='upper left')\n",
    "    plt.xlabel('epochs')\n",
    "    plt.ylabel('loss')\n",
    "    plt.title(plot_title+', Loss')\n",
    "\n",
    "    #plt.tight_layout()\n",
    "    #file_helper.save_figure(filename)\n",
    "    plt.show()"
   ]
  },
  {
   "cell_type": "code",
   "execution_count": 10,
   "id": "9be885c6",
   "metadata": {},
   "outputs": [],
   "source": [
    "# A utility to let us try out lots of variations of models,\n",
    "# batch size, and early stopping, and plot and save the results.\n",
    "#\n",
    "# We use Python's kwargs mechanism as a way to package up the parameters\n",
    "# to a function in a dictionary. It's a little fancy but it saves a huge\n",
    "# amount of code. See the Python docs for how this feature works.\n",
    "#   \n",
    "\n",
    "def run_and_report(model, plot_title=None, filename='generic-filename', \n",
    "                   epochs=100, batch_size=256, verbosity=2, stop_early=False):\n",
    "    np.random.seed(random_seed)\n",
    "    kwargs = { 'validation_data': (X_test, y_test), 'epochs': epochs,\n",
    "              'batch_size': batch_size, 'verbose': verbosity }\n",
    "    if stop_early:\n",
    "        early_stopper = EarlyStopping(monitor='val_loss', patience=10, verbose=1)\n",
    "        kwargs['callbacks'] = [early_stopper]\n",
    "    history = model.fit(X_train, y_train, **kwargs)\n",
    "    plot_accuracy_and_loss(history, plot_title, filename)\n",
    "    # 20211107 cwr \n",
    "    #models_folder_name = 'NB09-checkpointed-models'\n",
    "    models_folder_name = '/Users/cwr/Desktop/SavedModels/NB09-checkpointed-models'\n",
    "\n",
    "    #file_helper.check_for_directory(models_folder_name)\n",
    "\n",
    "    # 20211107 cwr use .tf file format\n",
    "    # filename = models_folder_name+'/'+filename+'-'+str(epochs)+'-epochs.h5'\n",
    "    # model.save(filename)\n",
    "    filename = models_folder_name+'/'+filename+'-'+str(epochs)+'-epochs.tf'\n",
    "    model.save(filename,save_format='tf')\n",
    "    \n",
    "    return history"
   ]
  },
  {
   "cell_type": "code",
   "execution_count": 11,
   "id": "9f80ee1d",
   "metadata": {},
   "outputs": [
    {
     "data": {
      "image/png": "[encoded data removed]",
      "text/plain": [
       "<Figure size 720x216 with 2 Axes>"
      ]
     },
     "metadata": {
      "needs_background": "light"
     },
     "output_type": "display_data"
    },
    {
     "name": "stdout",
     "output_type": "stream",
     "text": [
      "WARNING:tensorflow:From /Users/cwr/opt/anaconda3/envs/cwr-keras/lib/python3.7/site-packages/tensorflow_core/python/ops/resource_variable_ops.py:1781: calling BaseResourceVariable.__init__ (from tensorflow.python.ops.resource_variable_ops) with constraint is deprecated and will be removed in a future version.\n",
      "Instructions for updating:\n",
      "If using Keras pass *_constraint arguments to layers.\n"
     ]
    },
    {
     "name": "stderr",
     "output_type": "stream",
     "text": [
      "2021-11-07 16:54:40.661551: W tensorflow/python/util/util.cc:299] Sets are not currently considered sequences, but this may change in the future, so consider avoiding using them.\n"
     ]
    },
    {
     "name": "stdout",
     "output_type": "stream",
     "text": [
      "INFO:tensorflow:Assets written to: NB09-checkpointed-models/two-layers-batch-2048-100-epochs.tf/assets\n",
      "batchsize  2048  elapsed time= 145.11849093437195\n"
     ]
    },
    {
     "data": {
      "image/png": "[encoded data removed]",
      "text/plain": [
       "<Figure size 720x216 with 2 Axes>"
      ]
     },
     "metadata": {
      "needs_background": "light"
     },
     "output_type": "display_data"
    },
    {
     "name": "stdout",
     "output_type": "stream",
     "text": [
      "INFO:tensorflow:Assets written to: NB09-checkpointed-models/two-layers-batch-1024-100-epochs.tf/assets\n",
      "batchsize  1024  elapsed time= 185.4045958518982\n"
     ]
    },
    {
     "data": {
      "image/png": "[encoded data removed]",
      "text/plain": [
       "<Figure size 720x216 with 2 Axes>"
      ]
     },
     "metadata": {
      "needs_background": "light"
     },
     "output_type": "display_data"
    },
    {
     "name": "stdout",
     "output_type": "stream",
     "text": [
      "INFO:tensorflow:Assets written to: NB09-checkpointed-models/two-layers-batch-512-100-epochs.tf/assets\n",
      "batchsize  512  elapsed time= 254.26078486442566\n"
     ]
    }
   ],
   "source": [
    "#\n",
    "# WARNING: If you're training on a CPU (that is, without a GPU),\n",
    "# then as batch sizes decrease, running time increases FAST.\n",
    "# Without a GPU, be careful with batch sizes smaller than 256.\n",
    "# I'm using big batches here so the notebook runs in less than a\n",
    "# few days. If you have a fast machine and/or a great GPU, it would\n",
    "# be instructive to include more sizes, as in the commented definition\n",
    "# of batch_sizes.\n",
    "#\n",
    "import time\n",
    "history_list = []\n",
    "time_list = []\n",
    "\n",
    "#batch_sizes = [2048, 1024, 512, 256, 128, 64, 32, 16, 8]\n",
    "#batch_sizes = [2048, 1024, 512, 256]\n",
    "batch_sizes = [2048, 1024, 512]\n",
    "for batchsize in batch_sizes:\n",
    "    model = make_one_hidden_layer_model()\n",
    "    plot_title = 'Two layers, batchsize='+str(batchsize)\n",
    "    filename = 'two-layers-batch-'+str(batchsize)\n",
    "    start_time = time.time()\n",
    "    history = run_and_report(model, plot_title, filename, batch_size=batchsize, verbosity=0)\n",
    "    end_time = time.time()\n",
    "    elapsed_time = end_time-start_time\n",
    "    history_list.append(history)\n",
    "    print(\"batchsize \",batchsize,\" elapsed time=\",elapsed_time)\n",
    "    time_list.append(elapsed_time)"
   ]
  },
  {
   "cell_type": "code",
   "execution_count": 14,
   "id": "a953bddd",
   "metadata": {},
   "outputs": [],
   "source": [
    "# ...\n",
    "#\n",
    "#######################################################\n",
    "# Bonus Chapter 3 - Notebook 2: Keras with scikit-learn\n",
    "#######################################################"
   ]
  },
  {
   "cell_type": "code",
   "execution_count": 15,
   "id": "ddab98e1",
   "metadata": {},
   "outputs": [],
   "source": [
    "from tensorflow.keras.datasets import mnist\n",
    "from tensorflow.keras.models import Sequential\n",
    "from tensorflow.keras.layers import Dense\n",
    "from tensorflow.keras.layers import Dropout\n",
    "from tensorflow.keras.constraints import MaxNorm\n",
    "from tensorflow.keras.callbacks import EarlyStopping\n",
    "from tensorflow.keras.wrappers.scikit_learn import KerasClassifier\n",
    "from tensorflow.keras.utils import to_categorical\n",
    "\n",
    "\n",
    "from sklearn.model_selection import StratifiedKFold\n",
    "from sklearn.model_selection import cross_val_score\n",
    "from sklearn.pipeline import make_pipeline, Pipeline\n",
    "from sklearn.model_selection import GridSearchCV\n",
    "from sklearn.preprocessing import MinMaxScaler\n",
    "\n",
    "import matplotlib.pyplot as plt\n",
    "import h5py\n",
    "import numpy as np\n",
    "\n",
    "from tensorflow.keras import backend as keras_backend\n",
    "keras_backend.set_image_data_format('channels_last')"
   ]
  },
  {
   "cell_type": "code",
   "execution_count": 16,
   "id": "02cd3043",
   "metadata": {},
   "outputs": [],
   "source": [
    "random_seed = 42\n",
    "np.random.seed(random_seed)\n",
    "\n",
    "# load the MNIST data\n",
    "(X_train, y_train), (X_test, y_test) = mnist.load_data()\n",
    "image_height = X_train.shape[1]\n",
    "image_width = X_train.shape[2]\n",
    "number_of_pixels = image_height * image_width\n",
    "\n",
    "# cast the sample data to the current Keras floating-point type\n",
    "X_train = keras_backend.cast_to_floatx(X_train)\n",
    "X_test = keras_backend.cast_to_floatx(X_test)\n",
    "\n",
    "# scale data to range [0, 1]\n",
    "X_train /= 255.0\n",
    "X_test /= 255.0\n",
    "\n",
    "# save y_train and y_test when used with scikit-learn\n",
    "original_y_train = y_train\n",
    "original_y_test = y_test\n",
    "\n",
    "# replace label data with one-hot encoded versions\n",
    "number_of_classes = 1 + max(np.append(y_train, y_test))\n",
    "y_train = to_categorical(y_train, number_of_classes)\n",
    "y_test = to_categorical(y_test, number_of_classes)\n",
    "\n",
    "# reshape to 2D grid, one line per image\n",
    "X_train = X_train.reshape(X_train.shape[0], number_of_pixels)\n",
    "X_test = X_test.reshape(X_test.shape[0], number_of_pixels)"
   ]
  },
  {
   "cell_type": "code",
   "execution_count": 17,
   "id": "fa451ab4",
   "metadata": {},
   "outputs": [],
   "source": [
    "# Build a network of any number of (dense+ dropout) layers of the given size\n",
    "def make_model(number_of_layers=2, neurons_per_layer=32, dropout_ratio=0.2, optimizer='adam'):\n",
    "    model = Sequential()\n",
    "\n",
    "    # first layer is special, because it sets input_shape\n",
    "    model.add(Dense(neurons_per_layer, input_shape=[number_of_pixels],\n",
    "        activation='relu', kernel_constraint=MaxNorm(3)))\n",
    "    model.add(Dropout(dropout_ratio))\n",
    "    # now add in all the rest of the dense-dropout layers\n",
    "    for i in range(number_of_layers-1):\n",
    "        append_dense_dropout_layer(model, neurons_per_layer, dropout_ratio)\n",
    "    # wrap up with a softmax layer with 10 outputs\n",
    "    model.add(Dense(number_of_classes,  activation='softmax'))\n",
    "    # compile the model and return it\n",
    "    model.compile(loss='categorical_crossentropy',\n",
    "                  optimizer=optimizer, metrics=['accuracy'])\n",
    "    return model\n",
    "\n",
    "def append_dense_dropout_layer(model, neurons_per_layer, dropout_ratio):\n",
    "    model.add(Dense(neurons_per_layer, \n",
    "        activation='relu', kernel_constraint=MaxNorm(3)))\n",
    "    model.add(Dropout(dropout_ratio))"
   ]
  },
  {
   "cell_type": "code",
   "execution_count": 20,
   "id": "fa05de7a",
   "metadata": {},
   "outputs": [],
   "source": [
    "# create the KerasClassifier that packages up our model maker for CV and grid search\n",
    "#\n",
    "# Wrap up our model-making function into a KerasClassifier, which\n",
    "# will make it behave like a standard scikit-learn estimator.  We'll\n",
    "# give all the arguments defaults which we can override later when\n",
    "# we build the model as part of cross-validation or grid search.\n",
    "# For instance, we will provide a value to number_of_layers, so this\n",
    "# value will be passed to number_of_layers when make_model() is called.\n",
    "#\n",
    "\n",
    "kc_model = KerasClassifier(build_fn=make_model,\n",
    "                          number_of_layers=2, neurons_per_layer=32,\n",
    "                          nb_epoch=100, batch_size=128, verbose=0)"
   ]
  },
  {
   "cell_type": "code",
   "execution_count": 18,
   "id": "cdb7acf7",
   "metadata": {},
   "outputs": [],
   "source": [
    "def run_grid_search(param_grid, filename, verbose=2):\n",
    "# Run the first grid search\n",
    "    np.random.seed(random_seed)\n",
    "    grid_searcher = GridSearchCV(estimator=pipeline, param_grid=param_grid, verbose=verbose)\n",
    "    search_results = grid_searcher.fit(X_train, original_y_train)\n",
    "\n",
    "    print('---- GRID SEARCH ----')\n",
    "    print('mean test scores: {}\\n'.format(search_results.cv_results_['mean_test_score']))\n",
    "    best_index = np.argmax(search_results.cv_results_['mean_test_score'])\n",
    "    print('best set of parameters:\\n  index {}\\n  {}\\n'.format(best_index, \n",
    "                                                               search_results.cv_results_['params'][best_index]))\n",
    "\n",
    "    params = search_results.cv_results_['params']\n",
    "    dict_vals = [params[i].values() for i in range(len(params))]\n",
    "    name_list =[[str(v) for v in dv] for dv in dict_vals]\n",
    "    xlabels = ['-'.join(name_list[i]) for i in range(len(name_list))]\n",
    "    plt.plot(search_results.cv_results_['mean_test_score'], 'r')\n",
    "    plt.xticks(np.arange(len(xlabels)), xlabels, rotation='vertical')\n",
    "    file_helper.save_figure(filename+'-mean-test-scores')\n",
    "    plt.show()\n",
    "    return search_results"
   ]
  },
  {
   "cell_type": "code",
   "execution_count": 21,
   "id": "2dd9219c",
   "metadata": {},
   "outputs": [
    {
     "name": "stderr",
     "output_type": "stream",
     "text": [
      "[Parallel(n_jobs=1)]: Using backend SequentialBackend with 1 concurrent workers.\n"
     ]
    },
    {
     "name": "stdout",
     "output_type": "stream",
     "text": [
      "[CV] END .................................................... total time=  14.5s\n"
     ]
    },
    {
     "name": "stderr",
     "output_type": "stream",
     "text": [
      "[Parallel(n_jobs=1)]: Done   1 out of   1 | elapsed:   14.8s remaining:    0.0s\n"
     ]
    },
    {
     "name": "stdout",
     "output_type": "stream",
     "text": [
      "[CV] END .................................................... total time=   3.8s\n",
      "[CV] END .................................................... total time=   4.2s\n",
      "[CV] END .................................................... total time=   4.0s\n",
      "[CV] END .................................................... total time=   4.3s\n",
      "[CV] END .................................................... total time=   4.2s\n",
      "[CV] END .................................................... total time=   4.4s\n",
      "[CV] END .................................................... total time=   4.1s\n",
      "[CV] END .................................................... total time=   4.3s\n",
      "[CV] END .................................................... total time=   4.2s\n",
      "results1 =[0.91333336 0.91633332 0.91533333 0.91133332 0.90499997 0.90983331\n",
      " 0.90799999 0.91100001 0.91333336 0.90983331]\n",
      "results1.mean=0.9113333284854889\n"
     ]
    },
    {
     "name": "stderr",
     "output_type": "stream",
     "text": [
      "[Parallel(n_jobs=1)]: Done  10 out of  10 | elapsed:   52.3s finished\n"
     ]
    }
   ],
   "source": [
    "# Run cross validation on our data, without a normalization step (that is, no pipeline)\n",
    "np.random.seed(random_seed)\n",
    "kfold = StratifiedKFold(n_splits=10, shuffle=True, random_state=random_seed)\n",
    "cv_results1 = cross_val_score(kc_model, X_train, original_y_train, cv=kfold, verbose=2)\n",
    "print(\"results1 ={}\\nresults1.mean={}\".format(cv_results1, cv_results1.mean()))"
   ]
  },
  {
   "cell_type": "code",
   "execution_count": 22,
   "id": "3a466825",
   "metadata": {},
   "outputs": [
    {
     "name": "stderr",
     "output_type": "stream",
     "text": [
      "[Parallel(n_jobs=1)]: Using backend SequentialBackend with 1 concurrent workers.\n"
     ]
    },
    {
     "name": "stdout",
     "output_type": "stream",
     "text": [
      "[CV] END .................................................... total time=   4.0s\n"
     ]
    },
    {
     "name": "stderr",
     "output_type": "stream",
     "text": [
      "[Parallel(n_jobs=1)]: Done   1 out of   1 | elapsed:    4.0s remaining:    0.0s\n"
     ]
    },
    {
     "name": "stdout",
     "output_type": "stream",
     "text": [
      "[CV] END .................................................... total time=   4.3s\n",
      "[CV] END .................................................... total time=   4.1s\n",
      "[CV] END .................................................... total time=   4.2s\n",
      "[CV] END .................................................... total time=   4.7s\n",
      "[CV] END .................................................... total time=   4.4s\n",
      "[CV] END .................................................... total time=   4.7s\n",
      "[CV] END .................................................... total time=   4.2s\n",
      "[CV] END .................................................... total time=   4.5s\n",
      "[CV] END .................................................... total time=   4.4s\n",
      "results2 =[0.90899998 0.91399997 0.91366667 0.91350001 0.91533333 0.9145\n",
      " 0.91166669 0.90983331 0.91250002 0.9095    ]\n",
      "results2.mean=0.9123499989509583\n"
     ]
    },
    {
     "name": "stderr",
     "output_type": "stream",
     "text": [
      "[Parallel(n_jobs=1)]: Done  10 out of  10 | elapsed:   43.8s finished\n"
     ]
    }
   ],
   "source": [
    "# Run a CV step with a pipeline\n",
    "np.random.seed(random_seed)\n",
    "pipeline = make_pipeline(MinMaxScaler(), kc_model)\n",
    "kfold = StratifiedKFold(n_splits=10, shuffle=True, random_state=random_seed)\n",
    "cv_results2 = cross_val_score(pipeline, X_train, original_y_train, cv=kfold, verbose=2)\n",
    "print(\"results2 ={}\\nresults2.mean={}\".format(cv_results2, cv_results2.mean()))"
   ]
  },
  {
   "cell_type": "code",
   "execution_count": null,
   "id": "60741ae5",
   "metadata": {},
   "outputs": [],
   "source": []
  }
 ],
 "metadata": {
  "kernelspec": {
   "display_name": "Python 3 (ipykernel)",
   "language": "python",
   "name": "python3"
  },
  "language_info": {
   "codemirror_mode": {
    "name": "ipython",
    "version": 3
   },
   "file_extension": ".py",
   "mimetype": "text/x-python",
   "name": "python",
   "nbconvert_exporter": "python",
   "pygments_lexer": "ipython3",
   "version": "3.7.11"
  }
 },
 "nbformat": 4,
 "nbformat_minor": 5
}
