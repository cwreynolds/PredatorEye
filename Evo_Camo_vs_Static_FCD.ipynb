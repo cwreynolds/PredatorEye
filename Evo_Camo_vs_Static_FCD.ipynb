{
  "nbformat": 4,
  "nbformat_minor": 0,
  "metadata": {
    "colab": {
      "name": "Evo_Camo_vs_Static_FCD.ipynb",
      "provenance": [],
      "toc_visible": true
    },
    "kernelspec": {
      "name": "python3",
      "display_name": "Python 3"
    },
    "language_info": {
      "name": "python"
    }
  },
  "cells": [
    {
      "cell_type": "markdown",
      "source": [
        "# setup"
      ],
      "metadata": {
        "id": "g8AbtMQfMUkt"
      }
    },
    {
      "cell_type": "code",
      "execution_count": 3,
      "metadata": {
        "id": "Cr9fUxZxJBRl"
      },
      "outputs": [],
      "source": [
        "# Directory on Drive for initial tests\n",
        "test_dir = '/content/drive/My Drive/PredatorEye/evo_camo_vs_static_fcd/temp/'\n",
        "\n",
        "\n",
        "\n",
        "from os import listdir\n",
        "from os.path import join\n",
        "import time\n"
      ]
    },
    {
      "cell_type": "markdown",
      "source": [
        "# early tests"
      ],
      "metadata": {
        "id": "o0K4yBZ1NEnf"
      }
    },
    {
      "cell_type": "code",
      "source": [
        "!google-drive-ocamlfuse -cc\n",
        "\n",
        "for t in range(100):\n",
        "\n",
        "\n",
        "    directory_contents = listdir(test_dir)\n",
        "    print(t, directory_contents)\n",
        "    time.sleep(5)   # Sleep for 5 seconds.\n"
      ],
      "metadata": {
        "colab": {
          "base_uri": "https://localhost:8080/",
          "height": 409
        },
        "id": "-rPd-m40NIax",
        "outputId": "31504dbc-0ee0-445b-d2d9-e0f7612a943d"
      },
      "execution_count": 11,
      "outputs": [
        {
          "output_type": "stream",
          "name": "stdout",
          "text": [
            "/bin/bash: google-drive-ocamlfuse: command not found\n",
            "0 []\n",
            "1 []\n",
            "2 []\n",
            "3 []\n",
            "4 []\n",
            "5 []\n",
            "6 ['foo.txt']\n",
            "7 ['foo.txt']\n",
            "8 ['foo.txt']\n",
            "9 ['foo.txt']\n",
            "10 ['foo.txt']\n"
          ]
        },
        {
          "output_type": "error",
          "ename": "KeyboardInterrupt",
          "evalue": "ignored",
          "traceback": [
            "\u001b[0;31m---------------------------------------------------------------------------\u001b[0m",
            "\u001b[0;31mKeyboardInterrupt\u001b[0m                         Traceback (most recent call last)",
            "\u001b[0;32m<ipython-input-11-03af5f4eeb36>\u001b[0m in \u001b[0;36m<module>\u001b[0;34m()\u001b[0m\n\u001b[1;32m      6\u001b[0m     \u001b[0mdirectory_contents\u001b[0m \u001b[0;34m=\u001b[0m \u001b[0mlistdir\u001b[0m\u001b[0;34m(\u001b[0m\u001b[0mtest_dir\u001b[0m\u001b[0;34m)\u001b[0m\u001b[0;34m\u001b[0m\u001b[0;34m\u001b[0m\u001b[0m\n\u001b[1;32m      7\u001b[0m     \u001b[0mprint\u001b[0m\u001b[0;34m(\u001b[0m\u001b[0mt\u001b[0m\u001b[0;34m,\u001b[0m \u001b[0mdirectory_contents\u001b[0m\u001b[0;34m)\u001b[0m\u001b[0;34m\u001b[0m\u001b[0;34m\u001b[0m\u001b[0m\n\u001b[0;32m----> 8\u001b[0;31m     \u001b[0mtime\u001b[0m\u001b[0;34m.\u001b[0m\u001b[0msleep\u001b[0m\u001b[0;34m(\u001b[0m\u001b[0;36m5\u001b[0m\u001b[0;34m)\u001b[0m   \u001b[0;31m# Sleep for 5 seconds.\u001b[0m\u001b[0;34m\u001b[0m\u001b[0;34m\u001b[0m\u001b[0m\n\u001b[0m",
            "\u001b[0;31mKeyboardInterrupt\u001b[0m: "
          ]
        }
      ]
    }
  ]
}