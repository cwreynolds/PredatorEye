{
  "nbformat": 4,
  "nbformat_minor": 0,
  "metadata": {
    "colab": {
      "name": "Evo_Camo_vs_Static_FCD.ipynb",
      "provenance": [],
      "collapsed_sections": []
    },
    "kernelspec": {
      "name": "python3",
      "display_name": "Python 3"
    },
    "language_info": {
      "name": "python"
    }
  },
  "cells": [
    {
      "cell_type": "markdown",
      "source": [
        "# Setup"
      ],
      "metadata": {
        "id": "g8AbtMQfMUkt"
      }
    },
    {
      "cell_type": "code",
      "execution_count": 14,
      "metadata": {
        "id": "Cr9fUxZxJBRl"
      },
      "outputs": [],
      "source": [
        "# Shared \"communication\" directory on Drive.\n",
        "shared_directory = '/content/drive/My Drive/PredatorEye/evo_camo_vs_static_fcd/'\n",
        "\n",
        "my_prefix_ = \"find_\"\n",
        "other_prefix_ = \"camo_\"\n",
        "\n",
        "import time\n",
        "from os import listdir\n",
        "from os import remove\n",
        "from os.path import join\n",
        "from os.path import split\n",
        "from os.path import isfile"
      ]
    },
    {
      "cell_type": "markdown",
      "source": [
        "# After c++ tests"
      ],
      "metadata": {
        "id": "jCxVUKpMTEcN"
      }
    },
    {
      "cell_type": "code",
      "source": [
        "\n",
        "def run_test():\n",
        "    print('Start run in', shared_directory )\n",
        "    list_unexpected_files(shared_directory)\n",
        "    step = 0;\n",
        "    while True:\n",
        "        performStep(step, shared_directory)\n",
        "        step += 1\n",
        "\n",
        "def performStep(step, directory):\n",
        "    waitForReply(step, shared_directory)\n",
        "    print('Write file', step)\n",
        "    writeTestFile(step, shared_directory)\n",
        "    deleteMyFile(step - 1, shared_directory)\n",
        "\n",
        "# Mock version of writing file for given step.\n",
        "def writeTestFile(step, directory):\n",
        "    pathname = makeMyPathname(step, directory)\n",
        "    file = open(pathname,\"w\")\n",
        "    file.write(str(step))\n",
        "    print(\"wrote test file  \", makeMyPathname(step, directory))\n",
        "\n",
        "# Delete the given file, usually after having written the next one.\n",
        "def deleteMyFile(step, directory):\n",
        "    # fs::remove(makeMyPathname(step, directory));\n",
        "    path = makeMyPathname(step, directory)\n",
        "    if isfile(path):\n",
        "        remove(path)\n",
        "\n",
        "# Form pathname for file of given step number from the \"other\" agent.\n",
        "def makeOtherPathname(step, directory):\n",
        "    return directory + other_prefix_ + str(step) + \".txt\"\n",
        "\n",
        "# Form pathname for file of given step number from \"this\" agent.\n",
        "def makeMyPathname(step, directory):\n",
        "    return directory + my_prefix_ + str(step) + \".txt\"\n",
        "\n",
        "# Wait until other agent's file for given step appears.\n",
        "def waitForReply(step, directory):\n",
        "    print('start waiting for', makeOtherPathname(step, directory))\n",
        "    start_time = time.time()\n",
        "    while not isFilePresent(makeOtherPathname(step, directory)):\n",
        "        time.sleep(2)  # wait 2 sec\n",
        "    print('done waiting for ', makeOtherPathname(step, directory))\n",
        "    print('Elapsed time:', int(time.time() - start_time), 'seconds.')\n",
        "\n",
        "# Like fs::exists() but for unknown reasons, that does not\n",
        "# seem to work for newly created files on G Drive.\n",
        "#\n",
        "# TODO Why? This version works on G Drive, but it seems simply\n",
        "#      calling fs::exists() should be enough.\n",
        "#\n",
        "def isFilePresent(file):\n",
        "    result = False\n",
        "    (directory, filename) = split(file)\n",
        "    for i in listdir(directory):\n",
        "        if i == filename:\n",
        "            result = True\n",
        "    return result\n",
        "\n",
        "# isFilePresent(comm_directory + 'foo.txt')\n",
        "# isFilePresent(comm_directory + 'bar.txt')\n",
        "# waitForReply(1, comm_directory)\n",
        "\n",
        "# Actually I guess the counterparty may have already written its first...\n",
        "def list_unexpected_files(directory):\n",
        "    directory_contents = listdir(directory)\n",
        "    if directory_contents:\n",
        "        print('Unexpected files:', directory_contents)"
      ],
      "metadata": {
        "id": "ZF4XLFSBTKOM"
      },
      "execution_count": 15,
      "outputs": []
    },
    {
      "cell_type": "markdown",
      "source": [
        "# Run test"
      ],
      "metadata": {
        "id": "itBD_Ve0lEYB"
      }
    },
    {
      "cell_type": "code",
      "source": [
        "run_test()"
      ],
      "metadata": {
        "colab": {
          "base_uri": "https://localhost:8080/",
          "height": 624
        },
        "id": "iZQLL52Sk-X9",
        "outputId": "50f1b25e-e22c-4742-e3fa-0c681198083a"
      },
      "execution_count": 16,
      "outputs": [
        {
          "output_type": "stream",
          "name": "stdout",
          "text": [
            "Start run in /content/drive/My Drive/PredatorEye/evo_camo_vs_static_fcd/\n",
            "Unexpected files: ['camo_0.txt']\n",
            "start waiting for /content/drive/My Drive/PredatorEye/evo_camo_vs_static_fcd/camo_0.txt\n",
            "done waiting for  /content/drive/My Drive/PredatorEye/evo_camo_vs_static_fcd/camo_0.txt\n",
            "Elapsed time: 0 seconds.\n",
            "Write file 0\n",
            "wrote test file   /content/drive/My Drive/PredatorEye/evo_camo_vs_static_fcd/find_0.txt\n",
            "start waiting for /content/drive/My Drive/PredatorEye/evo_camo_vs_static_fcd/camo_1.txt\n",
            "done waiting for  /content/drive/My Drive/PredatorEye/evo_camo_vs_static_fcd/camo_1.txt\n",
            "Elapsed time: 38 seconds.\n",
            "Write file 1\n",
            "wrote test file   /content/drive/My Drive/PredatorEye/evo_camo_vs_static_fcd/find_1.txt\n",
            "start waiting for /content/drive/My Drive/PredatorEye/evo_camo_vs_static_fcd/camo_2.txt\n",
            "done waiting for  /content/drive/My Drive/PredatorEye/evo_camo_vs_static_fcd/camo_2.txt\n",
            "Elapsed time: 40 seconds.\n",
            "Write file 2\n",
            "wrote test file   /content/drive/My Drive/PredatorEye/evo_camo_vs_static_fcd/find_2.txt\n",
            "start waiting for /content/drive/My Drive/PredatorEye/evo_camo_vs_static_fcd/camo_3.txt\n"
          ]
        },
        {
          "output_type": "error",
          "ename": "KeyboardInterrupt",
          "evalue": "ignored",
          "traceback": [
            "\u001b[0;31m---------------------------------------------------------------------------\u001b[0m",
            "\u001b[0;31mKeyboardInterrupt\u001b[0m                         Traceback (most recent call last)",
            "\u001b[0;32m<ipython-input-16-5e0b864b2c11>\u001b[0m in \u001b[0;36m<module>\u001b[0;34m()\u001b[0m\n\u001b[0;32m----> 1\u001b[0;31m \u001b[0mrun_test\u001b[0m\u001b[0;34m(\u001b[0m\u001b[0;34m)\u001b[0m\u001b[0;34m\u001b[0m\u001b[0;34m\u001b[0m\u001b[0m\n\u001b[0m",
            "\u001b[0;32m<ipython-input-15-ac7e5c47ac3b>\u001b[0m in \u001b[0;36mrun_test\u001b[0;34m()\u001b[0m\n\u001b[1;32m      5\u001b[0m     \u001b[0mstep\u001b[0m \u001b[0;34m=\u001b[0m \u001b[0;36m0\u001b[0m\u001b[0;34m;\u001b[0m\u001b[0;34m\u001b[0m\u001b[0;34m\u001b[0m\u001b[0m\n\u001b[1;32m      6\u001b[0m     \u001b[0;32mwhile\u001b[0m \u001b[0;32mTrue\u001b[0m\u001b[0;34m:\u001b[0m\u001b[0;34m\u001b[0m\u001b[0;34m\u001b[0m\u001b[0m\n\u001b[0;32m----> 7\u001b[0;31m         \u001b[0mperformStep\u001b[0m\u001b[0;34m(\u001b[0m\u001b[0mstep\u001b[0m\u001b[0;34m,\u001b[0m \u001b[0mshared_directory\u001b[0m\u001b[0;34m)\u001b[0m\u001b[0;34m\u001b[0m\u001b[0;34m\u001b[0m\u001b[0m\n\u001b[0m\u001b[1;32m      8\u001b[0m         \u001b[0mstep\u001b[0m \u001b[0;34m+=\u001b[0m \u001b[0;36m1\u001b[0m\u001b[0;34m\u001b[0m\u001b[0;34m\u001b[0m\u001b[0m\n\u001b[1;32m      9\u001b[0m \u001b[0;34m\u001b[0m\u001b[0m\n",
            "\u001b[0;32m<ipython-input-15-ac7e5c47ac3b>\u001b[0m in \u001b[0;36mperformStep\u001b[0;34m(step, directory)\u001b[0m\n\u001b[1;32m      9\u001b[0m \u001b[0;34m\u001b[0m\u001b[0m\n\u001b[1;32m     10\u001b[0m \u001b[0;32mdef\u001b[0m \u001b[0mperformStep\u001b[0m\u001b[0;34m(\u001b[0m\u001b[0mstep\u001b[0m\u001b[0;34m,\u001b[0m \u001b[0mdirectory\u001b[0m\u001b[0;34m)\u001b[0m\u001b[0;34m:\u001b[0m\u001b[0;34m\u001b[0m\u001b[0;34m\u001b[0m\u001b[0m\n\u001b[0;32m---> 11\u001b[0;31m     \u001b[0mwaitForReply\u001b[0m\u001b[0;34m(\u001b[0m\u001b[0mstep\u001b[0m\u001b[0;34m,\u001b[0m \u001b[0mshared_directory\u001b[0m\u001b[0;34m)\u001b[0m\u001b[0;34m\u001b[0m\u001b[0;34m\u001b[0m\u001b[0m\n\u001b[0m\u001b[1;32m     12\u001b[0m     \u001b[0mprint\u001b[0m\u001b[0;34m(\u001b[0m\u001b[0;34m'Write file'\u001b[0m\u001b[0;34m,\u001b[0m \u001b[0mstep\u001b[0m\u001b[0;34m)\u001b[0m\u001b[0;34m\u001b[0m\u001b[0;34m\u001b[0m\u001b[0m\n\u001b[1;32m     13\u001b[0m     \u001b[0mwriteTestFile\u001b[0m\u001b[0;34m(\u001b[0m\u001b[0mstep\u001b[0m\u001b[0;34m,\u001b[0m \u001b[0mshared_directory\u001b[0m\u001b[0;34m)\u001b[0m\u001b[0;34m\u001b[0m\u001b[0;34m\u001b[0m\u001b[0m\n",
            "\u001b[0;32m<ipython-input-15-ac7e5c47ac3b>\u001b[0m in \u001b[0;36mwaitForReply\u001b[0;34m(step, directory)\u001b[0m\n\u001b[1;32m     41\u001b[0m     \u001b[0mstart_time\u001b[0m \u001b[0;34m=\u001b[0m \u001b[0mtime\u001b[0m\u001b[0;34m.\u001b[0m\u001b[0mtime\u001b[0m\u001b[0;34m(\u001b[0m\u001b[0;34m)\u001b[0m\u001b[0;34m\u001b[0m\u001b[0;34m\u001b[0m\u001b[0m\n\u001b[1;32m     42\u001b[0m     \u001b[0;32mwhile\u001b[0m \u001b[0;32mnot\u001b[0m \u001b[0misFilePresent\u001b[0m\u001b[0;34m(\u001b[0m\u001b[0mmakeOtherPathname\u001b[0m\u001b[0;34m(\u001b[0m\u001b[0mstep\u001b[0m\u001b[0;34m,\u001b[0m \u001b[0mdirectory\u001b[0m\u001b[0;34m)\u001b[0m\u001b[0;34m)\u001b[0m\u001b[0;34m:\u001b[0m\u001b[0;34m\u001b[0m\u001b[0;34m\u001b[0m\u001b[0m\n\u001b[0;32m---> 43\u001b[0;31m         \u001b[0mtime\u001b[0m\u001b[0;34m.\u001b[0m\u001b[0msleep\u001b[0m\u001b[0;34m(\u001b[0m\u001b[0;36m2\u001b[0m\u001b[0;34m)\u001b[0m  \u001b[0;31m# wait 2 sec\u001b[0m\u001b[0;34m\u001b[0m\u001b[0;34m\u001b[0m\u001b[0m\n\u001b[0m\u001b[1;32m     44\u001b[0m     \u001b[0mprint\u001b[0m\u001b[0;34m(\u001b[0m\u001b[0;34m'done waiting for '\u001b[0m\u001b[0;34m,\u001b[0m \u001b[0mmakeOtherPathname\u001b[0m\u001b[0;34m(\u001b[0m\u001b[0mstep\u001b[0m\u001b[0;34m,\u001b[0m \u001b[0mdirectory\u001b[0m\u001b[0;34m)\u001b[0m\u001b[0;34m)\u001b[0m\u001b[0;34m\u001b[0m\u001b[0;34m\u001b[0m\u001b[0m\n\u001b[1;32m     45\u001b[0m     \u001b[0mprint\u001b[0m\u001b[0;34m(\u001b[0m\u001b[0;34m'Elapsed time:'\u001b[0m\u001b[0;34m,\u001b[0m \u001b[0mint\u001b[0m\u001b[0;34m(\u001b[0m\u001b[0mtime\u001b[0m\u001b[0;34m.\u001b[0m\u001b[0mtime\u001b[0m\u001b[0;34m(\u001b[0m\u001b[0;34m)\u001b[0m \u001b[0;34m-\u001b[0m \u001b[0mstart_time\u001b[0m\u001b[0;34m)\u001b[0m\u001b[0;34m,\u001b[0m \u001b[0;34m'seconds.'\u001b[0m\u001b[0;34m)\u001b[0m\u001b[0;34m\u001b[0m\u001b[0;34m\u001b[0m\u001b[0m\n",
            "\u001b[0;31mKeyboardInterrupt\u001b[0m: "
          ]
        }
      ]
    }
  ]
}