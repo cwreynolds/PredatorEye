{
  "nbformat": 4,
  "nbformat_minor": 0,
  "metadata": {
    "colab": {
      "name": "Evo_Camo_vs_Static_FCD.ipynb",
      "provenance": [],
      "collapsed_sections": []
    },
    "kernelspec": {
      "name": "python3",
      "display_name": "Python 3"
    },
    "language_info": {
      "name": "python"
    }
  },
  "cells": [
    {
      "cell_type": "markdown",
      "source": [
        "# Setup"
      ],
      "metadata": {
        "id": "g8AbtMQfMUkt"
      }
    },
    {
      "cell_type": "code",
      "execution_count": 39,
      "metadata": {
        "colab": {
          "base_uri": "https://localhost:8080/"
        },
        "id": "Cr9fUxZxJBRl",
        "outputId": "87ca9e16-0ae0-4554-eaf2-866065439a64"
      },
      "outputs": [
        {
          "output_type": "stream",
          "name": "stdout",
          "text": [
            "TensorFlow version: 2.7.0\n"
          ]
        }
      ],
      "source": [
        "# Shared \"communication\" directory on Drive.\n",
        "shared_directory = '/content/drive/My Drive/PredatorEye/evo_camo_vs_static_fcd/'\n",
        "\n",
        "# Pathname of pre-trained Keras/TensorFlow model\n",
        "saved_model_directory = '/content/drive/My Drive/PredatorEye/saved_models/'\n",
        "trained_model = saved_model_directory + '20220202_1211_Find_3_Disks_complex'\n",
        "model = []\n",
        "\n",
        "my_prefix = \"find_\"\n",
        "other_prefix = \"camo_\"\n",
        "\n",
        "my_suffix =  \".txt\"\n",
        "other_suffix = \".jpeg\"\n",
        "\n",
        "fcd_image_size = 1024\n",
        "fcd_disk_size = 201\n",
        "\n",
        "import time\n",
        "import PIL\n",
        "from os import listdir\n",
        "from os import remove\n",
        "from os.path import join\n",
        "from os.path import split\n",
        "from os.path import isfile\n",
        "from tensorflow import keras\n",
        "\n",
        "# from PIL import Image\n",
        "import numpy as np\n",
        "\n",
        "%tensorflow_version 2.x\n",
        "import tensorflow as tf\n",
        "print('TensorFlow version:', tf.__version__)\n",
        "\n",
        "from tensorflow.keras import backend as keras_backend\n",
        "keras_backend.set_image_data_format('channels_last')\n",
        "\n",
        "# Import DiskFind utilities for PredatorEye.\n",
        "import sys\n",
        "sys.path.append('/content/drive/My Drive/PredatorEye/shared_code/')\n",
        "import DiskFind as df"
      ]
    },
    {
      "cell_type": "markdown",
      "source": [
        "# Ad hoc “predator server”"
      ],
      "metadata": {
        "id": "jCxVUKpMTEcN"
      }
    },
    {
      "cell_type": "code",
      "source": [
        "# Top level: wait for camo_xxx.jpeg files to appear, respond with find_xxx.txt\n",
        "def start_run(step = 0):\n",
        "    if step == 0:\n",
        "        print('Start run in', shared_directory )\n",
        "        list_unexpected_files(shared_directory)\n",
        "    else:\n",
        "        print('Continue run at step', step, ' in', shared_directory)\n",
        "    while True:\n",
        "        performStep(step, shared_directory)\n",
        "        step += 1\n",
        "\n",
        "# Continue from from the last camo_xxx.jpeg file.\n",
        "def restart_run():\n",
        "    start_run(newest_file_from_other(shared_directory))\n",
        "\n",
        "# Single step: wait for camo file, write response, delete previous response.\n",
        "def performStep(step, directory):\n",
        "    waitForReply(step, shared_directory)\n",
        "    print('Write file', step)\n",
        "    writeResponseFile(step, shared_directory)\n",
        "    deleteMyFile(step - 1, shared_directory)\n",
        "\n",
        "# Read image file for step, apply pre-trained model, write response file.\n",
        "def writeResponseFile(step, directory):\n",
        "    # Read image file and check for expected format.\n",
        "    image_pathname = makeOtherPathname(step, directory)\n",
        "    pixel_tensor = df.read_image_file_as_pixel_tensor(image_pathname)\n",
        "    assert df.check_pixel_tensor(pixel_tensor), ('wrong file format: ' +\n",
        "                                                 image_pathname)\n",
        "    # Run pre-trained model on new image.\n",
        "    predict = model.predict(tf.convert_to_tensor([pixel_tensor]))[0]\n",
        "    # Generate response file.\n",
        "    response_string = str(predict[0]) + \" \" + str(predict[1])\n",
        "    print('response_string ' + \"'\" + response_string + \"'\")\n",
        "    file = open(makeMyPathname(step, directory),\"w\")\n",
        "    file.write(response_string)\n",
        "    file.close()\n",
        "    print(\"wrote response file\", makeMyPathname(step, directory))\n",
        "\n",
        "# Delete the given file, usually after having written the next one.\n",
        "def deleteMyFile(step, directory):\n",
        "    path = makeMyPathname(step, directory)\n",
        "    if isfile(path):\n",
        "        remove(path)\n",
        "\n",
        "# From pathname for file of given step number from the \"other\" agent.\n",
        "def makeOtherPathname(step, directory):\n",
        "    return directory + other_prefix + str(step) + other_suffix\n",
        "\n",
        "# Form pathname for file of given step number from \"this\" agent.\n",
        "def makeMyPathname(step, directory):\n",
        "    return directory + my_prefix + str(step) + my_suffix\n",
        "\n",
        "# Wait until other agent's file for given step appears.\n",
        "def waitForReply(step, directory):\n",
        "    print('start waiting for  ', makeOtherPathname(step, directory))\n",
        "    start_time = time.time()\n",
        "    while not isFilePresent(makeOtherPathname(step, directory)):\n",
        "        time.sleep(2)  # wait 2 sec\n",
        "    print('done waiting for   ', makeOtherPathname(step, directory))\n",
        "    print('Elapsed time:', int(time.time() - start_time), 'seconds.')\n",
        "\n",
        "# Like fs::exists() but for unknown reasons, that does not\n",
        "# seem to work for newly created files on G Drive.\n",
        "#\n",
        "# TODO Why? This version works on G Drive, but it seems simply\n",
        "#      calling fs::exists() should be enough.\n",
        "#\n",
        "def isFilePresent(file):\n",
        "    result = False\n",
        "    (directory, filename) = split(file)\n",
        "    for i in listdir(directory):\n",
        "        if i == filename:\n",
        "            result = True\n",
        "    return result\n",
        "\n",
        "# Actually I guess the counterparty may have already written its first...\n",
        "def list_unexpected_files(directory):\n",
        "    directory_contents = listdir(directory)\n",
        "    if directory_contents:\n",
        "        print('Unexpected files:', directory_contents)\n",
        "\n",
        "# Returns the step number of the newest file from \"other\" in given directory.\n",
        "# (So if \"camo_573.jpeg\" is the only \"other\" file there, returns int 573)\n",
        "def newest_file_from_other(directory):\n",
        "    steps = [0]  # Default to zero in case dir is empty.\n",
        "    for filename in listdir(directory):\n",
        "        if other_prefix == filename[0:len(other_prefix)]:\n",
        "            steps.append(int(filename.split(\".\")[0].split(\"_\")[1]))\n",
        "    return max(steps)"
      ],
      "metadata": {
        "id": "ZF4XLFSBTKOM"
      },
      "execution_count": 40,
      "outputs": []
    },
    {
      "cell_type": "markdown",
      "source": [
        "# Read pre-trained model"
      ],
      "metadata": {
        "id": "VDtbk88sVGxk"
      }
    },
    {
      "cell_type": "code",
      "source": [
        "# Read pre-trained TensorFlow \"predator vision\" model.\n",
        "\n",
        "print('Reading pre-trained model from:', trained_model)\n",
        "# ad hoc workaround suggested on https://stackoverflow.com/q/66408995/1991373\n",
        "#\n",
        "# dependencies = {\n",
        "#     'hamming_loss': tfa.metrics.HammingLoss(mode=\"multilabel\", name=\"hamming_loss\"),\n",
        "#     'attention': attention(return_sequences=True)\n",
        "# }\n",
        "#\n",
        "# dependencies = {\n",
        "#     'valid_accuracy': ValidAccuracy\n",
        "# }\n",
        "\n",
        "# Calculates RELATIVE disk radius on the fly -- rewrite later.\n",
        "def fcd_disk_radius():\n",
        "    return (float(fcd_disk_size) / float(fcd_image_size)) / 2\n",
        "\n",
        "# Given two tensors of 2d point coordinates, return a tensor of the Cartesian\n",
        "# distance between corresponding points in the input tensors.\n",
        "def corresponding_distances(y_true, y_pred):\n",
        "    true_pos_x, true_pos_y = tf.split(y_true, num_or_size_splits=2, axis=1)\n",
        "    pred_pos_x, pred_pos_y = tf.split(y_pred, num_or_size_splits=2, axis=1)\n",
        "    dx = true_pos_x - pred_pos_x\n",
        "    dy = true_pos_y - pred_pos_y\n",
        "    distances = tf.sqrt(tf.square(dx) + tf.square(dy))\n",
        "    return distances\n",
        "\n",
        "# 20211231 copied from Find_Concpocuous_Disk\n",
        "def in_disk(y_true, y_pred):\n",
        "    distances = corresponding_distances(y_true, y_pred)\n",
        "    # relative_disk_radius = (float(fcd_disk_size) / float(fcd_image_size)) / 2\n",
        "\n",
        "    # From https://stackoverflow.com/a/42450565/1991373\n",
        "    # Boolean tensor marking where distances are less than relative_disk_radius.\n",
        "    # insides = tf.less(distances, relative_disk_radius)\n",
        "    insides = tf.less(distances, fcd_disk_radius())\n",
        "    map_to_zero_or_one = tf.cast(insides, tf.int32)\n",
        "    return map_to_zero_or_one\n",
        "\n",
        "dependencies = { 'in_disk': in_disk }\n",
        "\n",
        "model = keras.models.load_model(trained_model, custom_objects=dependencies)"
      ],
      "metadata": {
        "colab": {
          "base_uri": "https://localhost:8080/"
        },
        "id": "iLVIRi_vU9gN",
        "outputId": "f9d08960-d6bb-449a-dd76-682ec5d1f4dc"
      },
      "execution_count": 41,
      "outputs": [
        {
          "output_type": "stream",
          "name": "stdout",
          "text": [
            "Reading pre-trained model from: /content/drive/My Drive/PredatorEye/saved_models/20220202_1211_Find_3_Disks_complex\n"
          ]
        }
      ]
    },
    {
      "cell_type": "markdown",
      "source": [
        "# Run test"
      ],
      "metadata": {
        "id": "itBD_Ve0lEYB"
      }
    },
    {
      "cell_type": "code",
      "source": [
        "# Normally start from step 0, or if an \"other\" file exists\n",
        "# (eg 'camo_123.jpeg') then restart from that point.\n",
        "restart_run()"
      ],
      "metadata": {
        "id": "iZQLL52Sk-X9"
      },
      "execution_count": null,
      "outputs": []
    }
  ]
}