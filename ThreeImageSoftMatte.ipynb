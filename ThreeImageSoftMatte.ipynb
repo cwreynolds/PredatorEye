{
  "nbformat": 4,
  "nbformat_minor": 0,
  "metadata": {
    "colab": {
      "name": "ThreeImageSoftMatte.ipynb",
      "provenance": [],
      "collapsed_sections": []
    },
    "kernelspec": {
      "name": "python3",
      "display_name": "Python 3"
    },
    "language_info": {
      "name": "python"
    }
  },
  "cells": [
    {
      "cell_type": "markdown",
      "source": [
        "# Test three image alpha blend"
      ],
      "metadata": {
        "id": "ZdbW3c1_7K4W"
      }
    },
    {
      "cell_type": "code",
      "source": [
        "import math\n",
        "import numpy as np\n",
        "\n",
        "# Import DiskFind utilities for PredatorEye.\n",
        "import sys\n",
        "sys.path.append('/content/drive/My Drive/PredatorEye/shared_code/')\n",
        "import DiskFind as df\n",
        "\n",
        "df.set_global_random_seed(20220113)"
      ],
      "metadata": {
        "id": "_pwp-dWQ8Jyf"
      },
      "execution_count": 1,
      "outputs": []
    },
    {
      "cell_type": "code",
      "source": [
        "# See SO question \"Numpy - multiple 3d array with a 2d array\"\n",
        "#     Based on this SO answer: https://stackoverflow.com/a/46930388/1991373\n",
        "#     See also about np.tensordot: https://stackoverflow.com/a/46930585/1991373\n",
        "\n",
        "image_depth = 3\n",
        "image_size = 128\n",
        "# image_size = 3\n",
        "disk_radius = image_size * df.relative_disk_radius()\n",
        "image_shape = (image_size, image_size, image_depth)\n",
        "disk_diameter_int = int(disk_radius * 2)\n",
        "disk_shape = (disk_diameter_int, disk_diameter_int, image_depth)\n",
        "disk_matte_shape = (disk_diameter_int, disk_diameter_int, 1)\n",
        "\n",
        "print('image_size =', image_size)\n",
        "print('disk_radius =', disk_radius)\n",
        "\n",
        "matte = np.ones(disk_matte_shape, dtype=np.float32)\n",
        "# matte = np.random.rand(disk_diameter_int, disk_diameter_int, 1)\n",
        "\n",
        "# [[[1. 1. 1.] [1. 1. 1.] [1. 1. 1.]]\n",
        "#  [[1. 1. 1.] [1. 1. 1.] [1. 1. 1.]]\n",
        "#  [[1. 1. 1.] [1. 1. 1.] [1. 1. 1.]]]\n",
        "\n",
        "# print((matte * 100).astype(int))\n",
        "\n",
        "# Draw soft-eged disk with given centerpoint and color.\n",
        "# (Copied from Find_3_disks)\n",
        "# def draw_disk(center, color):\n",
        "def draw_disk(center, color, image):\n",
        "    cx = int(center[0])\n",
        "    cy = int(center[1])\n",
        "    dr = int(disk_radius)\n",
        "\n",
        "    # TODO temp for debugging\n",
        "    color = np.array(color)\n",
        "    bg_color = np.zeros(color.shape)\n",
        "\n",
        "    for x in range(cx - dr, cx + dr + 1):\n",
        "        for y in range(cy - dr, cy + dr + 1):\n",
        "            d = math.sqrt(math.pow(x - cx, 2) + math.pow(y - cy, 2))\n",
        "            if (d <= dr):\n",
        "                blend = df.spot_utility((x, y), center, dr * 0.85, dr)\n",
        "                # blend = df.spot_utility([x, y], center, dr * 0.85, dr)\n",
        "                # print('color =', color)\n",
        "                # print('type(color) =', type(color))\n",
        "                # print('bg_color =', bg_color)\n",
        "                # print('type(bg_color) =', type(bg_color))\n",
        "                image[x, y, :] = df.interpolate(blend, bg_color, color) \n",
        "\n",
        "# draw_disk([0.5, 0.5], [1, 1, 1], matte)\n",
        "# draw_disk((0.5, 0.5), [1.0, 1.0, 1.0], matte)\n",
        "# draw_disk((0.5, 0.5), [1.0], matte)\n",
        "draw_disk((6, 6), [1.0], matte)\n",
        "\n",
        "for y in range(int(disk_radius)):\n",
        "    line = ''\n",
        "    for x in range(int(disk_radius)):\n",
        "        # s = str(min(99, matte[x, y] * 100))\n",
        "        # s = '   ' +str(int(matte[x, y][0] * 100))\n",
        "        # line += s[-3:] + ' '\n",
        "        s = '   ' +str(int(matte[x, y][0] * 99))\n",
        "        line += s[-2:] + ' '\n",
        "    print(line)"
      ],
      "metadata": {
        "colab": {
          "base_uri": "https://localhost:8080/"
        },
        "id": "mTNPATTw7bH3",
        "outputId": "c7ab57d3-2534-4dbb-bdc9-4785282bad62"
      },
      "execution_count": 19,
      "outputs": [
        {
          "output_type": "stream",
          "name": "stdout",
          "text": [
            "image_size = 128\n",
            "disk_radius = 12.5625\n",
            "99 99 99 99 99 99 99 99 99 99 99 99 \n",
            "99 99 99 99 99 99 99 99 99 99 99 99 \n",
            "99 99 99 99 99 99 99 99 99 99 99 99 \n",
            "99 99 99 99 99 99 99 99 99 99 99 99 \n",
            "99 99 99 99 99 99 99 99 99 99 99 99 \n",
            "99 99 99 99 99 99 99 99 99 99 99 99 \n",
            "99 99 99 99 99 99 99 99 99 99 99 99 \n",
            "99 99 99 99 99 99 99 99 99 99 99 99 \n",
            "99 99 99 99 99 99 99 99 99 99 99 99 \n",
            "99 99 99 99 99 99 99 99 99 99 99 99 \n",
            "99 99 99 99 99 99 99 99 99 99 99 99 \n",
            "99 99 99 99 99 99 99 99 99 99 99 99 \n"
          ]
        }
      ]
    },
    {
      "cell_type": "code",
      "execution_count": null,
      "metadata": {
        "id": "lueJDGZY7K_O"
      },
      "outputs": [],
      "source": [
        ""
      ]
    }
  ]
}