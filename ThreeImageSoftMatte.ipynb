{
  "nbformat": 4,
  "nbformat_minor": 0,
  "metadata": {
    "colab": {
      "name": "ThreeImageSoftMatte.ipynb",
      "provenance": [],
      "collapsed_sections": []
    },
    "kernelspec": {
      "name": "python3",
      "display_name": "Python 3"
    },
    "language_info": {
      "name": "python"
    }
  },
  "cells": [
    {
      "cell_type": "markdown",
      "source": [
        "# Test three image alpha blend"
      ],
      "metadata": {
        "id": "ZdbW3c1_7K4W"
      }
    },
    {
      "cell_type": "code",
      "source": [
        "import math\n",
        "import numpy as np\n",
        "\n",
        "# Import DiskFind utilities for PredatorEye.\n",
        "import sys\n",
        "sys.path.append('/content/drive/My Drive/PredatorEye/shared_code/')\n",
        "import DiskFind as df\n",
        "\n",
        "df.set_global_random_seed(20220113)"
      ],
      "metadata": {
        "id": "_pwp-dWQ8Jyf"
      },
      "execution_count": 15,
      "outputs": []
    },
    {
      "cell_type": "code",
      "source": [
        "# See SO question \"Numpy - multiple 3d array with a 2d array\"\n",
        "#     Based on this SO answer: https://stackoverflow.com/a/46930388/1991373\n",
        "#     See also about np.tensordot: https://stackoverflow.com/a/46930585/1991373\n",
        "\n",
        "print('df.relative_disk_radius() =', df.relative_disk_radius())\n",
        "\n",
        "image_depth = 3\n",
        "image_size = 128\n",
        "disk_radius = image_size * df.relative_disk_radius()\n",
        "disk_radius_int = round(disk_radius)\n",
        "disk_diameter_int = disk_radius_int * 2\n",
        "image_shape = (image_size, image_size, image_depth)\n",
        "disk_shape = (disk_diameter_int, disk_diameter_int, image_depth)\n",
        "disk_matte_shape = (disk_diameter_int, disk_diameter_int, 1)\n",
        "\n",
        "print('image_size =', image_size)\n",
        "print('disk_radius =', disk_radius)\n",
        "print('disk_radius_int =', disk_radius_int)\n",
        "\n",
        "# matte = np.ones(disk_matte_shape, dtype=np.float32)\n",
        "matte = np.zeros(disk_matte_shape, dtype=np.float32)\n",
        "print('matte.shape =', matte.shape)\n",
        "\n",
        "\n",
        "# Draw soft-eged disk with given centerpoint and color.\n",
        "# (Copied from Find_3_disks)\n",
        "def draw_disk(center, color, image):\n",
        "    cx = int(center[0])\n",
        "    cy = int(center[1])\n",
        "    dr = int(disk_radius)\n",
        "\n",
        "    # TODO temp for debugging\n",
        "    color = np.array(color)\n",
        "    bg_color = np.zeros(color.shape)\n",
        "    image[:,:] = 0.81\n",
        "\n",
        "    for x in range(cx - dr, cx + dr + 1):\n",
        "        for y in range(cy - dr, cy + dr + 1):\n",
        "            d = math.sqrt(math.pow(x - cx, 2) + math.pow(y - cy, 2))\n",
        "            if (d <= dr):\n",
        "                blend = df.spot_utility((x, y), center, dr * 0.85, dr)\n",
        "                image[x, y, :] = df.interpolate(blend, bg_color, color) \n",
        "    print_matte(image)\n",
        "    return image\n",
        "\n",
        "def print_matte(image):\n",
        "    for y in range(disk_diameter_int):\n",
        "        line = ''\n",
        "        for x in range(disk_diameter_int):\n",
        "            s = '   ' +str(int(image[x, y][0] * 99))\n",
        "            line += s[-2:] + ' '\n",
        "        print(line)\n",
        "\n",
        "# matte = draw_disk((disk_radius_int, disk_radius_int), [1.0], matte)\n",
        "# df.draw_image(np.concatenate((matte, matte, matte), axis=2))\n",
        "\n",
        "\n",
        "# Generate a soft disk matte, an array with shape (diameter, diameter, 1).\n",
        "# Uses the TexSyn Spot parameters: inner_radius and outer_radius.\n",
        "# TODO can outer_radius always be (diameter / 2.0)?\n",
        "def make_disk_matte(diameter, inner_radius, outer_radius):\n",
        "    # Coerce diameter to be int, to be used as an index for pixels.\n",
        "    diameter = round(diameter)\n",
        "    # Make the array to return.\n",
        "    image = np.zeros((diameter, diameter, 1), dtype=np.float32)\n",
        "    # Centerpoint of disk (as float, independent of pixel boundaries).\n",
        "    cp = (diameter / 2.0, diameter / 2.0)\n",
        "    # Loop over all pixel coordiantes (xi, yi) with (xf, yf) as center of pixel.\n",
        "    for xi in range(diameter):\n",
        "        xf = xi + 0.5\n",
        "        for yi in range(diameter):\n",
        "            yf = yi + 0.5\n",
        "            image[xi, yi, :] = df.spot_utility((xf, yf), cp,\n",
        "                                                inner_radius, outer_radius)\n",
        "            # TODO temp for debugging\n",
        "            d = math.sqrt(math.pow(xf - cp[0], 2) + math.pow(yf - cp[1], 2))\n",
        "            if (d > outer_radius):\n",
        "                image[xi, yi, :] = 0.81\n",
        "    return image\n",
        "\n",
        "matte = make_disk_matte(disk_diameter_int,\n",
        "                        disk_radius * 0.85,\n",
        "                        disk_radius)\n",
        "df.draw_image(np.concatenate((matte, matte, matte), axis=2))\n",
        "\n",
        "matte = make_disk_matte(25, 0, 12.5)\n",
        "df.draw_image(np.concatenate((matte, matte, matte), axis=2))\n",
        "\n",
        "matte = make_disk_matte(24, 0, 12)\n",
        "df.draw_image(np.concatenate((matte, matte, matte), axis=2))"
      ],
      "metadata": {
        "colab": {
          "base_uri": "https://localhost:8080/",
          "height": 848
        },
        "id": "mTNPATTw7bH3",
        "outputId": "4dc0497c-71d1-46f9-f381-accf8746e7f8"
      },
      "execution_count": 16,
      "outputs": [
        {
          "output_type": "stream",
          "name": "stdout",
          "text": [
            "df.relative_disk_radius() = 0.09814453125\n",
            "image_size = 128\n",
            "disk_radius = 12.5625\n",
            "disk_radius_int = 13\n",
            "matte.shape = (26, 26, 1)\n"
          ]
        },
        {
          "output_type": "display_data",
          "data": {
            "image/png": "[encoded data removed]",
            "text/plain": [
              "<Figure size 432x288 with 1 Axes>"
            ]
          },
          "metadata": {
            "needs_background": "light"
          }
        },
        {
          "output_type": "display_data",
          "data": {
            "image/png": "[encoded data removed]",
            "text/plain": [
              "<Figure size 432x288 with 1 Axes>"
            ]
          },
          "metadata": {
            "needs_background": "light"
          }
        },
        {
          "output_type": "display_data",
          "data": {
            "image/png": "[encoded data removed]",
            "text/plain": [
              "<Figure size 432x288 with 1 Axes>"
            ]
          },
          "metadata": {
            "needs_background": "light"
          }
        }
      ]
    },
    {
      "cell_type": "code",
      "source": [
        "matte = np.zeros((10, 10, 1), dtype=np.float32)\n",
        "print('matte.shape =', matte.shape)\n",
        "print('matte[0,0,:] =', matte[0,0,:])\n",
        "df.draw_image(np.concatenate((matte, matte, matte), axis=2))\n",
        "\n",
        "matte[:,:] = 1\n",
        "print('matte.shape =', matte.shape)\n",
        "print('matte[0,0,:] =', matte[0,0,:])\n",
        "df.draw_image(np.concatenate((matte, matte, matte), axis=2))\n",
        "\n",
        "matte[:,:] = 0.5\n",
        "print('matte.shape =', matte.shape)\n",
        "print('matte[0,0,:] =', matte[0,0,:])\n",
        "df.draw_image(np.concatenate((matte, matte, matte), axis=2))\n",
        "\n",
        "matte = np.random.rand(10, 10, 1).astype(np.float32)\n",
        "print('matte.shape =', matte.shape)\n",
        "print('matte[0,0,:] =', matte[0,0,:])\n",
        "df.draw_image(np.concatenate((matte, matte, matte), axis=2))"
      ],
      "metadata": {
        "colab": {
          "base_uri": "https://localhost:8080/",
          "height": 1000
        },
        "id": "_wqdJiNBbdb-",
        "outputId": "bb45a3bc-fee2-4f8b-9a43-6aad61ef3268"
      },
      "execution_count": 26,
      "outputs": [
        {
          "output_type": "stream",
          "name": "stdout",
          "text": [
            "matte.shape = (10, 10, 1)\n",
            "matte[0,0,:] = [0.]\n"
          ]
        },
        {
          "output_type": "display_data",
          "data": {
            "image/png": "[encoded data removed]",
            "text/plain": [
              "<Figure size 432x288 with 1 Axes>"
            ]
          },
          "metadata": {
            "needs_background": "light"
          }
        },
        {
          "output_type": "stream",
          "name": "stdout",
          "text": [
            "matte.shape = (10, 10, 1)\n",
            "matte[0,0,:] = [1.]\n"
          ]
        },
        {
          "output_type": "display_data",
          "data": {
            "image/png": "[encoded data removed]",
            "text/plain": [
              "<Figure size 432x288 with 1 Axes>"
            ]
          },
          "metadata": {
            "needs_background": "light"
          }
        },
        {
          "output_type": "stream",
          "name": "stdout",
          "text": [
            "matte.shape = (10, 10, 1)\n",
            "matte[0,0,:] = [0.5]\n"
          ]
        },
        {
          "output_type": "display_data",
          "data": {
            "image/png": "[encoded data removed]",
            "text/plain": [
              "<Figure size 432x288 with 1 Axes>"
            ]
          },
          "metadata": {
            "needs_background": "light"
          }
        },
        {
          "output_type": "stream",
          "name": "stdout",
          "text": [
            "matte.shape = (10, 10, 1)\n",
            "matte[0,0,:] = [0.6663602]\n"
          ]
        },
        {
          "output_type": "display_data",
          "data": {
            "image/png": "[encoded data removed]",
            "text/plain": [
              "<Figure size 432x288 with 1 Axes>"
            ]
          },
          "metadata": {
            "needs_background": "light"
          }
        }
      ]
    }
  ]
}