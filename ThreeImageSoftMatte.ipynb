{
  "nbformat": 4,
  "nbformat_minor": 0,
  "metadata": {
    "colab": {
      "name": "ThreeImageSoftMatte.ipynb",
      "provenance": [],
      "collapsed_sections": []
    },
    "kernelspec": {
      "name": "python3",
      "display_name": "Python 3"
    },
    "language_info": {
      "name": "python"
    }
  },
  "cells": [
    {
      "cell_type": "markdown",
      "source": [
        "# Test three image alpha blend"
      ],
      "metadata": {
        "id": "ZdbW3c1_7K4W"
      }
    },
    {
      "cell_type": "code",
      "source": [
        "import math\n",
        "import numpy as np\n",
        "\n",
        "# Import DiskFind utilities for PredatorEye.\n",
        "import sys\n",
        "sys.path.append('/content/drive/My Drive/PredatorEye/shared_code/')\n",
        "import DiskFind as df\n",
        "\n",
        "df.set_global_random_seed(20220113)"
      ],
      "metadata": {
        "id": "_pwp-dWQ8Jyf"
      },
      "execution_count": 3,
      "outputs": []
    },
    {
      "cell_type": "code",
      "source": [
        "# See SO question \"Numpy - multiple 3d array with a 2d array\"\n",
        "#     Based on this SO answer: https://stackoverflow.com/a/46930388/1991373\n",
        "#     See also about np.tensordot: https://stackoverflow.com/a/46930585/1991373\n",
        "\n",
        "print('df.relative_disk_radius() =', df.relative_disk_radius())\n",
        "\n",
        "image_depth = 3\n",
        "image_size = 128\n",
        "# image_size = 3\n",
        "# image_size = 32\n",
        "disk_radius = image_size * df.relative_disk_radius()\n",
        "disk_radius_int = round(disk_radius)\n",
        "disk_diameter_int = disk_radius_int * 2\n",
        "image_shape = (image_size, image_size, image_depth)\n",
        "disk_shape = (disk_diameter_int, disk_diameter_int, image_depth)\n",
        "disk_matte_shape = (disk_diameter_int, disk_diameter_int, 1)\n",
        "\n",
        "print('image_size =', image_size)\n",
        "print('disk_radius =', disk_radius)\n",
        "print('disk_radius_int =', disk_radius_int)\n",
        "\n",
        "# matte = np.ones(disk_matte_shape, dtype=np.float32)\n",
        "matte = np.zeros(disk_matte_shape, dtype=np.float32)\n",
        "print('matte.shape =', matte.shape)\n",
        "\n",
        "\n",
        "# Draw soft-eged disk with given centerpoint and color.\n",
        "# (Copied from Find_3_disks)\n",
        "# def draw_disk(center, color):\n",
        "def draw_disk(center, color, image):\n",
        "    cx = int(center[0])\n",
        "    cy = int(center[1])\n",
        "    dr = int(disk_radius)\n",
        "\n",
        "    # TODO temp for debugging\n",
        "    color = np.array(color)\n",
        "    bg_color = np.zeros(color.shape)\n",
        "\n",
        "    for x in range(cx - dr, cx + dr + 1):\n",
        "        for y in range(cy - dr, cy + dr + 1):\n",
        "            d = math.sqrt(math.pow(x - cx, 2) + math.pow(y - cy, 2))\n",
        "            if (d <= dr):\n",
        "                blend = df.spot_utility((x, y), center, dr * 0.85, dr)\n",
        "                # print((x, y),\n",
        "                #       'cx =', cx, 'cy =', cy,\n",
        "                #       'd =', d, 'dr =', dr,\n",
        "                #       'blend =', blend,\n",
        "                #       'color =', color, 'bg_color =', bg_color,\n",
        "                #       'interpolated = ', df.interpolate(blend, bg_color, color))                \n",
        "                image[x, y, :] = df.interpolate(blend, bg_color, color) \n",
        "    print_matte(image)\n",
        "    return image\n",
        "\n",
        "def print_matte(image):\n",
        "    # for y in range(int(disk_radius)):\n",
        "    for y in range(disk_diameter_int):\n",
        "        line = ''\n",
        "        # for x in range(int(disk_radius)):\n",
        "        for x in range(disk_diameter_int):\n",
        "            s = '   ' +str(int(image[x, y][0] * 99))\n",
        "            line += s[-2:] + ' '\n",
        "        print(line)\n",
        "\n",
        "matte = draw_disk((disk_radius_int, disk_radius_int), [1.0], matte)\n",
        "\n",
        "rgb_tensor = np.concatenate((matte, matte, matte), axis=2)\n",
        "\n",
        "df.draw_image(rgb_tensor)"
      ],
      "metadata": {
        "colab": {
          "base_uri": "https://localhost:8080/",
          "height": 803
        },
        "id": "mTNPATTw7bH3",
        "outputId": "90fcde74-9ff3-41dd-cd4d-6f19ad9eece5"
      },
      "execution_count": 24,
      "outputs": [
        {
          "output_type": "stream",
          "name": "stdout",
          "text": [
            "df.relative_disk_radius() = 0.09814453125\n",
            "image_size = 128\n",
            "disk_radius = 12.5625\n",
            "disk_radius_int = 13\n",
            "matte.shape = (26, 26, 1)\n",
            " 0  0  0  0  0  0  0  0  0  0  0  0  0  0  0  0  0  0  0  0  0  0  0  0  0  0 \n",
            " 0  0  0  0  0  0  0  0  0  0  0  0  0  0  0  0  0  0  0  0  0  0  0  0  0  0 \n",
            " 0  0  0  0  0  0  0  0  0  6 24 42 54 58 54 42 24  6  0  0  0  0  0  0  0  0 \n",
            " 0  0  0  0  0  0  0  8 42 76 94 99 99 99 99 99 94 76 42  8  0  0  0  0  0  0 \n",
            " 0  0  0  0  0  0 24 72 98 99 99 99 99 99 99 99 99 99 98 72 24  0  0  0  0  0 \n",
            " 0  0  0  0  0 31 85 99 99 99 99 99 99 99 99 99 99 99 99 99 85 31  0  0  0  0 \n",
            " 0  0  0  0 24 85 99 99 99 99 99 99 99 99 99 99 99 99 99 99 99 85 24  0  0  0 \n",
            " 0  0  0  8 72 99 99 99 99 99 99 99 99 99 99 99 99 99 99 99 99 99 72  8  0  0 \n",
            " 0  0  0 42 98 99 99 99 99 99 99 99 99 99 99 99 99 99 99 99 99 99 98 42  0  0 \n",
            " 0  0  6 76 99 99 99 99 99 99 99 99 99 99 99 99 99 99 99 99 99 99 99 76  6  0 \n",
            " 0  0 24 94 99 99 99 99 99 99 99 99 99 99 99 99 99 99 99 99 99 99 99 94 24  0 \n",
            " 0  0 42 99 99 99 99 99 99 99 99 99 99 99 99 99 99 99 99 99 99 99 99 99 42  0 \n",
            " 0  0 54 99 99 99 99 99 99 99 99 99 99 99 99 99 99 99 99 99 99 99 99 99 54  0 \n",
            " 0  0 58 99 99 99 99 99 99 99 99 99 99 99 99 99 99 99 99 99 99 99 99 99 58  0 \n",
            " 0  0 54 99 99 99 99 99 99 99 99 99 99 99 99 99 99 99 99 99 99 99 99 99 54  0 \n",
            " 0  0 42 99 99 99 99 99 99 99 99 99 99 99 99 99 99 99 99 99 99 99 99 99 42  0 \n",
            " 0  0 24 94 99 99 99 99 99 99 99 99 99 99 99 99 99 99 99 99 99 99 99 94 24  0 \n",
            " 0  0  6 76 99 99 99 99 99 99 99 99 99 99 99 99 99 99 99 99 99 99 99 76  6  0 \n",
            " 0  0  0 42 98 99 99 99 99 99 99 99 99 99 99 99 99 99 99 99 99 99 98 42  0  0 \n",
            " 0  0  0  8 72 99 99 99 99 99 99 99 99 99 99 99 99 99 99 99 99 99 72  8  0  0 \n",
            " 0  0  0  0 24 85 99 99 99 99 99 99 99 99 99 99 99 99 99 99 99 85 24  0  0  0 \n",
            " 0  0  0  0  0 31 85 99 99 99 99 99 99 99 99 99 99 99 99 99 85 31  0  0  0  0 \n",
            " 0  0  0  0  0  0 24 72 98 99 99 99 99 99 99 99 99 99 98 72 24  0  0  0  0  0 \n",
            " 0  0  0  0  0  0  0  8 42 76 94 99 99 99 99 99 94 76 42  8  0  0  0  0  0  0 \n",
            " 0  0  0  0  0  0  0  0  0  6 24 42 54 58 54 42 24  6  0  0  0  0  0  0  0  0 \n",
            " 0  0  0  0  0  0  0  0  0  0  0  0  0  0  0  0  0  0  0  0  0  0  0  0  0  0 \n"
          ]
        },
        {
          "output_type": "display_data",
          "data": {
            "image/png": "[encoded data removed]",
            "text/plain": [
              "<Figure size 432x288 with 1 Axes>"
            ]
          },
          "metadata": {
            "needs_background": "light"
          }
        }
      ]
    }
  ]
}