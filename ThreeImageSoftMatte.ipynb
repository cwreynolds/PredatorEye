{
  "nbformat": 4,
  "nbformat_minor": 0,
  "metadata": {
    "colab": {
      "name": "ThreeImageSoftMatte.ipynb",
      "provenance": [],
      "collapsed_sections": []
    },
    "kernelspec": {
      "name": "python3",
      "display_name": "Python 3"
    },
    "language_info": {
      "name": "python"
    }
  },
  "cells": [
    {
      "cell_type": "markdown",
      "source": [
        "# Test three image alpha blend"
      ],
      "metadata": {
        "id": "ZdbW3c1_7K4W"
      }
    },
    {
      "cell_type": "code",
      "source": [
        "import math\n",
        "import numpy as np\n",
        "\n",
        "# Import DiskFind utilities for PredatorEye.\n",
        "import sys\n",
        "sys.path.append('/content/drive/My Drive/PredatorEye/shared_code/')\n",
        "import DiskFind as df\n",
        "\n",
        "df.set_global_random_seed(20220113)"
      ],
      "metadata": {
        "id": "_pwp-dWQ8Jyf"
      },
      "execution_count": 1,
      "outputs": []
    },
    {
      "cell_type": "code",
      "source": [
        "# See SO question \"Numpy - multiple 3d array with a 2d array\"\n",
        "#     Based on this SO answer: https://stackoverflow.com/a/46930388/1991373\n",
        "#     See also about np.tensordot: https://stackoverflow.com/a/46930585/1991373\n",
        "\n",
        "print('df.relative_disk_radius() =', df.relative_disk_radius())\n",
        "\n",
        "image_depth = 3\n",
        "image_size = 128\n",
        "disk_radius = image_size * df.relative_disk_radius()\n",
        "disk_radius_int = round(disk_radius)\n",
        "disk_diameter_int = disk_radius_int * 2\n",
        "image_shape = (image_size, image_size, image_depth)\n",
        "disk_shape = (disk_diameter_int, disk_diameter_int, image_depth)\n",
        "disk_matte_shape = (disk_diameter_int, disk_diameter_int, 1)\n",
        "\n",
        "print('image_size =', image_size)\n",
        "print('disk_radius =', disk_radius)\n",
        "print('disk_radius_int =', disk_radius_int)\n",
        "\n",
        "# matte = np.ones(disk_matte_shape, dtype=np.float32)\n",
        "matte = np.zeros(disk_matte_shape, dtype=np.float32)\n",
        "print('matte.shape =', matte.shape)\n",
        "\n",
        "\n",
        "# Draw soft-eged disk with given centerpoint and color.\n",
        "# (Copied from Find_3_disks)\n",
        "def draw_disk(center, color, image):\n",
        "    cx = int(center[0])\n",
        "    cy = int(center[1])\n",
        "    dr = int(disk_radius)\n",
        "\n",
        "    # TODO temp for debugging\n",
        "    color = np.array(color)\n",
        "    bg_color = np.zeros(color.shape)\n",
        "    image[:,:] = 0.81\n",
        "\n",
        "    for x in range(cx - dr, cx + dr + 1):\n",
        "        for y in range(cy - dr, cy + dr + 1):\n",
        "            d = math.sqrt(math.pow(x - cx, 2) + math.pow(y - cy, 2))\n",
        "            if (d <= dr):\n",
        "                blend = df.spot_utility((x, y), center, dr * 0.85, dr)\n",
        "                image[x, y, :] = df.interpolate(blend, bg_color, color) \n",
        "    print_matte(image)\n",
        "    return image\n",
        "\n",
        "def print_matte(image):\n",
        "    for y in range(disk_diameter_int):\n",
        "        line = ''\n",
        "        for x in range(disk_diameter_int):\n",
        "            s = '   ' +str(int(image[x, y][0] * 99))\n",
        "            line += s[-2:] + ' '\n",
        "        print(line)\n",
        "\n",
        "# matte = draw_disk((disk_radius_int, disk_radius_int), [1.0], matte)\n",
        "# df.draw_image(np.concatenate((matte, matte, matte), axis=2))\n",
        "\n",
        "\n",
        "# Generate a soft disk matte, an array with shape (diameter, diameter, 1).\n",
        "# Uses the TexSyn Spot parameters: inner_radius and outer_radius.\n",
        "# TODO can outer_radius always be (diameter / 2.0)?\n",
        "def make_disk_matte(diameter, inner_radius, outer_radius):\n",
        "    # Coerce diameter to be int, to be used as an index for pixels.\n",
        "    diameter = round(diameter)\n",
        "    # Make the array to return.\n",
        "    image = np.zeros((diameter, diameter, 1), dtype=np.float32)\n",
        "    # Centerpoint of disk (as float, independent of pixel boundaries).\n",
        "    cp = (diameter / 2.0, diameter / 2.0)\n",
        "    # Loop over all pixel coordiantes (xi, yi) with (xf, yf) as center of pixel.\n",
        "    for xi in range(diameter):\n",
        "        xf = xi + 0.5\n",
        "        for yi in range(diameter):\n",
        "            yf = yi + 0.5\n",
        "            image[xi, yi, :] = df.spot_utility((xf, yf), cp,\n",
        "                                                inner_radius, outer_radius)\n",
        "            # # TODO temp for debugging\n",
        "            # d = math.sqrt(math.pow(xf - cp[0], 2) + math.pow(yf - cp[1], 2))\n",
        "            # if (d > outer_radius):\n",
        "            #     image[xi, yi, :] = 0.81\n",
        "    return image\n",
        "\n",
        "matte = make_disk_matte(disk_diameter_int,\n",
        "                        disk_radius * 0.85,\n",
        "                        disk_radius)\n",
        "df.draw_image(np.concatenate((matte, matte, matte), axis=2))\n",
        "\n",
        "matte = make_disk_matte(25, 0, 12.5)\n",
        "df.draw_image(np.concatenate((matte, matte, matte), axis=2))\n",
        "\n",
        "matte = make_disk_matte(24, 0, 12)\n",
        "df.draw_image(np.concatenate((matte, matte, matte), axis=2))"
      ],
      "metadata": {
        "colab": {
          "base_uri": "https://localhost:8080/",
          "height": 848
        },
        "id": "mTNPATTw7bH3",
        "outputId": "ff01a4a2-1801-452c-9ffc-acbcf629dc64"
      },
      "execution_count": 2,
      "outputs": [
        {
          "output_type": "stream",
          "name": "stdout",
          "text": [
            "df.relative_disk_radius() = 0.09814453125\n",
            "image_size = 128\n",
            "disk_radius = 12.5625\n",
            "disk_radius_int = 13\n",
            "matte.shape = (26, 26, 1)\n"
          ]
        },
        {
          "output_type": "display_data",
          "data": {
            "image/png": "[encoded data removed]",
            "text/plain": [
              "<Figure size 432x288 with 1 Axes>"
            ]
          },
          "metadata": {
            "needs_background": "light"
          }
        },
        {
          "output_type": "display_data",
          "data": {
            "image/png": "[encoded data removed]",
            "text/plain": [
              "<Figure size 432x288 with 1 Axes>"
            ]
          },
          "metadata": {
            "needs_background": "light"
          }
        },
        {
          "output_type": "display_data",
          "data": {
            "image/png": "[encoded data removed]",
            "text/plain": [
              "<Figure size 432x288 with 1 Axes>"
            ]
          },
          "metadata": {
            "needs_background": "light"
          }
        }
      ]
    },
    {
      "cell_type": "code",
      "source": [
        "matte = np.zeros((10, 10, 1), dtype=np.float32)\n",
        "print('matte.shape =', matte.shape)\n",
        "print('matte[0,0,:] =', matte[0,0,:])\n",
        "df.draw_image(np.concatenate((matte, matte, matte), axis=2))\n",
        "\n",
        "matte[:,:] = 1\n",
        "print('matte.shape =', matte.shape)\n",
        "print('matte[0,0,:] =', matte[0,0,:])\n",
        "df.draw_image(np.concatenate((matte, matte, matte), axis=2))\n",
        "\n",
        "matte[:,:] = 0.5\n",
        "print('matte.shape =', matte.shape)\n",
        "print('matte[0,0,:] =', matte[0,0,:])\n",
        "df.draw_image(np.concatenate((matte, matte, matte), axis=2))\n",
        "\n",
        "matte = np.random.rand(10, 10, 1).astype(np.float32)\n",
        "print('matte.shape =', matte.shape)\n",
        "print('matte[0,0,:] =', matte[0,0,:])\n",
        "df.draw_image(np.concatenate((matte, matte, matte), axis=2))"
      ],
      "metadata": {
        "colab": {
          "base_uri": "https://localhost:8080/",
          "height": 1000
        },
        "id": "_wqdJiNBbdb-",
        "outputId": "1f0300cd-2211-49d6-e503-5558c6a5bf51"
      },
      "execution_count": 3,
      "outputs": [
        {
          "output_type": "stream",
          "name": "stdout",
          "text": [
            "matte.shape = (10, 10, 1)\n",
            "matte[0,0,:] = [0.]\n"
          ]
        },
        {
          "output_type": "display_data",
          "data": {
            "image/png": "[encoded data removed]",
            "text/plain": [
              "<Figure size 432x288 with 1 Axes>"
            ]
          },
          "metadata": {
            "needs_background": "light"
          }
        },
        {
          "output_type": "stream",
          "name": "stdout",
          "text": [
            "matte.shape = (10, 10, 1)\n",
            "matte[0,0,:] = [1.]\n"
          ]
        },
        {
          "output_type": "display_data",
          "data": {
            "image/png": "[encoded data removed]",
            "text/plain": [
              "<Figure size 432x288 with 1 Axes>"
            ]
          },
          "metadata": {
            "needs_background": "light"
          }
        },
        {
          "output_type": "stream",
          "name": "stdout",
          "text": [
            "matte.shape = (10, 10, 1)\n",
            "matte[0,0,:] = [0.5]\n"
          ]
        },
        {
          "output_type": "display_data",
          "data": {
            "image/png": "[encoded data removed]",
            "text/plain": [
              "<Figure size 432x288 with 1 Axes>"
            ]
          },
          "metadata": {
            "needs_background": "light"
          }
        },
        {
          "output_type": "stream",
          "name": "stdout",
          "text": [
            "matte.shape = (10, 10, 1)\n",
            "matte[0,0,:] = [0.54879534]\n"
          ]
        },
        {
          "output_type": "display_data",
          "data": {
            "image/png": "[encoded data removed]",
            "text/plain": [
              "<Figure size 432x288 with 1 Axes>"
            ]
          },
          "metadata": {
            "needs_background": "light"
          }
        }
      ]
    },
    {
      "cell_type": "code",
      "source": [
        "rgb = np.zeros((10, 10, 3), dtype=np.float32)\n",
        "print('rgb.shape =', rgb.shape)\n",
        "print('rgb[0,0,:] =', rgb[0,0,:])\n",
        "df.draw_image(rgb)\n",
        "\n",
        "rgb[:,:,:] = [1.0, 0.5, 0.0]\n",
        "print('rgb.shape =', rgb.shape)\n",
        "print('rgb[0,0,:] =', rgb[0,0,:])\n",
        "df.draw_image(rgb)\n",
        "\n",
        "rgb = np.random.rand(10, 10, 3).astype(np.float32)\n",
        "print('rgb.shape =', rgb.shape)\n",
        "print('rgb[0,0,:] =', rgb[0,0,:])\n",
        "df.draw_image(rgb)"
      ],
      "metadata": {
        "colab": {
          "base_uri": "https://localhost:8080/",
          "height": 865
        },
        "id": "MvTJtbeOhRSc",
        "outputId": "167db0b7-4051-4096-c3be-06446e87d0a8"
      },
      "execution_count": 4,
      "outputs": [
        {
          "output_type": "stream",
          "name": "stdout",
          "text": [
            "rgb.shape = (10, 10, 3)\n",
            "rgb[0,0,:] = [0. 0. 0.]\n"
          ]
        },
        {
          "output_type": "display_data",
          "data": {
            "image/png": "[encoded data removed]",
            "text/plain": [
              "<Figure size 432x288 with 1 Axes>"
            ]
          },
          "metadata": {
            "needs_background": "light"
          }
        },
        {
          "output_type": "stream",
          "name": "stdout",
          "text": [
            "rgb.shape = (10, 10, 3)\n",
            "rgb[0,0,:] = [1.  0.5 0. ]\n"
          ]
        },
        {
          "output_type": "display_data",
          "data": {
            "image/png": "[encoded data removed]",
            "text/plain": [
              "<Figure size 432x288 with 1 Axes>"
            ]
          },
          "metadata": {
            "needs_background": "light"
          }
        },
        {
          "output_type": "stream",
          "name": "stdout",
          "text": [
            "rgb.shape = (10, 10, 3)\n",
            "rgb[0,0,:] = [0.3626755  0.86793876 0.06647343]\n"
          ]
        },
        {
          "output_type": "display_data",
          "data": {
            "image/png": "[encoded data removed]",
            "text/plain": [
              "<Figure size 432x288 with 1 Axes>"
            ]
          },
          "metadata": {
            "needs_background": "light"
          }
        }
      ]
    },
    {
      "cell_type": "markdown",
      "source": [
        "# Checkerboard test pattern"
      ],
      "metadata": {
        "id": "UrjNNEoInrZC"
      }
    },
    {
      "cell_type": "code",
      "source": [
        "# # Generate image (rgb pixel tensor) with a black and white checkerboard pattern.\n",
        "# def make_checkerboard(size, half_wavelength):\n",
        "#     image = np.zeros((size, size, 3), dtype=np.float32)\n",
        "#     for x in range(size):\n",
        "#         for y in range(size):\n",
        "#             if 0 == ((int(x / half_wavelength) + int(y / half_wavelength)) % 2):\n",
        "#                 image[x, y, :] = [1, 1, 1]\n",
        "#     return image\n",
        "\n",
        "# df.draw_image(make_checkerboard(100, 5))\n",
        "\n",
        "# Generate image (rgb pixel tensor) with a black and white checkerboard pattern.\n",
        "def make_checkerboard(size, half_wavelength, c0=[0,0,0], c1=[1,1,1]):\n",
        "    # image = np.zeros((size, size, 3), dtype=np.float32)\n",
        "    image = np.empty((size, size, 3), dtype=np.float32)\n",
        "    image[:,:,:] = c0\n",
        "    for x in range(size):\n",
        "        for y in range(size):\n",
        "            if 0 == ((int(x / half_wavelength) + int(y / half_wavelength)) % 2):\n",
        "                # image[x, y, :] = [1, 1, 1]\n",
        "                image[x, y, :] = c1\n",
        "    return image\n",
        "\n",
        "\n",
        "# cb = make_checkerboard(100, 5)\n",
        "# print('rgb.shape =', rgb.shape)\n",
        "# df.draw_image(cb)\n",
        "\n",
        "df.draw_image(make_checkerboard(100, 5))\n",
        "df.draw_image(make_checkerboard(100, 5, [1, 1, 0], [0, 0, 1]))\n"
      ],
      "metadata": {
        "colab": {
          "base_uri": "https://localhost:8080/",
          "height": 519
        },
        "id": "LmxIVtqhirRW",
        "outputId": "32446e15-1556-4ed5-bc97-a09a3aa9edca"
      },
      "execution_count": 5,
      "outputs": [
        {
          "output_type": "display_data",
          "data": {
            "image/png": "[encoded data removed]",
            "text/plain": [
              "<Figure size 432x288 with 1 Axes>"
            ]
          },
          "metadata": {
            "needs_background": "light"
          }
        },
        {
          "output_type": "display_data",
          "data": {
            "image/png": "[encoded data removed]",
            "text/plain": [
              "<Figure size 432x288 with 1 Axes>"
            ]
          },
          "metadata": {
            "needs_background": "light"
          }
        }
      ]
    },
    {
      "cell_type": "markdown",
      "source": [
        "# Low pass filter"
      ],
      "metadata": {
        "id": "N1QxmP2t2ecL"
      }
    },
    {
      "cell_type": "code",
      "source": [
        "def lpf_3x3_box(image):\n",
        "    # print('image.shape =', image.shape)\n",
        "    # print('type(image) =', type(image))\n",
        "\n",
        "    s = image.shape\n",
        "    # print('s =', s)\n",
        "    # print('s[0] =', s[0])\n",
        "    filtered = np.empty(s, dtype=np.float32)\n",
        "    for x in range(s[0]):\n",
        "        for y in range(s[1]):\n",
        "            sum = [0,0,0]\n",
        "            count = 0\n",
        "            for i in range(-1, 2):\n",
        "                for j in range(-1, 2):\n",
        "                    p = x + i\n",
        "                    q = y + j\n",
        "                    if (p >= 0) and (q >= 0) and (p < s[0]) and (q < s[1]):\n",
        "                        count += 1\n",
        "                        sum += image[p, q, :]\n",
        "            filtered[x, y, :] = sum / count\n",
        "    return filtered\n",
        "\n",
        "bg = np.random.rand(disk_diameter_int, disk_diameter_int, 3).astype(np.float32)\n",
        "print('bg.shape =', bg.shape)\n",
        "print('type(bg) =', type(bg))\n",
        "df.draw_image(bg)\n",
        "\n",
        "# fbg = np.random.rand(disk_diameter_int, disk_diameter_int, 3).astype(np.float32)\n",
        "\n",
        "fbg = lpf_3x3_box(bg)\n",
        "print('fbg.shape =', fbg.shape)\n",
        "df.draw_image(fbg)"
      ],
      "metadata": {
        "colab": {
          "base_uri": "https://localhost:8080/",
          "height": 565
        },
        "id": "tauJdXi_2fLk",
        "outputId": "8350a2b0-4cc2-4766-8758-4887ecd5a1f4"
      },
      "execution_count": 6,
      "outputs": [
        {
          "output_type": "stream",
          "name": "stdout",
          "text": [
            "bg.shape = (26, 26, 3)\n",
            "type(bg) = <class 'numpy.ndarray'>\n"
          ]
        },
        {
          "output_type": "display_data",
          "data": {
            "image/png": "[encoded data removed]",
            "text/plain": [
              "<Figure size 432x288 with 1 Axes>"
            ]
          },
          "metadata": {
            "needs_background": "light"
          }
        },
        {
          "output_type": "stream",
          "name": "stdout",
          "text": [
            "fbg.shape = (26, 26, 3)\n"
          ]
        },
        {
          "output_type": "display_data",
          "data": {
            "image/png": "[encoded data removed]",
            "text/plain": [
              "<Figure size 432x288 with 1 Axes>"
            ]
          },
          "metadata": {
            "needs_background": "light"
          }
        }
      ]
    },
    {
      "cell_type": "markdown",
      "source": [
        "# Soft matte"
      ],
      "metadata": {
        "id": "5LKMc2_bpbRk"
      }
    },
    {
      "cell_type": "code",
      "source": [
        "# Matte (composite) one \"foreground\" RGB image over another \"background\" image,\n",
        "# according to per-pixel scalar alpha weights in \"matte\".\n",
        "def soft_matte(foreground, background, matte):\n",
        "    soft_matte_check_args(foreground, background, matte)\n",
        "    return (soft_matte_wighted_element(foreground, matte) +\n",
        "            soft_matte_wighted_element(background, 1 - matte))\n",
        "\n",
        "# Multiply given (RGB) image by weights in given (single channel) matte.\n",
        "def soft_matte_wighted_element(image, matte):\n",
        "    w = image.shape[0]\n",
        "    h = image.shape[1]\n",
        "    reshape_image = image.reshape(w * h, 3).T\n",
        "    reshape_matte = matte.reshape(w * h, 1).T\n",
        "    alpha_reshape = reshape_matte * reshape_image\n",
        "    alpha = alpha_reshape.T.reshape([w, h, 3])\n",
        "    return alpha\n",
        "\n",
        "def soft_matte_check_args(foreground, background, matte):\n",
        "    assert foreground.shape[2] == 3, \"'foreground' should be 3 floats deep\"\n",
        "    assert background.shape[2] == 3, \"'background' should be 3 floats deep\"\n",
        "    assert matte.shape[2] == 1, \"'matte' should be 1 float deep\"\n",
        "    a = foreground.shape[0:1] == matte.shape[0:1]\n",
        "    assert a, \"width or height of 'foreground' and 'matte' do not match\"\n",
        "    a = background.shape[0:1] == matte.shape[0:1]\n",
        "    assert a, \"width or height of 'background' and 'matte' do not match\"\n",
        "\n",
        "bg = np.random.rand(disk_diameter_int, disk_diameter_int, 3).astype(np.float32)\n",
        "bg = lpf_3x3_box(bg)\n",
        "print('bg.shape =', bg.shape)\n",
        "df.draw_image(bg)\n",
        "\n",
        "fg = make_checkerboard(disk_diameter_int, 2, [1, 1, 0], [0, 0, 1])\n",
        "print('fg.shape =', fg.shape)\n",
        "df.draw_image(fg)\n",
        "\n",
        "# matte = make_disk_matte(disk_diameter_int, disk_diameter_int / 4, disk_diameter_int / 2)\n",
        "matte = make_disk_matte(disk_diameter_int,\n",
        "                        disk_diameter_int * 0.5 * 0.8,\n",
        "                        disk_diameter_int * 0.5)\n",
        "print('matte.shape =', matte.shape)\n",
        "df.draw_image(np.concatenate((matte, matte, matte), axis=2))\n",
        "\n",
        "# df.draw_image(soft_matte(fg, bg, matte))\n",
        "df.draw_image(soft_matte(bg, fg, matte))"
      ],
      "metadata": {
        "colab": {
          "base_uri": "https://localhost:8080/",
          "height": 1000
        },
        "id": "tnGKwAK-mwey",
        "outputId": "5bbf04e1-1793-412e-a400-b44f1977e482"
      },
      "execution_count": 19,
      "outputs": [
        {
          "output_type": "stream",
          "name": "stdout",
          "text": [
            "bg.shape = (26, 26, 3)\n"
          ]
        },
        {
          "output_type": "display_data",
          "data": {
            "image/png": "[encoded data removed]",
            "text/plain": [
              "<Figure size 432x288 with 1 Axes>"
            ]
          },
          "metadata": {
            "needs_background": "light"
          }
        },
        {
          "output_type": "stream",
          "name": "stdout",
          "text": [
            "fg.shape = (26, 26, 3)\n"
          ]
        },
        {
          "output_type": "display_data",
          "data": {
            "image/png": "[encoded data removed]",
            "text/plain": [
              "<Figure size 432x288 with 1 Axes>"
            ]
          },
          "metadata": {
            "needs_background": "light"
          }
        },
        {
          "output_type": "stream",
          "name": "stdout",
          "text": [
            "matte.shape = (26, 26, 1)\n"
          ]
        },
        {
          "output_type": "display_data",
          "data": {
            "image/png": "[encoded data removed]",
            "text/plain": [
              "<Figure size 432x288 with 1 Axes>"
            ]
          },
          "metadata": {
            "needs_background": "light"
          }
        },
        {
          "output_type": "display_data",
          "data": {
            "image/png": "[encoded data removed]",
            "text/plain": [
              "<Figure size 432x288 with 1 Axes>"
            ]
          },
          "metadata": {
            "needs_background": "light"
          }
        }
      ]
    }
  ]
}