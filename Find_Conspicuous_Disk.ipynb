{
  "nbformat": 4,
  "nbformat_minor": 0,
  "metadata": {
    "colab": {
      "name": "Find_Conspicuous_Disk.ipynb",
      "provenance": [],
      "collapsed_sections": []
    },
    "kernelspec": {
      "display_name": "Python 3",
      "name": "python3"
    },
    "language_info": {
      "name": "python"
    },
    "accelerator": "GPU"
  },
  "cells": [
    {
      "cell_type": "code",
      "metadata": {
        "colab": {
          "base_uri": "https://localhost:8080/"
        },
        "id": "SDFOLYNF0oSj",
        "outputId": "c4c305e8-139f-4e39-9136-f72113536aa5"
      },
      "source": [
        "################################################\n",
        "## setup to use GPU TensorFlow on Colab -- cwr\n",
        "################################################\n",
        "\n",
        "%tensorflow_version 2.x\n",
        "import tensorflow as tf\n",
        "device_name = tf.test.gpu_device_name()\n",
        "\n",
        "#if device_name != '/device:GPU:0':\n",
        "#  raise SystemError('GPU device not found')\n",
        "#print('Found GPU at: {}'.format(device_name))\n",
        "\n",
        "if device_name == '/device:GPU:0':\n",
        "  print('Found GPU at: {}'.format(device_name))\n",
        "else:\n",
        "  print('GPU device not found')"
      ],
      "execution_count": 2,
      "outputs": [
        {
          "output_type": "stream",
          "name": "stdout",
          "text": [
            "Found GPU at: /device:GPU:0\n"
          ]
        }
      ]
    },
    {
      "cell_type": "code",
      "metadata": {
        "id": "k-QjNIB8oGDm"
      },
      "source": [
        "import PIL\n",
        "import numpy as np\n",
        "from PIL import Image\n",
        "from numpy import asarray\n",
        "import matplotlib.pyplot as plt\n",
        "\n",
        "# from DLAVA, includes unused symbols, maybe tighten later\n",
        "from tensorflow.keras.models import Sequential\n",
        "from tensorflow.keras.layers import Dense, Dropout, Activation, Flatten\n",
        "from tensorflow.keras.layers import Conv2D, MaxPooling2D\n",
        "from tensorflow.keras.constraints import MaxNorm\n",
        "from tensorflow.keras.optimizers import Adam, SGD, RMSprop\n",
        "\n",
        "# trying to get around memory limits:\n",
        "from random import sample"
      ],
      "execution_count": 3,
      "outputs": []
    },
    {
      "cell_type": "code",
      "metadata": {
        "id": "TDmnBDIK6wP9"
      },
      "source": [
        "# Use the \"mini\" training set with 9 images.\n",
        "# fcd_ts_dir = '/content/drive/My Drive/PredatorEye/mini_training_set/'\n",
        "\n",
        "# Use the \"real\" training set with 2008 images\n",
        "fcd_ts_dir = '/content/drive/My Drive/PredatorEye/fcd_training_set/'\n"
      ],
      "execution_count": 4,
      "outputs": []
    },
    {
      "cell_type": "code",
      "metadata": {
        "id": "8EhCRj-wGwpE"
      },
      "source": [
        "# Parse FCD filename to a list of (x, y) pixel coordinates.\n",
        "def fcd_filename_to_xy_pair(filename):\n",
        "    without_extension = filename.split('.')[0]\n",
        "    two_numeric_strings = without_extension.split('_')[1:3]\n",
        "    two_ints = list(map(int, two_numeric_strings))\n",
        "    return two_ints"
      ],
      "execution_count": 5,
      "outputs": []
    },
    {
      "cell_type": "code",
      "metadata": {
        "id": "e5Bdh3inPGRM"
      },
      "source": [
        "# Prototype function to load FCD data from directory pathname\n",
        "\n",
        "fcd_images = []\n",
        "fcd_labels = []\n",
        "\n",
        "# Maybe read from image file?\n",
        "# Maybe assert all images are square and this size?\n",
        "fcd_image_size = 1024\n",
        "\n",
        "from os import listdir\n",
        "from os.path import join\n",
        "\n",
        "def fcd_normalized_xy(filename, pixels):\n",
        "    pixel_coordinates = fcd_filename_to_xy_pair(filename)\n",
        "    normalized = [pixel_coordinates[0] / pixels.shape[0],\n",
        "                  pixel_coordinates[1] / pixels.shape[1]]\n",
        "    return normalized\n",
        "\n",
        "# def read_fcd_data_from_directory(directory_pathname):\n",
        "#     for filename in listdir(directory_pathname):\n",
        "#         # Numpy pixel array of image object.\n",
        "#         pixels = asarray(Image.open(join(directory_pathname, filename)))\n",
        "#         # Accumulate: numpy pixel array of image object.\n",
        "#         fcd_images.append(pixels)\n",
        "#         # Accumulate: disk center XY position ground truth.\n",
        "#         fcd_labels.append(np.array(fcd_normalized_xy(filename, pixels)))\n",
        "#         # Progress report (runs for about 6 minutes on 20211127)\n",
        "#         if ((len(fcd_images) % 100) == 0):\n",
        "#              print(len(fcd_images), \"images...\")\n",
        "\n",
        "\n",
        "\n",
        "def read_fcd_data_from_directory(directory_pathname):\n",
        "    directory_contents = listdir(directory_pathname)\n",
        "    #\n",
        "    # trying to get around memory limits:\n",
        "    directory_contents = sample(directory_contents, 100)\n",
        "    #\n",
        "    for filename in directory_contents:\n",
        "        # Numpy pixel array of image object.\n",
        "        pixels = asarray(Image.open(join(directory_pathname, filename)))\n",
        "        # Accumulate: numpy pixel array of image object.\n",
        "        fcd_images.append(pixels)\n",
        "        # Accumulate: disk center XY position ground truth.\n",
        "        fcd_labels.append(np.array(fcd_normalized_xy(filename, pixels)))\n",
        "        # Progress report (runs for about 6 minutes on 20211127)\n",
        "        if ((len(fcd_images) % 100) == 0):\n",
        "             print(len(fcd_images), \"images...\")"
      ],
      "execution_count": 6,
      "outputs": []
    },
    {
      "cell_type": "code",
      "metadata": {
        "id": "L0rTXiq-3su_"
      },
      "source": [
        "# Construct a striding CNN Keras model (cribbed from DLAVA chapter B3, Listing\n",
        "# B3-41): currently 2 Conv2D with dropout, then 2 dense, outpu layer is dense\n",
        "# with just two neurons, to generate an XY position estimate for the disk.\n",
        "\n",
        "def make_striding_cnn_model():\n",
        "    model = Sequential()\n",
        "    model.add(Conv2D(30, (5, 5), activation='relu', padding='same',\n",
        "                     strides=(2, 2), kernel_constraint=MaxNorm(3),\n",
        "                     # input_shape=(image_height, image_width, 1)))\n",
        "                     input_shape=(fcd_image_size, fcd_image_size, 3)))\n",
        "    model.add(Dropout(0.2))\n",
        "    model.add(Conv2D(16, (3, 3), activation='relu', padding='same', \n",
        "                     strides=(2, 2), kernel_constraint=MaxNorm(3)))\n",
        "    model.add(Dropout(0.2))\n",
        "    model.add(Flatten())\n",
        "    model.add(Dense(128, activation='relu'))\n",
        "    model.add(Dense(64, activation='relu'))\n",
        "    #\n",
        "    # instead of softmax, maybe a Dense layer with two neurons (x, y)?\n",
        "    #\n",
        "    # model.add(Dense(number_of_classes, activation='softmax'))\n",
        "    model.add(Dense(2, activation='relu')) ### COMPLETELY UNTESTED!! ###\n",
        "    #\n",
        "    # Use MSE in place of categorical_crossentropy\n",
        "    # since my problem is more like regression\n",
        "    #\n",
        "    # model.compile(loss='categorical_crossentropy', optimizer='adam', \n",
        "    #               metrics=[\"accuracy\"])\n",
        "    model.compile(loss=tf.keras.losses.MeanSquaredError(),\n",
        "                  optimizer='adam',\n",
        "                  metrics=[\"accuracy\"])\n",
        "    return model"
      ],
      "execution_count": 7,
      "outputs": []
    },
    {
      "cell_type": "code",
      "metadata": {
        "id": "E6A5Obp7DjWr"
      },
      "source": [
        "# Utility to fit and plot a run, again cribbed from DLAVA chapter B3.\n",
        "\n",
        "random_seed = 42\n",
        "\n",
        "def run_model(model_maker, plot_title):\n",
        "    model = model_maker()\n",
        "    np.random.seed(random_seed)\n",
        "    history = model.fit(X_train, y_train,\n",
        "                        validation_split=0.25,\n",
        "                        # epochs=100, batch_size=256) ####################\n",
        "                        epochs=100, batch_size=10)\n",
        "    plot_accuracy_and_loss(history, plot_title)\n",
        "    return history\n",
        "\n",
        "# A little utility to draw plots of accuracy and loss.\n",
        "def plot_accuracy_and_loss(history, plot_title):\n",
        "    xs = range(len(history.history['accuracy']))\n",
        "\n",
        "    plt.figure(figsize=(10,3))\n",
        "    plt.subplot(1, 2, 1)\n",
        "    plt.plot(xs, history.history['accuracy'], label='train')\n",
        "    plt.plot(xs, history.history['val_accuracy'], label='validation')\n",
        "    plt.legend(loc='lower left')\n",
        "    plt.xlabel('epochs')\n",
        "    plt.ylabel('accuracy')\n",
        "    plt.title(plot_title+', Accuracy')\n",
        "\n",
        "    plt.subplot(1, 2, 2)\n",
        "    plt.plot(xs, history.history['loss'], label='train')\n",
        "    plt.plot(xs, history.history['val_loss'], label='validation')\n",
        "    plt.legend(loc='upper left')\n",
        "    plt.xlabel('epochs')\n",
        "    plt.ylabel('loss')\n",
        "    plt.title(plot_title+', Loss')\n",
        "\n",
        "    plt.show()"
      ],
      "execution_count": 8,
      "outputs": []
    },
    {
      "cell_type": "code",
      "metadata": {
        "colab": {
          "base_uri": "https://localhost:8080/"
        },
        "id": "d4FS7Y3fpe0K",
        "outputId": "82b3a9be-187c-4fd0-835b-f8d1a8dce268"
      },
      "source": [
        "# Read FCD training data from a given directory.\n",
        "print('Reading all images from ' + fcd_ts_dir)\n",
        "print('...')\n",
        "read_fcd_data_from_directory(fcd_ts_dir)\n",
        "print('Read', len(fcd_images), 'training images.')"
      ],
      "execution_count": 9,
      "outputs": [
        {
          "output_type": "stream",
          "name": "stdout",
          "text": [
            "Reading all images from /content/drive/My Drive/PredatorEye/fcd_training_set/\n",
            "...\n",
            "100 images...\n",
            "Read 100 training images.\n"
          ]
        }
      ]
    },
    {
      "cell_type": "code",
      "metadata": {
        "id": "2ppYkZ-grG2E",
        "colab": {
          "base_uri": "https://localhost:8080/",
          "height": 1000
        },
        "outputId": "7c4b2f9d-7ac7-44fb-d545-4cd84e17609a"
      },
      "source": [
        "# Run a model.\n",
        "X_train = np.array(fcd_images)\n",
        "y_train = np.array(fcd_labels)\n",
        "\n",
        "print(type(X_train))\n",
        "print(X_train.shape)\n",
        "print(y_train.shape)\n",
        "\n",
        "striding_history = run_model(make_striding_cnn_model, 'FCD: Striding CNN')"
      ],
      "execution_count": 10,
      "outputs": [
        {
          "output_type": "stream",
          "name": "stdout",
          "text": [
            "<class 'numpy.ndarray'>\n",
            "(100, 1024, 1024, 3)\n",
            "(100, 2)\n",
            "Epoch 1/100\n",
            "8/8 [==============================] - 14s 474ms/step - loss: 3.5960 - accuracy: 0.5467 - val_loss: 0.3327 - val_accuracy: 0.4400\n",
            "Epoch 2/100\n",
            "8/8 [==============================] - 2s 302ms/step - loss: 0.3211 - accuracy: 0.5467 - val_loss: 0.3327 - val_accuracy: 0.4400\n",
            "Epoch 3/100\n",
            "8/8 [==============================] - 2s 302ms/step - loss: 0.3211 - accuracy: 0.5467 - val_loss: 0.3327 - val_accuracy: 0.4400\n",
            "Epoch 4/100\n",
            "8/8 [==============================] - 2s 305ms/step - loss: 0.3211 - accuracy: 0.5467 - val_loss: 0.3327 - val_accuracy: 0.4400\n",
            "Epoch 5/100\n",
            "8/8 [==============================] - 2s 302ms/step - loss: 0.3211 - accuracy: 0.5467 - val_loss: 0.3327 - val_accuracy: 0.4400\n",
            "Epoch 6/100\n",
            "8/8 [==============================] - 2s 304ms/step - loss: 0.3211 - accuracy: 0.5467 - val_loss: 0.3327 - val_accuracy: 0.4400\n",
            "Epoch 7/100\n",
            "8/8 [==============================] - 2s 303ms/step - loss: 0.3211 - accuracy: 0.5467 - val_loss: 0.3327 - val_accuracy: 0.4400\n",
            "Epoch 8/100\n",
            "8/8 [==============================] - 2s 306ms/step - loss: 0.3211 - accuracy: 0.5467 - val_loss: 0.3327 - val_accuracy: 0.4400\n",
            "Epoch 9/100\n",
            "8/8 [==============================] - 2s 304ms/step - loss: 0.3211 - accuracy: 0.5467 - val_loss: 0.3327 - val_accuracy: 0.4400\n",
            "Epoch 10/100\n",
            "8/8 [==============================] - 2s 306ms/step - loss: 0.3211 - accuracy: 0.5467 - val_loss: 0.3327 - val_accuracy: 0.4400\n",
            "Epoch 11/100\n",
            "8/8 [==============================] - 2s 303ms/step - loss: 0.3211 - accuracy: 0.5467 - val_loss: 0.3327 - val_accuracy: 0.4400\n",
            "Epoch 12/100\n",
            "8/8 [==============================] - 2s 305ms/step - loss: 0.3211 - accuracy: 0.5467 - val_loss: 0.3327 - val_accuracy: 0.4400\n",
            "Epoch 13/100\n",
            "8/8 [==============================] - 2s 302ms/step - loss: 0.3211 - accuracy: 0.5467 - val_loss: 0.3327 - val_accuracy: 0.4400\n",
            "Epoch 14/100\n",
            "8/8 [==============================] - 2s 305ms/step - loss: 0.3211 - accuracy: 0.5467 - val_loss: 0.3327 - val_accuracy: 0.4400\n",
            "Epoch 15/100\n",
            "8/8 [==============================] - 2s 304ms/step - loss: 0.3211 - accuracy: 0.5467 - val_loss: 0.3327 - val_accuracy: 0.4400\n",
            "Epoch 16/100\n",
            "8/8 [==============================] - 2s 305ms/step - loss: 0.3211 - accuracy: 0.5467 - val_loss: 0.3327 - val_accuracy: 0.4400\n",
            "Epoch 17/100\n",
            "8/8 [==============================] - 2s 301ms/step - loss: 0.3211 - accuracy: 0.5467 - val_loss: 0.3327 - val_accuracy: 0.4400\n",
            "Epoch 18/100\n",
            "8/8 [==============================] - 2s 304ms/step - loss: 0.3211 - accuracy: 0.5467 - val_loss: 0.3327 - val_accuracy: 0.4400\n",
            "Epoch 19/100\n",
            "8/8 [==============================] - 2s 304ms/step - loss: 0.3211 - accuracy: 0.5467 - val_loss: 0.3327 - val_accuracy: 0.4400\n",
            "Epoch 20/100\n",
            "8/8 [==============================] - 2s 303ms/step - loss: 0.3211 - accuracy: 0.5467 - val_loss: 0.3327 - val_accuracy: 0.4400\n",
            "Epoch 21/100\n",
            "8/8 [==============================] - 2s 304ms/step - loss: 0.3211 - accuracy: 0.5467 - val_loss: 0.3327 - val_accuracy: 0.4400\n",
            "Epoch 22/100\n",
            "8/8 [==============================] - 2s 307ms/step - loss: 0.3211 - accuracy: 0.5467 - val_loss: 0.3327 - val_accuracy: 0.4400\n",
            "Epoch 23/100\n",
            "8/8 [==============================] - 2s 305ms/step - loss: 0.3211 - accuracy: 0.5467 - val_loss: 0.3327 - val_accuracy: 0.4400\n",
            "Epoch 24/100\n",
            "8/8 [==============================] - 2s 307ms/step - loss: 0.3211 - accuracy: 0.5467 - val_loss: 0.3327 - val_accuracy: 0.4400\n",
            "Epoch 25/100\n",
            "8/8 [==============================] - 2s 303ms/step - loss: 0.3211 - accuracy: 0.5467 - val_loss: 0.3327 - val_accuracy: 0.4400\n",
            "Epoch 26/100\n",
            "8/8 [==============================] - 2s 303ms/step - loss: 0.3211 - accuracy: 0.5467 - val_loss: 0.3327 - val_accuracy: 0.4400\n",
            "Epoch 27/100\n",
            "8/8 [==============================] - 2s 303ms/step - loss: 0.3211 - accuracy: 0.5467 - val_loss: 0.3327 - val_accuracy: 0.4400\n",
            "Epoch 28/100\n",
            "8/8 [==============================] - 2s 303ms/step - loss: 0.3211 - accuracy: 0.5467 - val_loss: 0.3327 - val_accuracy: 0.4400\n",
            "Epoch 29/100\n",
            "8/8 [==============================] - 2s 306ms/step - loss: 0.3211 - accuracy: 0.5467 - val_loss: 0.3327 - val_accuracy: 0.4400\n",
            "Epoch 30/100\n",
            "8/8 [==============================] - 2s 302ms/step - loss: 0.3211 - accuracy: 0.5467 - val_loss: 0.3327 - val_accuracy: 0.4400\n",
            "Epoch 31/100\n",
            "8/8 [==============================] - 2s 305ms/step - loss: 0.3211 - accuracy: 0.5467 - val_loss: 0.3327 - val_accuracy: 0.4400\n",
            "Epoch 32/100\n",
            "8/8 [==============================] - 2s 304ms/step - loss: 0.3211 - accuracy: 0.5467 - val_loss: 0.3327 - val_accuracy: 0.4400\n",
            "Epoch 33/100\n",
            "8/8 [==============================] - 2s 305ms/step - loss: 0.3211 - accuracy: 0.5467 - val_loss: 0.3327 - val_accuracy: 0.4400\n",
            "Epoch 34/100\n",
            "8/8 [==============================] - 2s 305ms/step - loss: 0.3211 - accuracy: 0.5467 - val_loss: 0.3327 - val_accuracy: 0.4400\n",
            "Epoch 35/100\n",
            "8/8 [==============================] - 2s 303ms/step - loss: 0.3211 - accuracy: 0.5467 - val_loss: 0.3327 - val_accuracy: 0.4400\n",
            "Epoch 36/100\n",
            "8/8 [==============================] - 2s 305ms/step - loss: 0.3211 - accuracy: 0.5467 - val_loss: 0.3327 - val_accuracy: 0.4400\n",
            "Epoch 37/100\n",
            "8/8 [==============================] - 2s 304ms/step - loss: 0.3211 - accuracy: 0.5467 - val_loss: 0.3327 - val_accuracy: 0.4400\n",
            "Epoch 38/100\n",
            "6/8 [=====================>........] - ETA: 0s - loss: 0.3211 - accuracy: 0.5333"
          ]
        },
        {
          "output_type": "error",
          "ename": "KeyboardInterrupt",
          "evalue": "ignored",
          "traceback": [
            "\u001b[0;31m---------------------------------------------------------------------------\u001b[0m",
            "\u001b[0;31mKeyboardInterrupt\u001b[0m                         Traceback (most recent call last)",
            "\u001b[0;32m<ipython-input-10-ef40d0ff2284>\u001b[0m in \u001b[0;36m<module>\u001b[0;34m()\u001b[0m\n\u001b[1;32m      7\u001b[0m \u001b[0mprint\u001b[0m\u001b[0;34m(\u001b[0m\u001b[0my_train\u001b[0m\u001b[0;34m.\u001b[0m\u001b[0mshape\u001b[0m\u001b[0;34m)\u001b[0m\u001b[0;34m\u001b[0m\u001b[0;34m\u001b[0m\u001b[0m\n\u001b[1;32m      8\u001b[0m \u001b[0;34m\u001b[0m\u001b[0m\n\u001b[0;32m----> 9\u001b[0;31m \u001b[0mstriding_history\u001b[0m \u001b[0;34m=\u001b[0m \u001b[0mrun_model\u001b[0m\u001b[0;34m(\u001b[0m\u001b[0mmake_striding_cnn_model\u001b[0m\u001b[0;34m,\u001b[0m \u001b[0;34m'FCD: Striding CNN'\u001b[0m\u001b[0;34m)\u001b[0m\u001b[0;34m\u001b[0m\u001b[0;34m\u001b[0m\u001b[0m\n\u001b[0m",
            "\u001b[0;32m<ipython-input-8-2b657b471cc2>\u001b[0m in \u001b[0;36mrun_model\u001b[0;34m(model_maker, plot_title)\u001b[0m\n\u001b[1;32m      9\u001b[0m                         \u001b[0mvalidation_split\u001b[0m\u001b[0;34m=\u001b[0m\u001b[0;36m0.25\u001b[0m\u001b[0;34m,\u001b[0m\u001b[0;34m\u001b[0m\u001b[0;34m\u001b[0m\u001b[0m\n\u001b[1;32m     10\u001b[0m                         \u001b[0;31m# epochs=100, batch_size=256) ####################\u001b[0m\u001b[0;34m\u001b[0m\u001b[0;34m\u001b[0m\u001b[0;34m\u001b[0m\u001b[0m\n\u001b[0;32m---> 11\u001b[0;31m                         epochs=100, batch_size=10)\n\u001b[0m\u001b[1;32m     12\u001b[0m     \u001b[0mplot_accuracy_and_loss\u001b[0m\u001b[0;34m(\u001b[0m\u001b[0mhistory\u001b[0m\u001b[0;34m,\u001b[0m \u001b[0mplot_title\u001b[0m\u001b[0;34m)\u001b[0m\u001b[0;34m\u001b[0m\u001b[0;34m\u001b[0m\u001b[0m\n\u001b[1;32m     13\u001b[0m     \u001b[0;32mreturn\u001b[0m \u001b[0mhistory\u001b[0m\u001b[0;34m\u001b[0m\u001b[0;34m\u001b[0m\u001b[0m\n",
            "\u001b[0;32m/usr/local/lib/python3.7/dist-packages/keras/utils/traceback_utils.py\u001b[0m in \u001b[0;36merror_handler\u001b[0;34m(*args, **kwargs)\u001b[0m\n\u001b[1;32m     62\u001b[0m     \u001b[0mfiltered_tb\u001b[0m \u001b[0;34m=\u001b[0m \u001b[0;32mNone\u001b[0m\u001b[0;34m\u001b[0m\u001b[0;34m\u001b[0m\u001b[0m\n\u001b[1;32m     63\u001b[0m     \u001b[0;32mtry\u001b[0m\u001b[0;34m:\u001b[0m\u001b[0;34m\u001b[0m\u001b[0;34m\u001b[0m\u001b[0m\n\u001b[0;32m---> 64\u001b[0;31m       \u001b[0;32mreturn\u001b[0m \u001b[0mfn\u001b[0m\u001b[0;34m(\u001b[0m\u001b[0;34m*\u001b[0m\u001b[0margs\u001b[0m\u001b[0;34m,\u001b[0m \u001b[0;34m**\u001b[0m\u001b[0mkwargs\u001b[0m\u001b[0;34m)\u001b[0m\u001b[0;34m\u001b[0m\u001b[0;34m\u001b[0m\u001b[0m\n\u001b[0m\u001b[1;32m     65\u001b[0m     \u001b[0;32mexcept\u001b[0m \u001b[0mException\u001b[0m \u001b[0;32mas\u001b[0m \u001b[0me\u001b[0m\u001b[0;34m:\u001b[0m  \u001b[0;31m# pylint: disable=broad-except\u001b[0m\u001b[0;34m\u001b[0m\u001b[0;34m\u001b[0m\u001b[0m\n\u001b[1;32m     66\u001b[0m       \u001b[0mfiltered_tb\u001b[0m \u001b[0;34m=\u001b[0m \u001b[0m_process_traceback_frames\u001b[0m\u001b[0;34m(\u001b[0m\u001b[0me\u001b[0m\u001b[0;34m.\u001b[0m\u001b[0m__traceback__\u001b[0m\u001b[0;34m)\u001b[0m\u001b[0;34m\u001b[0m\u001b[0;34m\u001b[0m\u001b[0m\n",
            "\u001b[0;32m/usr/local/lib/python3.7/dist-packages/keras/engine/training.py\u001b[0m in \u001b[0;36mfit\u001b[0;34m(self, x, y, batch_size, epochs, verbose, callbacks, validation_split, validation_data, shuffle, class_weight, sample_weight, initial_epoch, steps_per_epoch, validation_steps, validation_batch_size, validation_freq, max_queue_size, workers, use_multiprocessing)\u001b[0m\n\u001b[1;32m   1214\u001b[0m                 _r=1):\n\u001b[1;32m   1215\u001b[0m               \u001b[0mcallbacks\u001b[0m\u001b[0;34m.\u001b[0m\u001b[0mon_train_batch_begin\u001b[0m\u001b[0;34m(\u001b[0m\u001b[0mstep\u001b[0m\u001b[0;34m)\u001b[0m\u001b[0;34m\u001b[0m\u001b[0;34m\u001b[0m\u001b[0m\n\u001b[0;32m-> 1216\u001b[0;31m               \u001b[0mtmp_logs\u001b[0m \u001b[0;34m=\u001b[0m \u001b[0mself\u001b[0m\u001b[0;34m.\u001b[0m\u001b[0mtrain_function\u001b[0m\u001b[0;34m(\u001b[0m\u001b[0miterator\u001b[0m\u001b[0;34m)\u001b[0m\u001b[0;34m\u001b[0m\u001b[0;34m\u001b[0m\u001b[0m\n\u001b[0m\u001b[1;32m   1217\u001b[0m               \u001b[0;32mif\u001b[0m \u001b[0mdata_handler\u001b[0m\u001b[0;34m.\u001b[0m\u001b[0mshould_sync\u001b[0m\u001b[0;34m:\u001b[0m\u001b[0;34m\u001b[0m\u001b[0;34m\u001b[0m\u001b[0m\n\u001b[1;32m   1218\u001b[0m                 \u001b[0mcontext\u001b[0m\u001b[0;34m.\u001b[0m\u001b[0masync_wait\u001b[0m\u001b[0;34m(\u001b[0m\u001b[0;34m)\u001b[0m\u001b[0;34m\u001b[0m\u001b[0;34m\u001b[0m\u001b[0m\n",
            "\u001b[0;32m/usr/local/lib/python3.7/dist-packages/tensorflow/python/util/traceback_utils.py\u001b[0m in \u001b[0;36merror_handler\u001b[0;34m(*args, **kwargs)\u001b[0m\n\u001b[1;32m    148\u001b[0m     \u001b[0mfiltered_tb\u001b[0m \u001b[0;34m=\u001b[0m \u001b[0;32mNone\u001b[0m\u001b[0;34m\u001b[0m\u001b[0;34m\u001b[0m\u001b[0m\n\u001b[1;32m    149\u001b[0m     \u001b[0;32mtry\u001b[0m\u001b[0;34m:\u001b[0m\u001b[0;34m\u001b[0m\u001b[0;34m\u001b[0m\u001b[0m\n\u001b[0;32m--> 150\u001b[0;31m       \u001b[0;32mreturn\u001b[0m \u001b[0mfn\u001b[0m\u001b[0;34m(\u001b[0m\u001b[0;34m*\u001b[0m\u001b[0margs\u001b[0m\u001b[0;34m,\u001b[0m \u001b[0;34m**\u001b[0m\u001b[0mkwargs\u001b[0m\u001b[0;34m)\u001b[0m\u001b[0;34m\u001b[0m\u001b[0;34m\u001b[0m\u001b[0m\n\u001b[0m\u001b[1;32m    151\u001b[0m     \u001b[0;32mexcept\u001b[0m \u001b[0mException\u001b[0m \u001b[0;32mas\u001b[0m \u001b[0me\u001b[0m\u001b[0;34m:\u001b[0m\u001b[0;34m\u001b[0m\u001b[0;34m\u001b[0m\u001b[0m\n\u001b[1;32m    152\u001b[0m       \u001b[0mfiltered_tb\u001b[0m \u001b[0;34m=\u001b[0m \u001b[0m_process_traceback_frames\u001b[0m\u001b[0;34m(\u001b[0m\u001b[0me\u001b[0m\u001b[0;34m.\u001b[0m\u001b[0m__traceback__\u001b[0m\u001b[0;34m)\u001b[0m\u001b[0;34m\u001b[0m\u001b[0;34m\u001b[0m\u001b[0m\n",
            "\u001b[0;32m/usr/local/lib/python3.7/dist-packages/tensorflow/python/eager/def_function.py\u001b[0m in \u001b[0;36m__call__\u001b[0;34m(self, *args, **kwds)\u001b[0m\n\u001b[1;32m    908\u001b[0m \u001b[0;34m\u001b[0m\u001b[0m\n\u001b[1;32m    909\u001b[0m       \u001b[0;32mwith\u001b[0m \u001b[0mOptionalXlaContext\u001b[0m\u001b[0;34m(\u001b[0m\u001b[0mself\u001b[0m\u001b[0;34m.\u001b[0m\u001b[0m_jit_compile\u001b[0m\u001b[0;34m)\u001b[0m\u001b[0;34m:\u001b[0m\u001b[0;34m\u001b[0m\u001b[0;34m\u001b[0m\u001b[0m\n\u001b[0;32m--> 910\u001b[0;31m         \u001b[0mresult\u001b[0m \u001b[0;34m=\u001b[0m \u001b[0mself\u001b[0m\u001b[0;34m.\u001b[0m\u001b[0m_call\u001b[0m\u001b[0;34m(\u001b[0m\u001b[0;34m*\u001b[0m\u001b[0margs\u001b[0m\u001b[0;34m,\u001b[0m \u001b[0;34m**\u001b[0m\u001b[0mkwds\u001b[0m\u001b[0;34m)\u001b[0m\u001b[0;34m\u001b[0m\u001b[0;34m\u001b[0m\u001b[0m\n\u001b[0m\u001b[1;32m    911\u001b[0m \u001b[0;34m\u001b[0m\u001b[0m\n\u001b[1;32m    912\u001b[0m       \u001b[0mnew_tracing_count\u001b[0m \u001b[0;34m=\u001b[0m \u001b[0mself\u001b[0m\u001b[0;34m.\u001b[0m\u001b[0mexperimental_get_tracing_count\u001b[0m\u001b[0;34m(\u001b[0m\u001b[0;34m)\u001b[0m\u001b[0;34m\u001b[0m\u001b[0;34m\u001b[0m\u001b[0m\n",
            "\u001b[0;32m/usr/local/lib/python3.7/dist-packages/tensorflow/python/eager/def_function.py\u001b[0m in \u001b[0;36m_call\u001b[0;34m(self, *args, **kwds)\u001b[0m\n\u001b[1;32m    940\u001b[0m       \u001b[0;31m# In this case we have created variables on the first call, so we run the\u001b[0m\u001b[0;34m\u001b[0m\u001b[0;34m\u001b[0m\u001b[0;34m\u001b[0m\u001b[0m\n\u001b[1;32m    941\u001b[0m       \u001b[0;31m# defunned version which is guaranteed to never create variables.\u001b[0m\u001b[0;34m\u001b[0m\u001b[0;34m\u001b[0m\u001b[0;34m\u001b[0m\u001b[0m\n\u001b[0;32m--> 942\u001b[0;31m       \u001b[0;32mreturn\u001b[0m \u001b[0mself\u001b[0m\u001b[0;34m.\u001b[0m\u001b[0m_stateless_fn\u001b[0m\u001b[0;34m(\u001b[0m\u001b[0;34m*\u001b[0m\u001b[0margs\u001b[0m\u001b[0;34m,\u001b[0m \u001b[0;34m**\u001b[0m\u001b[0mkwds\u001b[0m\u001b[0;34m)\u001b[0m  \u001b[0;31m# pylint: disable=not-callable\u001b[0m\u001b[0;34m\u001b[0m\u001b[0;34m\u001b[0m\u001b[0m\n\u001b[0m\u001b[1;32m    943\u001b[0m     \u001b[0;32melif\u001b[0m \u001b[0mself\u001b[0m\u001b[0;34m.\u001b[0m\u001b[0m_stateful_fn\u001b[0m \u001b[0;32mis\u001b[0m \u001b[0;32mnot\u001b[0m \u001b[0;32mNone\u001b[0m\u001b[0;34m:\u001b[0m\u001b[0;34m\u001b[0m\u001b[0;34m\u001b[0m\u001b[0m\n\u001b[1;32m    944\u001b[0m       \u001b[0;31m# Release the lock early so that multiple threads can perform the call\u001b[0m\u001b[0;34m\u001b[0m\u001b[0;34m\u001b[0m\u001b[0;34m\u001b[0m\u001b[0m\n",
            "\u001b[0;32m/usr/local/lib/python3.7/dist-packages/tensorflow/python/eager/function.py\u001b[0m in \u001b[0;36m__call__\u001b[0;34m(self, *args, **kwargs)\u001b[0m\n\u001b[1;32m   3129\u001b[0m        filtered_flat_args) = self._maybe_define_function(args, kwargs)\n\u001b[1;32m   3130\u001b[0m     return graph_function._call_flat(\n\u001b[0;32m-> 3131\u001b[0;31m         filtered_flat_args, captured_inputs=graph_function.captured_inputs)  # pylint: disable=protected-access\n\u001b[0m\u001b[1;32m   3132\u001b[0m \u001b[0;34m\u001b[0m\u001b[0m\n\u001b[1;32m   3133\u001b[0m   \u001b[0;34m@\u001b[0m\u001b[0mproperty\u001b[0m\u001b[0;34m\u001b[0m\u001b[0;34m\u001b[0m\u001b[0m\n",
            "\u001b[0;32m/usr/local/lib/python3.7/dist-packages/tensorflow/python/eager/function.py\u001b[0m in \u001b[0;36m_call_flat\u001b[0;34m(self, args, captured_inputs, cancellation_manager)\u001b[0m\n\u001b[1;32m   1958\u001b[0m       \u001b[0;31m# No tape is watching; skip to running the function.\u001b[0m\u001b[0;34m\u001b[0m\u001b[0;34m\u001b[0m\u001b[0;34m\u001b[0m\u001b[0m\n\u001b[1;32m   1959\u001b[0m       return self._build_call_outputs(self._inference_function.call(\n\u001b[0;32m-> 1960\u001b[0;31m           ctx, args, cancellation_manager=cancellation_manager))\n\u001b[0m\u001b[1;32m   1961\u001b[0m     forward_backward = self._select_forward_and_backward_functions(\n\u001b[1;32m   1962\u001b[0m         \u001b[0margs\u001b[0m\u001b[0;34m,\u001b[0m\u001b[0;34m\u001b[0m\u001b[0;34m\u001b[0m\u001b[0m\n",
            "\u001b[0;32m/usr/local/lib/python3.7/dist-packages/tensorflow/python/eager/function.py\u001b[0m in \u001b[0;36mcall\u001b[0;34m(self, ctx, args, cancellation_manager)\u001b[0m\n\u001b[1;32m    601\u001b[0m               \u001b[0minputs\u001b[0m\u001b[0;34m=\u001b[0m\u001b[0margs\u001b[0m\u001b[0;34m,\u001b[0m\u001b[0;34m\u001b[0m\u001b[0;34m\u001b[0m\u001b[0m\n\u001b[1;32m    602\u001b[0m               \u001b[0mattrs\u001b[0m\u001b[0;34m=\u001b[0m\u001b[0mattrs\u001b[0m\u001b[0;34m,\u001b[0m\u001b[0;34m\u001b[0m\u001b[0;34m\u001b[0m\u001b[0m\n\u001b[0;32m--> 603\u001b[0;31m               ctx=ctx)\n\u001b[0m\u001b[1;32m    604\u001b[0m         \u001b[0;32melse\u001b[0m\u001b[0;34m:\u001b[0m\u001b[0;34m\u001b[0m\u001b[0;34m\u001b[0m\u001b[0m\n\u001b[1;32m    605\u001b[0m           outputs = execute.execute_with_cancellation(\n",
            "\u001b[0;32m/usr/local/lib/python3.7/dist-packages/tensorflow/python/eager/execute.py\u001b[0m in \u001b[0;36mquick_execute\u001b[0;34m(op_name, num_outputs, inputs, attrs, ctx, name)\u001b[0m\n\u001b[1;32m     57\u001b[0m     \u001b[0mctx\u001b[0m\u001b[0;34m.\u001b[0m\u001b[0mensure_initialized\u001b[0m\u001b[0;34m(\u001b[0m\u001b[0;34m)\u001b[0m\u001b[0;34m\u001b[0m\u001b[0;34m\u001b[0m\u001b[0m\n\u001b[1;32m     58\u001b[0m     tensors = pywrap_tfe.TFE_Py_Execute(ctx._handle, device_name, op_name,\n\u001b[0;32m---> 59\u001b[0;31m                                         inputs, attrs, num_outputs)\n\u001b[0m\u001b[1;32m     60\u001b[0m   \u001b[0;32mexcept\u001b[0m \u001b[0mcore\u001b[0m\u001b[0;34m.\u001b[0m\u001b[0m_NotOkStatusException\u001b[0m \u001b[0;32mas\u001b[0m \u001b[0me\u001b[0m\u001b[0;34m:\u001b[0m\u001b[0;34m\u001b[0m\u001b[0;34m\u001b[0m\u001b[0m\n\u001b[1;32m     61\u001b[0m     \u001b[0;32mif\u001b[0m \u001b[0mname\u001b[0m \u001b[0;32mis\u001b[0m \u001b[0;32mnot\u001b[0m \u001b[0;32mNone\u001b[0m\u001b[0;34m:\u001b[0m\u001b[0;34m\u001b[0m\u001b[0;34m\u001b[0m\u001b[0m\n",
            "\u001b[0;31mKeyboardInterrupt\u001b[0m: "
          ]
        }
      ]
    }
  ]
}