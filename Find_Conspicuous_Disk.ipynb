{
  "cells": [
    {
      "cell_type": "markdown",
      "metadata": {
        "id": "i5CjJNUz-2Tm"
      },
      "source": [
        "# Parameters and imports"
      ]
    },
    {
      "cell_type": "code",
      "execution_count": 1,
      "metadata": {
        "id": "TDmnBDIK6wP9"
      },
      "outputs": [],
      "source": [
        "# random_seed = 20211216\n",
        "# random_seed = 20211218\n",
        "# random_seed = 20211221\n",
        "random_seed = 20211222\n",
        "\n",
        "# Use the \"mini\" training set with 9 images.\n",
        "# fcd_ts_dir = '/content/drive/My Drive/PredatorEye/mini_training_set/'\n",
        "# Use the \"real\" training set with 2008 images\n",
        "fcd_ts_dir = '/content/drive/My Drive/PredatorEye/fcd_training_set/'\n",
        "\n",
        "model_save_directory = '/content/drive/My Drive/PredatorEye/saved_models/'\n",
        "\n",
        "# max_input_images = 100\n",
        "max_input_images = 'all'\n",
        "\n",
        "# For each image read from dataset \"amplify\" the set by up to 7 additional\n",
        "# variations of the image via rotations and mirroring.\n",
        "# When I tried using 8 I would run out of memory when the training began.\n",
        "# amplification = 1\n",
        "# amplification = 6\n",
        "amplification = 8\n",
        "\n",
        "# amplification = 16 # add intensity inversion, filled memory\n",
        "# amplification = 12\n",
        "# amplification = 10\n",
        "# amplification = 9\n",
        "\n",
        "# 20211221\n",
        "# Allow amplification by anopther factor of 2 by inverting image brightness.\n",
        "# allow_amp_by_inv = True\n",
        "allow_amp_by_inv = False\n",
        "\n",
        "# Maybe read from image file?\n",
        "# Maybe assert all images are square and this size?\n",
        "fcd_image_size = 1024\n",
        "\n",
        "# Disk diameter, relative to full sized megapixel image.\n",
        "fcd_disk_size = 201\n",
        "\n",
        "# For scaling down the input image size.\n",
        "# input_scale = 1\n",
        "input_scale = 0.125\n",
        "# input_scale = 0.25\n",
        "# input_scale = 0.5\n",
        "if (input_scale != 1):\n",
        "    fcd_image_size = int(fcd_image_size * input_scale)\n",
        "    # does this really want to be an int?\n",
        "    fcd_disk_size = int(fcd_disk_size * input_scale)\n",
        "\n",
        "fcd_epochs = 100\n",
        "# fcd_epochs = 40\n",
        "\n",
        "# On 20211218 increased from 32 to 128 which seemed to help stability.\n",
        "fcd_batch_size = 128\n",
        "# # 20211221\n",
        "# fcd_batch_size = 256"
      ]
    },
    {
      "cell_type": "code",
      "execution_count": 2,
      "metadata": {
        "colab": {
          "base_uri": "https://localhost:8080/"
        },
        "id": "k-QjNIB8oGDm",
        "outputId": "a6e1d17a-dce7-4c23-fa9c-33468a242b81"
      },
      "outputs": [
        {
          "output_type": "stream",
          "name": "stdout",
          "text": [
            "TensorFlow version: 2.7.0\n"
          ]
        }
      ],
      "source": [
        "%tensorflow_version 2.x\n",
        "import tensorflow as tf\n",
        "print('TensorFlow version:', tf.__version__)\n",
        "\n",
        "import gc\n",
        "import PIL\n",
        "import time\n",
        "import pytz\n",
        "import random\n",
        "import numpy as np\n",
        "from PIL import Image\n",
        "from os import listdir\n",
        "from os.path import join\n",
        "from tqdm.auto import tqdm\n",
        "from matplotlib import image\n",
        "import matplotlib.pyplot as plt\n",
        "\n",
        "# from DLAVA, includes unused symbols, maybe prune later\n",
        "from tensorflow.keras.models import Sequential\n",
        "from tensorflow.keras.layers import Dense, Dropout, Activation, Flatten\n",
        "from tensorflow.keras.layers import Conv2D, MaxPooling2D\n",
        "from tensorflow.keras.constraints import MaxNorm\n",
        "from tensorflow.keras.optimizers import Adam\n",
        "\n",
        "from tensorflow.keras.losses import Loss\n",
        "\n",
        "## maybe just write these inline in the code below?\n",
        "from numpy import asarray \n",
        "from tensorflow.keras import backend as keras_backend\n",
        "keras_backend.set_image_data_format('channels_last')\n",
        "\n",
        "# 20211218\n",
        "from sklearn.model_selection import train_test_split\n",
        "\n",
        "from datetime import datetime\n",
        "\n",
        "################################################################################\n",
        "# 20220104 modify search path ala https://stackoverflow.com/a/4383597/1991373\n",
        "\n",
        "import sys\n",
        "# insert at 1, 0 is the script path (or '' in REPL)\n",
        "sys.path.insert(1, '/content/drive/My Drive/PredatorEye/shared_code/')\n",
        "import DiskFind\n",
        "\n",
        "################################################################################"
      ]
    },
    {
      "cell_type": "code",
      "execution_count": 3,
      "metadata": {
        "colab": {
          "base_uri": "https://localhost:8080/"
        },
        "id": "SDFOLYNF0oSj",
        "outputId": "af345bcc-cb8a-484e-dcb5-0fa973466b57"
      },
      "outputs": [
        {
          "output_type": "stream",
          "name": "stdout",
          "text": [
            "Wed Jan  5 00:28:04 2022       \n",
            "+-----------------------------------------------------------------------------+\n",
            "| NVIDIA-SMI 495.44       Driver Version: 460.32.03    CUDA Version: 11.2     |\n",
            "|-------------------------------+----------------------+----------------------+\n",
            "| GPU  Name        Persistence-M| Bus-Id        Disp.A | Volatile Uncorr. ECC |\n",
            "| Fan  Temp  Perf  Pwr:Usage/Cap|         Memory-Usage | GPU-Util  Compute M. |\n",
            "|                               |                      |               MIG M. |\n",
            "|===============================+======================+======================|\n",
            "|   0  Tesla P100-PCIE...  Off  | 00000000:00:04.0 Off |                    0 |\n",
            "| N/A   34C    P0    29W / 250W |      0MiB / 16280MiB |      0%      Default |\n",
            "|                               |                      |                  N/A |\n",
            "+-------------------------------+----------------------+----------------------+\n",
            "                                                                               \n",
            "+-----------------------------------------------------------------------------+\n",
            "| Processes:                                                                  |\n",
            "|  GPU   GI   CI        PID   Type   Process name                  GPU Memory |\n",
            "|        ID   ID                                                   Usage      |\n",
            "|=============================================================================|\n",
            "|  No running processes found                                                 |\n",
            "+-----------------------------------------------------------------------------+\n",
            "Using a high-RAM runtime.\n",
            "Your runtime has 27.3 gigabytes of available RAM\n",
            "\n"
          ]
        }
      ],
      "source": [
        "# Check for Colab Pro resources\n",
        "def check_colab_resources():\n",
        "    gpu_info = !nvidia-smi\n",
        "    gpu_info = '\\n'.join(gpu_info)\n",
        "    if gpu_info.find('failed') >= 0:\n",
        "        print('Not connected to a GPU')\n",
        "    else:\n",
        "        print(gpu_info)\n",
        "    from psutil import virtual_memory\n",
        "    ram_gb = virtual_memory().total / 1e9\n",
        "    if ram_gb < 20:\n",
        "        print('Not using a high-RAM runtime.')\n",
        "    else:\n",
        "        print('Using a high-RAM runtime.')\n",
        "    print('Your runtime has {:.1f} gigabytes of available RAM\\n'.format(ram_gb))\n",
        "\n",
        "check_colab_resources()"
      ]
    },
    {
      "cell_type": "markdown",
      "metadata": {
        "id": "ZCQFpDu-B0HU"
      },
      "source": [
        "# Utilities"
      ]
    },
    {
      "cell_type": "code",
      "execution_count": 4,
      "metadata": {
        "id": "8EhCRj-wGwpE"
      },
      "outputs": [],
      "source": [
        "# Prints \"expression = <value>\"\n",
        "def debug_print(expression):\n",
        "    print(expression, '=', eval(expression))\n",
        "\n",
        "# Reset random sequence seeds in Python's \"random\", Numpy, and TensorFlow.\n",
        "def reset_random_seeds():\n",
        "    random.seed(random_seed)\n",
        "    np.random.seed(random_seed)\n",
        "    tf.random.set_seed(random_seed)\n",
        "\n",
        "# Parse FCD filename to a list of two ints: (x, y) pixel coordinates.\n",
        "def fcd_filename_to_xy_ints(filename):\n",
        "    without_extension = filename.split('.')[0]\n",
        "    two_numeric_strings = without_extension.split('_')[1:3]\n",
        "    return list(map(int, two_numeric_strings))\n",
        "\n",
        "# Get image label from image file names ([x, y] as floats on [0,1])\n",
        "def fcd_normalized_xy(filename, pixels):\n",
        "    pixel_coordinates = fcd_filename_to_xy_ints(filename)\n",
        "    return pixel_coordinates / (np.array(pixels.shape)[1:2] / input_scale)\n",
        "\n",
        "# # Draw a training image on the log. First arg is either a 24 bit RGB pixel\n",
        "# # representation as read from file, or the rescaled 3xfloat used internally.\n",
        "# # Optionally draw crosshairs to show center of disk.\n",
        "# def draw_image(rgb_pixel_tensor, center=(0,0)):\n",
        "#     i24bit = []\n",
        "\n",
        "#     # 20211218\n",
        "#     # if (rgb_pixel_tensor.dtype == np.double):\n",
        "\n",
        "#     # 20211221\n",
        "#     # print('rgb_pixel_tensor.dtype =', rgb_pixel_tensor.dtype)\n",
        "#     # print('center =', center)\n",
        "\n",
        "#     # if (rgb_pixel_tensor.dtype == np.float32):\n",
        "#     if ((rgb_pixel_tensor.dtype == np.float32) or\n",
        "#         (rgb_pixel_tensor.dtype == np.float32)):\n",
        "#         unscaled_pixels = np.interp(rgb_pixel_tensor, [0, 1], [0, 255])\n",
        "#         i24bit = Image.fromarray(unscaled_pixels.astype('uint8'), mode='RGB')\n",
        "#     else:\n",
        "#         i24bit = Image.fromarray(rgb_pixel_tensor)\n",
        "#     plt.imshow(i24bit)\n",
        "\n",
        "#     # 20211221\n",
        "#     # if (center != (0,0)):\n",
        "#     #     draw_crosshairs(center)\n",
        "#     if ((center[0] != 0) or (center[1] != 0)):\n",
        "#         draw_crosshairs(center)\n",
        "\n",
        "#     plt.show()\n",
        "\n",
        "# # Draw crosshairs to indicate disk position (label or estimate).\n",
        "# def draw_crosshairs(center):\n",
        "#     m = fcd_image_size - 1       # max image coordinate\n",
        "#     s = fcd_disk_size * 1.2 / 2  # gap size (radius)\n",
        "#     h = center[0] * m            # center x in pixels\n",
        "#     v = center[1] * m            # center y in pixels\n",
        "#     plt.hlines(v, 0, max(0, h - s), color=\"black\")\n",
        "#     plt.hlines(v, min(m, h + s), m, color=\"black\")\n",
        "#     plt.vlines(h, 0, max(0, v - s), color=\"white\")\n",
        "#     plt.vlines(h, min(m, v + s), m, color=\"white\")\n",
        "\n",
        "# Draw line in plot between arbitrary points in plot.\n",
        "# eg: draw_line((100, 100), (924, 924), color=\"yellow\")\n",
        "def draw_line(p1, p2, color=\"white\"):\n",
        "    plt.plot([p1[0], p2[0]], [p1[1], p2[1]], color)\n",
        "\n",
        "# debug_print('fcd_filename_to_xy_ints(\"foobar_123_456\")')\n",
        "# debug_print('fcd_normalized_xy(\"foobar_123_456\", np.zeros((1024,1024,3)))')\n",
        "# debug_print('[123/(1024/input_scale), 456/(1024/input_scale)]')\n",
        "\n",
        "def timestamp_string():\n",
        "    # Just assert that we want to use Pacific time, for the benefit of cwr.\n",
        "    # The Colab server seems to think local time is UTC.\n",
        "    return datetime.now(pytz.timezone('US/Pacific')).strftime('%Y%m%d_%H%M')"
      ]
    },
    {
      "cell_type": "markdown",
      "metadata": {
        "id": "uyhUYHixCheD"
      },
      "source": [
        "# Data reader"
      ]
    },
    {
      "cell_type": "code",
      "execution_count": 5,
      "metadata": {
        "id": "e5Bdh3inPGRM"
      },
      "outputs": [],
      "source": [
        "# # Loads FCD training data image files from \"directory_pathname\". Returns an\n",
        "# # array of images and an array of labels (each an XY pair, the relative position\n",
        "# # of the disk center). Optional \"image_count\" can limit the number of images\n",
        "# # read, by taking a random sample of availble image files, defaults to \"all\".\n",
        "\n",
        "# def read_fcd_data_from_directory(directory_pathname, image_count = 'all'):\n",
        "#     directory_contents = listdir(directory_pathname)\n",
        "#     if (image_count == 'all'): image_count = len(directory_contents)\n",
        "#     assert image_count <= len(directory_contents), \"Too few images in directory\"\n",
        "#     directory_contents = random.sample(directory_contents, image_count)\n",
        "#     image_count *= amplification # for rot/mir\n",
        "#     print('Reading', max_input_images, 'images from ' + fcd_ts_dir)\n",
        "#     print('With an amplification factor of', amplification,\n",
        "#           'for a total of', image_count, 'images in dataset.')\n",
        "\n",
        "#     # 20211218\n",
        "\n",
        "#     # # Pre-allocate a tensor for all image data and one for all labels.\n",
        "#     # local_images = np.zeros([image_count, fcd_image_size, fcd_image_size, 3])\n",
        "#     # local_labels = np.zeros([image_count, 2])\n",
        "\n",
        "#     # Pre-allocate a tensor for all image data and one for all labels.\n",
        "#     local_images = []\n",
        "#     local_labels = []\n",
        "\n",
        "#     image_index = 0\n",
        "#     for filename in tqdm(directory_contents):\n",
        "#         image_pathname = join(directory_pathname, filename)\n",
        "#         # Numpy pixel array of image object.\n",
        "#         image = Image.open(image_pathname)\n",
        "#         new_size = (fcd_image_size, fcd_image_size)\n",
        "\n",
        "#         # 20211218\n",
        "#         # pixels = asarray(image.resize(new_size, PIL.Image.LANCZOS))\n",
        "#         pixels = asarray(image.resize(new_size, PIL.Image.LANCZOS),\n",
        "#                          dtype=np.float32)\n",
        "        \n",
        "#         # Convert input image data to floating-point.\n",
        "#         float_pixels = keras_backend.cast_to_floatx(pixels)\n",
        "#         # Scale input image data to range [0, 1] (in DLAVA was [-1, 1])\n",
        "#         scaled_pixels = np.interp(float_pixels, [0, 255], [0, 1])\n",
        "#         # Read disk center position from file name.\n",
        "#         center_position = fcd_normalized_xy(filename, pixels)\n",
        "#         def center_rot90(cp): return (cp[1], 0.5 - (cp[0] - 0.5))\n",
        "#         def center_flip(cp): return (0.5 - (cp[0] - 0.5), cp[1])\n",
        "#         variations = 8  # 4 from rotations times two from mirroring\n",
        "#         assert ((amplification > 0) and (amplification <= variations))\n",
        "#         keepers = random.sample(range(1, variations), amplification - 1)\n",
        "#         keepers.append(0)\n",
        "#         for i in range(variations):\n",
        "#             if (keepers.count(i) > 0):\n",
        "\n",
        "#                 # 20211218\n",
        "\n",
        "#                 # # Copy pixel data into slice \"image_index\" of \"local_images\"\n",
        "#                 # local_images[image_index, :, :, :] = scaled_pixels\n",
        "#                 # # Copy disk center XY position into slice of \"local_labels\".\n",
        "#                 # local_labels[image_index, :] = center_position\n",
        "\n",
        "#                 # Append pixel data to \"local_images\"\n",
        "#                 local_images.append(scaled_pixels)\n",
        "#                 # Append disk center XY position to \"local_labels\".\n",
        "#                 local_labels.append(center_position)\n",
        "\n",
        "#                 image_index += 1\n",
        "#                 draw_frequency = 50 * amplification\n",
        "#                 # 20211216 is this using up too much memory (for amp=8)?\n",
        "#                 # if ((image_index % draw_frequency) == draw_frequency - 1):\n",
        "#                 #     draw_image(scaled_pixels, center_position)\n",
        "#                 #     print(image_index + 1, \"of\", image_count, \"images...\")\n",
        "#             if (i < 7):\n",
        "#                 if (i == 3):\n",
        "#                     scaled_pixels = np.flip(scaled_pixels, axis=1)\n",
        "#                     center_position = center_flip(center_position)\n",
        "#                 else:\n",
        "#                     scaled_pixels = np.rot90(scaled_pixels, k=1, axes=(0, 1))\n",
        "#                     center_position = center_rot90(center_position)\n",
        "#     return local_images, local_labels\n",
        "\n",
        "# Loads FCD training data image files from \"directory_pathname\". Returns an\n",
        "# array of images and an array of labels (each an XY pair, the relative position\n",
        "# of the disk center). Optional \"image_count\" can limit the number of images\n",
        "# read, by taking a random sample of availble image files, defaults to \"all\".\n",
        "\n",
        "def read_fcd_data_from_directory(directory_pathname, image_count = 'all'):\n",
        "    directory_contents = listdir(directory_pathname)\n",
        "    if (image_count == 'all'): image_count = len(directory_contents)\n",
        "    assert image_count <= len(directory_contents), \"Too few images in directory\"\n",
        "    directory_contents = random.sample(directory_contents, image_count)\n",
        "    image_count *= amplification # for rot/mir\n",
        "    print('Reading', max_input_images, 'images from ' + fcd_ts_dir)\n",
        "    print('With an amplification factor of', amplification,\n",
        "          'for a total of', image_count, 'images in dataset.')\n",
        "    \n",
        "    # 20211222\n",
        "    # Empty lists to collect all image data and all labels.\n",
        "    # local_images = []\n",
        "    # local_labels = []\n",
        "    # image_index = 0\n",
        "    image_list = []\n",
        "    label_list = []\n",
        "\n",
        "\n",
        "    for filename in tqdm(directory_contents):\n",
        "        image_pathname = join(directory_pathname, filename)\n",
        "        # Numpy pixel array of image object.\n",
        "        image = Image.open(image_pathname)\n",
        "        new_size = (fcd_image_size, fcd_image_size)\n",
        "        pixels = asarray(image.resize(new_size, PIL.Image.LANCZOS),\n",
        "                         dtype=np.float32)        \n",
        "        # Convert input image data to floating-point.\n",
        "        float_pixels = keras_backend.cast_to_floatx(pixels)\n",
        "        # Scale input image data to range [0, 1] (in DLAVA was [-1, 1])\n",
        "        \n",
        "        # 20211221\n",
        "        # scaled_pixels = np.interp(float_pixels, [0, 255], [0, 1])\n",
        "        scaled_pixels = np.interp(float_pixels, [0, 255], [0, 1]).astype(np.float32)\n",
        "\n",
        "        # Read disk center position from file name.\n",
        "        center_position = fcd_normalized_xy(filename, pixels)\n",
        "        def center_rot90(cp): return (cp[1], 0.5 - (cp[0] - 0.5))\n",
        "        def center_flip(cp): return (0.5 - (cp[0] - 0.5), cp[1])\n",
        "\n",
        "        variations = 8  # 4 from rotations times two from mirroring\n",
        "\n",
        "        # 20211221\n",
        "        if (allow_amp_by_inv):\n",
        "            variations *= 2  # times two for invert intensity \n",
        "\n",
        "        assert ((amplification > 0) and (amplification <= variations))\n",
        "        keepers = random.sample(range(1, variations), amplification - 1)\n",
        "        keepers.append(0)\n",
        "        for i in range(variations):\n",
        "\n",
        "            # 20211221\n",
        "            # print('i =', i)\n",
        "            # print('keepers =', keepers)\n",
        "            # print('keepers.count(i) =', keepers.count(i))\n",
        "\n",
        "            # 20211221\n",
        "            scaled_pixels = scaled_pixels.astype(np.float32)\n",
        "\n",
        "            if (keepers.count(i) > 0):\n",
        "\n",
        "                # 20211221\n",
        "                # draw_image(scaled_pixels, center_position)\n",
        "                # 20220104\n",
        "                DiskFind.draw_image(scaled_pixels, center_position)\n",
        "\n",
        "                # 20211222\n",
        "                # # Append pixel data to \"local_images\"\n",
        "                # local_images.append(scaled_pixels)\n",
        "                # Append pixel data to \"image_list\"\n",
        "                image_list.append(scaled_pixels)\n",
        "                # # Append disk center XY position to \"local_labels\".\n",
        "                # local_labels.append(center_position)\n",
        "                # Append disk center XY position to \"label_list\".\n",
        "                label_list.append(center_position)\n",
        "                # image_index += 1\n",
        "                # draw_frequency = 50 * amplification\n",
        "            # if (i < 7):\n",
        "            # if (i < (variations - 1)):\n",
        "            #     if (i == 3):\n",
        "            #         scaled_pixels = np.flip(scaled_pixels, axis=1)\n",
        "            #         center_position = center_flip(center_position)\n",
        "            #     else:\n",
        "            #         scaled_pixels = np.rot90(scaled_pixels, k=1, axes=(0, 1))\n",
        "            #         center_position = center_rot90(center_position)\n",
        "            #     if (i == 7):\n",
        "            #         scaled_pixels = 1 - scaled_pixels\n",
        "            if (i < (variations - 1)):\n",
        "                if (i == 7):\n",
        "                    scaled_pixels = 1 - scaled_pixels\n",
        "                else:\n",
        "                    # 20211222 I think this was not flipping the inverted ones.\n",
        "                    # if (i == 3):\n",
        "                    if ((i == 3) or (i == 3 + 8)):\n",
        "                        scaled_pixels = np.flip(scaled_pixels, axis=1)\n",
        "                        center_position = center_flip(center_position)\n",
        "                    else:\n",
        "                        scaled_pixels = np.rot90(scaled_pixels, k=1, axes=(0, 1))\n",
        "                        center_position = center_rot90(center_position)\n",
        "    # 20211222\n",
        "    # return local_images, local_labels\n",
        "    return image_list, label_list"
      ]
    },
    {
      "cell_type": "markdown",
      "metadata": {
        "id": "JBZiONqEC7Mq"
      },
      "source": [
        "# Distance-based loss"
      ]
    },
    {
      "cell_type": "code",
      "execution_count": 6,
      "metadata": {
        "id": "tGGenXdUprZY"
      },
      "outputs": [],
      "source": [
        "# class FCDPositionLoss(Loss):\n",
        "#     # def __init__(self, regularization_factor=0.1, name=\"custom_mse\"):\n",
        "#     def __init__(self,\n",
        "#                  # diameter = fcd_image_size / fcd_disk_size,\n",
        "#                  diameter = float(fcd_disk_size) / float(fcd_image_size),\n",
        "#                  name = \"custom_mse\"):\n",
        "#         super().__init__(name=\"fcd_position_loss\")\n",
        "#         self.diameter = diameter\n",
        "\n",
        "#     def call(self, y_true, y_pred):\n",
        "#         # mse = tf.math.reduce_mean(tf.square(y_true - y_pred))\n",
        "#         # reg = tf.math.reduce_mean(tf.square(0.5 - y_pred))\n",
        "#         # return mse + reg * self.regularization_factor\n",
        "#         # return fcd_position_loss_helper(y_true, y_pred)\n",
        "#         return corresponding_distances(y_true, y_pred)\n",
        "\n",
        "# class FCDDiskShapedLoss(Loss):\n",
        "#     # def __init__(self, regularization_factor=0.1, name=\"custom_mse\"):\n",
        "#     def __init__(self,\n",
        "#                  # diameter = fcd_image_size / fcd_disk_size,\n",
        "#                 #  diameter = float(fcd_disk_size) / float(fcd_image_size),\n",
        "#                  radius = (float(fcd_disk_size) / float(fcd_image_size)) / 2,\n",
        "#                  name = \"custom_mse\"):\n",
        "#         super().__init__(name=\"fcd_disk_shaped_loss\")\n",
        "#         self.radius = radius\n",
        "\n",
        "#     def call(self, y_true, y_pred):\n",
        "#         # d = corresponding_distances(y_true, y_pred)\n",
        "#         # print(\"d\", d)\n",
        "#         # scaled = (d / self.radius)\n",
        "#         # print(\"scaled\", scaled)\n",
        "#         # exponentiated = scaled ** 4\n",
        "#         # print(\"exponentiated\", exponentiated)\n",
        "#         # return exponentiated\n",
        "#         # return fcd_disk_shaped_loss_helper(self.radius, y_true, y_pred)\n",
        "#         return fcd_disk_shaped_loss_helper(y_true, y_pred, self.radius)\n",
        "\n",
        "# Calculates RELATIVE disk radius on the fly -- rewrite later.\n",
        "def fcd_disk_radius():\n",
        "    return (float(fcd_disk_size) / float(fcd_image_size)) / 2\n",
        "\n",
        "def fcd_disk_shaped_loss_helper(y_true, y_pred):\n",
        "    radius = fcd_disk_radius()\n",
        "    d = corresponding_distances(y_true, y_pred)\n",
        "    # print(\"d\", d)\n",
        "    scaled = d / radius\n",
        "    # print(\"scaled\", scaled)\n",
        "    exponentiated = scaled ** 4\n",
        "    # print(\"exponentiated\", exponentiated)\n",
        "    return exponentiated\n",
        "\n",
        "# Given two tensors of 2d point coordinates, return a tensor of the Cartesian\n",
        "# distance between corresponding points in the input tensors.\n",
        "def corresponding_distances(y_true, y_pred):\n",
        "    true_pos_x, true_pos_y = tf.split(y_true, num_or_size_splits=2, axis=1)\n",
        "    pred_pos_x, pred_pos_y = tf.split(y_pred, num_or_size_splits=2, axis=1)\n",
        "    dx = true_pos_x - pred_pos_x\n",
        "    dy = true_pos_y - pred_pos_y\n",
        "    distances = tf.sqrt(tf.square(dx) + tf.square(dy))\n",
        "    return distances"
      ]
    },
    {
      "cell_type": "code",
      "execution_count": 7,
      "metadata": {
        "colab": {
          "base_uri": "https://localhost:8080/"
        },
        "id": "s-ljSOcNNU31",
        "outputId": "62d6a0a3-a76e-44a1-9c08-ac2a55da1042"
      },
      "outputs": [
        {
          "output_type": "execute_result",
          "data": {
            "text/plain": [
              "<tf.Tensor: shape=(4, 1), dtype=float32, numpy=\n",
              "array([[ 1.0995128],\n",
              "       [17.592115 ],\n",
              "       [ 0.       ],\n",
              "       [89.06067  ]], dtype=float32)>"
            ]
          },
          "metadata": {},
          "execution_count": 7
        }
      ],
      "source": [
        "# Prototype metric to measure the fraction of predictions that are inside disks.\n",
        "# For each pair of 2d points of input, output tensor is 1 for IN and 0 for OUT.\n",
        "# def fcd_prediction_inside_disk(y_true, y_pred):\n",
        "\n",
        "# (make name shorter so it is easier to read fit() log.)\n",
        "def in_disk(y_true, y_pred):\n",
        "    distances = corresponding_distances(y_true, y_pred)\n",
        "    # relative_disk_radius = (float(fcd_disk_size) / float(fcd_image_size)) / 2\n",
        "\n",
        "    # From https://stackoverflow.com/a/42450565/1991373\n",
        "    # Boolean tensor marking where distances are less than relative_disk_radius.\n",
        "    # insides = tf.less(distances, relative_disk_radius)\n",
        "    insides = tf.less(distances, fcd_disk_radius())\n",
        "    map_to_zero_or_one = tf.cast(insides, tf.int32)\n",
        "    return map_to_zero_or_one\n",
        "\n",
        "\n",
        "example_true_positions = tf.convert_to_tensor([[1.0, 2.0],\n",
        "                                               [3.0, 4.0],\n",
        "                                               [5.0, 6.0],\n",
        "                                               [7.0, 8.0]])\n",
        "example_pred_positions = tf.convert_to_tensor([[1.1, 2.0],\n",
        "                                               [3.0, 4.2],\n",
        "                                            #    [5.0, 6.1],\n",
        "                                               [5.0, 6.0],\n",
        "                                               [7.3, 8.0]])\n",
        "\n",
        "in_disk(example_true_positions, example_pred_positions)\n",
        "fcd_disk_shaped_loss_helper(example_true_positions, example_pred_positions)"
      ]
    },
    {
      "cell_type": "markdown",
      "metadata": {
        "id": "HgVOfEMvGF30"
      },
      "source": [
        "# Keras model utilities"
      ]
    },
    {
      "cell_type": "code",
      "execution_count": 8,
      "metadata": {
        "id": "L0rTXiq-3su_"
      },
      "outputs": [],
      "source": [
        "# # Construct a Keras model with CNN layers at the front, striding down in\n",
        "# # resolution, then dense layers funneling down to just two output neurons\n",
        "# # representing the predicted image position center of the conspicuous disk.\n",
        "# # (First version cribbed from DLAVA chapter B3, Listing B3-41)\n",
        "\n",
        "# # def make_striding_cnn_model():\n",
        "# def make_fcd_cnn_model():\n",
        "#     cnn_act = 'relu'\n",
        "#     dense_act = 'relu'\n",
        "#     output_act = 'linear'\n",
        "#     cnn_dropout = 0.2\n",
        "#     dense_dropout = 0.5  # ala Hinton (2012)\n",
        "#     model = Sequential()\n",
        "#     # Two units of:\n",
        "#     #     2 CNN layers with 3x3 32 filters, second one striding down by half\n",
        "#     #     followed by dropout\n",
        "#     #\n",
        "#     # 20211215 maybe use 5x5 for first of each layer? more drop out?\n",
        "#     # 20211217 change 3x3/3x3 to 5x5/3x3, now try 7x7/5x5\n",
        "#     #          temporarily turn off dropout\n",
        "#     #          temporarily switch back to MSE\n",
        "#     #          go back to 5x5/3x3\n",
        "#     #          add back all dropout\n",
        "#     #          add dropout to next 2 dense layers (was 512, now add 128 and 32)\n",
        "#     #          nope, remove that.\n",
        "#     #          try doubling the number of filters in the CNN layer 32 to 64.\n",
        "#     #          nope, remove that.\n",
        "#     #          In the 2 CNN groups, add a second 3x3 CNN/dropout between other 2\n",
        "\n",
        "#     # model.add(Conv2D(32, (3, 3), activation=cnn_act, padding='same',\n",
        "#     model.add(Conv2D(32, (5, 5), activation=cnn_act, padding='same',\n",
        "#     # model.add(Conv2D(64, (5, 5), activation=cnn_act, padding='same',\n",
        "#     # model.add(Conv2D(32, (7, 7), activation=cnn_act, padding='same',\n",
        "#                      kernel_constraint=MaxNorm(3),\n",
        "#                      input_shape=(fcd_image_size, fcd_image_size, 3)))\n",
        "#     # model.add(Dropout(cnn_dropout)) # added 20211215 9:30 am ###################\n",
        "#     model.add(Dropout(cnn_dropout))\n",
        "\n",
        "#     # 20211217 4:45pm add a second 3x3 CNN/dropout between other 2:\n",
        "#     model.add(Conv2D(32, (3, 3), activation=cnn_act, padding='same',\n",
        "#                      kernel_constraint=MaxNorm(3)))\n",
        "#     model.add(Dropout(cnn_dropout))\n",
        "\n",
        "#     model.add(Conv2D(32, (3, 3), activation=cnn_act, padding='same',\n",
        "#     # model.add(Conv2D(64, (3, 3), activation=cnn_act, padding='same',\n",
        "#     # model.add(Conv2D(32, (5, 5), activation=cnn_act, padding='same',\n",
        "#                      strides=(2, 2), kernel_constraint=MaxNorm(3)))\n",
        "#     # model.add(Dropout(cnn_dropout)) # removed 20211215 9:55 am ###############\n",
        "#     model.add(Dropout(cnn_dropout))\n",
        "\n",
        "#     # model.add(Conv2D(32, (3, 3), activation=cnn_act, padding='same', \n",
        "#     model.add(Conv2D(32, (5, 5), activation=cnn_act, padding='same', \n",
        "#     # model.add(Conv2D(64, (5, 5), activation=cnn_act, padding='same', \n",
        "#     # model.add(Conv2D(32, (7, 7), activation=cnn_act, padding='same', \n",
        "#                      kernel_constraint=MaxNorm(3)))\n",
        "#     # model.add(Dropout(cnn_dropout)) # added 20211215 9:30 am ###################\n",
        "#     model.add(Dropout(cnn_dropout))\n",
        "\n",
        "#     # 20211217 4:45pm add a second 3x3 CNN/dropout between other 2:\n",
        "#     model.add(Conv2D(32, (3, 3), activation=cnn_act, padding='same',\n",
        "#                      kernel_constraint=MaxNorm(3)))\n",
        "#     model.add(Dropout(cnn_dropout))\n",
        "\n",
        "#     model.add(Conv2D(32, (3, 3), activation=cnn_act, padding='same', \n",
        "#     # model.add(Conv2D(64, (3, 3), activation=cnn_act, padding='same', \n",
        "#     # model.add(Conv2D(32, (5, 5), activation=cnn_act, padding='same', \n",
        "#                      strides=(2, 2), kernel_constraint=MaxNorm(3)))\n",
        "#     # model.add(Dropout(cnn_dropout)) # removed 20211215 9:55 am ###############\n",
        "#     model.add(Dropout(cnn_dropout))\n",
        "\n",
        "#     # 20211215 double largest size, decrease by factor of 4, etc.\n",
        "#     # try again at 10:50am, with dropout of 0.3 instead of 0.5\n",
        "\n",
        "#     # Then flatten and use a large-ish dense layer with heavy dropout.\n",
        "#     model.add(Flatten())\n",
        "#     model.add(Dense(512, activation=dense_act))\n",
        "    \n",
        "#     # model.add(Dropout(dense_dropout))\n",
        "#     # model.add(Dropout(0.3))\n",
        "#     model.add(Dropout(dense_dropout))\n",
        "\n",
        "#     # Then funnel down to two output neurons for (x, y) of predicted center.\n",
        "#     model.add(Dense(128, activation=dense_act))\n",
        "#     # model.add(Dropout(dense_dropout))\n",
        "#     model.add(Dense(32, activation=dense_act))\n",
        "#     # model.add(Dropout(dense_dropout))\n",
        "#     model.add(Dense(8, activation=dense_act))\n",
        "#     model.add(Dense(2, activation=output_act))\n",
        "\n",
        "#     # Compile with disk-shaped loss, tracking accuracy and fraction-inside-disk.\n",
        "#     # model.compile(loss=fcd_disk_shaped_loss_helper,\n",
        "#     model.compile(loss='mse',\n",
        "#                   optimizer='adam', metrics=[\"accuracy\", in_disk])\n",
        "#     return model\n",
        "\n",
        "# # 20211219 experiments:\n",
        "# #     First make cnn_filters a named parameter, then change from 32 to 48\n",
        "# #     Then reduce it to 16, while adding yet another CNN layer in each \"unit\"\n",
        "# #     Then set cnn_filters to 64 and reduce each unit to the (original) 2 CNNs.\n",
        "\n",
        "\n",
        "# # Construct a Keras model with CNN layers at the front, striding down in\n",
        "# # resolution, then dense layers funneling down to just two output neurons\n",
        "# # representing the predicted image position center of the conspicuous disk.\n",
        "# # (First version cribbed from DLAVA chapter B3, Listing B3-41)\n",
        "\n",
        "# def make_fcd_cnn_model():\n",
        "#     cnn_act = 'relu'\n",
        "#     dense_act = 'relu'\n",
        "#     output_act = 'linear'\n",
        "#     cnn_dropout = 0.2\n",
        "#     dense_dropout = 0.5  # ala Hinton (2012)\n",
        "#     # cnn_filters = 32\n",
        "#     # cnn_filters = 48\n",
        "#     # cnn_filters = 16\n",
        "#     cnn_filters = 64\n",
        "\n",
        "#     model = Sequential()\n",
        "#     # Two units of:\n",
        "#     #     ...rewrite...\n",
        "#     model.add(Conv2D(cnn_filters, (5, 5), activation=cnn_act, padding='same',\n",
        "#                      kernel_constraint=MaxNorm(3),\n",
        "#                      input_shape=(fcd_image_size, fcd_image_size, 3)))\n",
        "#     model.add(Dropout(cnn_dropout))\n",
        "#     # ###\n",
        "#     # # 20211219 11:50 duplicate\n",
        "#     # model.add(Conv2D(cnn_filters, (3, 3), activation=cnn_act, padding='same',\n",
        "#     #                  kernel_constraint=MaxNorm(3)))\n",
        "#     # model.add(Dropout(cnn_dropout))\n",
        "#     # model.add(Conv2D(cnn_filters, (3, 3), activation=cnn_act, padding='same',\n",
        "#     #                  kernel_constraint=MaxNorm(3)))\n",
        "#     # model.add(Dropout(cnn_dropout))\n",
        "#     # ###\n",
        "#     model.add(Conv2D(cnn_filters, (3, 3), activation=cnn_act, padding='same',\n",
        "#                      strides=(2, 2), kernel_constraint=MaxNorm(3)))\n",
        "#     model.add(Dropout(cnn_dropout))\n",
        "\n",
        "#     model.add(Conv2D(cnn_filters, (5, 5), activation=cnn_act, padding='same', \n",
        "#                      kernel_constraint=MaxNorm(3)))\n",
        "#     model.add(Dropout(cnn_dropout))\n",
        "#     # ###\n",
        "#     # # 20211219 11:50 duplicate\n",
        "#     # model.add(Conv2D(cnn_filters, (3, 3), activation=cnn_act, padding='same',\n",
        "#     #                  kernel_constraint=MaxNorm(3)))\n",
        "#     # model.add(Dropout(cnn_dropout))\n",
        "#     # model.add(Conv2D(cnn_filters, (3, 3), activation=cnn_act, padding='same',\n",
        "#     #                  kernel_constraint=MaxNorm(3)))\n",
        "#     # model.add(Dropout(cnn_dropout))\n",
        "#     # ###\n",
        "#     model.add(Conv2D(cnn_filters, (3, 3), activation=cnn_act, padding='same', \n",
        "#                      strides=(2, 2), kernel_constraint=MaxNorm(3)))\n",
        "#     model.add(Dropout(cnn_dropout))\n",
        "\n",
        "#     # Then flatten and use a large-ish dense layer with heavy dropout.\n",
        "#     model.add(Flatten())\n",
        "#     model.add(Dense(512, activation=dense_act))\n",
        "#     model.add(Dropout(dense_dropout))\n",
        "\n",
        "#     # Then funnel down to two output neurons for (x, y) of predicted center.\n",
        "#     model.add(Dense(128, activation=dense_act))\n",
        "#     # model.add(Dropout(dense_dropout))\n",
        "#     model.add(Dense(32, activation=dense_act))\n",
        "#     # model.add(Dropout(dense_dropout))\n",
        "#     model.add(Dense(8, activation=dense_act))\n",
        "#     model.add(Dense(2, activation=output_act))\n",
        "\n",
        "#     # Compile with mse loss, tracking accuracy and fraction-inside-disk.\n",
        "#     model.compile(loss='mse', optimizer='adam', metrics=[\"accuracy\", in_disk])\n",
        "#     return model\n",
        "\n",
        "# 20211219 experiments:\n",
        "#     First make cnn_filters a named parameter, then change from 32 to 48\n",
        "#     Then reduce it to 16, while adding yet another CNN layer in each \"unit\"\n",
        "#     Then set cnn_filters to 64 and reduce each unit to the (original) 2 CNNs.\n",
        "\n",
        "# 20211220:\n",
        "#     back to 48 filters and three CNNs per unit.\n",
        "\n",
        "# # Construct a Keras model with CNN layers at the front, striding down in\n",
        "# # resolution, then dense layers funneling down to just two output neurons\n",
        "# # representing the predicted image position center of the conspicuous disk.\n",
        "# # (First version cribbed from DLAVA chapter B3, Listing B3-41)\n",
        "\n",
        "# def make_fcd_cnn_model():\n",
        "#     cnn_act = 'relu'\n",
        "#     dense_act = 'relu'\n",
        "#     output_act = 'linear'\n",
        "#     cnn_dropout = 0.2\n",
        "#     dense_dropout = 0.5  # ala Hinton (2012)\n",
        "#     # cnn_filters = 32\n",
        "#     cnn_filters = 48\n",
        "#     # cnn_filters = 16\n",
        "#     # cnn_filters = 64\n",
        "\n",
        "#     model = Sequential()\n",
        "#     # Two units of:\n",
        "#     #     ...rewrite...\n",
        "#     model.add(Conv2D(cnn_filters, (5, 5), activation=cnn_act, padding='same',\n",
        "#                      kernel_constraint=MaxNorm(3),\n",
        "#                      input_shape=(fcd_image_size, fcd_image_size, 3)))\n",
        "#     model.add(Dropout(cnn_dropout))\n",
        "#     # ###\n",
        "#     # # 20211219 11:50 duplicate\n",
        "#     model.add(Conv2D(cnn_filters, (3, 3), activation=cnn_act, padding='same',\n",
        "#                      kernel_constraint=MaxNorm(3)))\n",
        "#     model.add(Dropout(cnn_dropout))\n",
        "#     # model.add(Conv2D(cnn_filters, (3, 3), activation=cnn_act, padding='same',\n",
        "#     #                  kernel_constraint=MaxNorm(3)))\n",
        "#     # model.add(Dropout(cnn_dropout))\n",
        "#     # ###\n",
        "#     model.add(Conv2D(cnn_filters, (3, 3), activation=cnn_act, padding='same',\n",
        "#                      strides=(2, 2), kernel_constraint=MaxNorm(3)))\n",
        "#     model.add(Dropout(cnn_dropout))\n",
        "\n",
        "#     model.add(Conv2D(cnn_filters, (5, 5), activation=cnn_act, padding='same', \n",
        "#                      kernel_constraint=MaxNorm(3)))\n",
        "#     model.add(Dropout(cnn_dropout))\n",
        "#     # ###\n",
        "#     # # 20211219 11:50 duplicate\n",
        "#     model.add(Conv2D(cnn_filters, (3, 3), activation=cnn_act, padding='same',\n",
        "#                      kernel_constraint=MaxNorm(3)))\n",
        "#     model.add(Dropout(cnn_dropout))\n",
        "#     # model.add(Conv2D(cnn_filters, (3, 3), activation=cnn_act, padding='same',\n",
        "#     #                  kernel_constraint=MaxNorm(3)))\n",
        "#     # model.add(Dropout(cnn_dropout))\n",
        "#     # ###\n",
        "#     model.add(Conv2D(cnn_filters, (3, 3), activation=cnn_act, padding='same', \n",
        "#                      strides=(2, 2), kernel_constraint=MaxNorm(3)))\n",
        "#     model.add(Dropout(cnn_dropout))\n",
        "\n",
        "#     # Then flatten and use a large-ish dense layer with heavy dropout.\n",
        "#     model.add(Flatten())\n",
        "#     model.add(Dense(512, activation=dense_act))\n",
        "#     model.add(Dropout(dense_dropout))\n",
        "\n",
        "#     # Then funnel down to two output neurons for (x, y) of predicted center.\n",
        "#     model.add(Dense(128, activation=dense_act))\n",
        "#     # model.add(Dropout(dense_dropout))\n",
        "#     model.add(Dense(32, activation=dense_act))\n",
        "#     # model.add(Dropout(dense_dropout))\n",
        "#     model.add(Dense(8, activation=dense_act))\n",
        "#     model.add(Dense(2, activation=output_act))\n",
        "\n",
        "#     # Compile with mse loss, tracking accuracy and fraction-inside-disk.\n",
        "#     model.compile(loss='mse', optimizer='adam', metrics=[\"accuracy\", in_disk])\n",
        "#     return model\n",
        "\n",
        "# Construct a Keras model with CNN layers at the front, striding down in\n",
        "# resolution, then dense layers funneling down to just two output neurons\n",
        "# representing the predicted image position center of the conspicuous disk.\n",
        "# (First version cribbed from DLAVA chapter B3, Listing B3-41)\n",
        "\n",
        "# 20211220:\n",
        "#     back to 48 filters and three CNNs per unit.\n",
        "#     increase cnn_dropout from 0.2 to 0.3, add dropout for Dense(128)\n",
        "\n",
        "def make_fcd_cnn_model():\n",
        "    cnn_act = 'relu'\n",
        "    dense_act = 'relu'\n",
        "    output_act = 'linear'\n",
        "    cnn_dropout = 0.2\n",
        "    dense_dropout = 0.5  # ala Hinton (2012)\n",
        "    # cnn_filters = 48\n",
        "    cnn_filters = 32\n",
        "\n",
        "    model = Sequential()\n",
        "    # Two units of:\n",
        "    #     ...rewrite...\n",
        "    model.add(Conv2D(cnn_filters, (5, 5), activation=cnn_act, padding='same',\n",
        "                     kernel_constraint=MaxNorm(3),\n",
        "                     input_shape=(fcd_image_size, fcd_image_size, 3)))\n",
        "    model.add(Dropout(cnn_dropout))\n",
        "    model.add(Conv2D(cnn_filters, (3, 3), activation=cnn_act, padding='same',\n",
        "                     kernel_constraint=MaxNorm(3)))\n",
        "    model.add(Dropout(cnn_dropout))\n",
        "    model.add(Conv2D(cnn_filters, (3, 3), activation=cnn_act, padding='same',\n",
        "                     strides=(2, 2), kernel_constraint=MaxNorm(3)))\n",
        "    model.add(Dropout(cnn_dropout))\n",
        "\n",
        "    model.add(Conv2D(cnn_filters, (5, 5), activation=cnn_act, padding='same', \n",
        "                     kernel_constraint=MaxNorm(3)))\n",
        "    model.add(Dropout(cnn_dropout))\n",
        "    model.add(Conv2D(cnn_filters, (3, 3), activation=cnn_act, padding='same',\n",
        "                     kernel_constraint=MaxNorm(3)))\n",
        "    model.add(Dropout(cnn_dropout))\n",
        "    model.add(Conv2D(cnn_filters, (3, 3), activation=cnn_act, padding='same', \n",
        "                     strides=(2, 2), kernel_constraint=MaxNorm(3)))\n",
        "    model.add(Dropout(cnn_dropout))\n",
        "\n",
        "    # Then flatten and use a large-ish dense layer with heavy dropout.\n",
        "    model.add(Flatten())\n",
        "    model.add(Dense(512, activation=dense_act))\n",
        "    model.add(Dropout(dense_dropout))\n",
        "\n",
        "    # Then funnel down to two output neurons for (x, y) of predicted center.\n",
        "    model.add(Dense(128, activation=dense_act))\n",
        "    # model.add(Dropout(dense_dropout))\n",
        "    model.add(Dense(32, activation=dense_act))\n",
        "    # model.add(Dropout(dense_dropout))\n",
        "    model.add(Dense(8, activation=dense_act))\n",
        "    model.add(Dense(2, activation=output_act))\n",
        "\n",
        "    # Compile with mse loss, tracking accuracy and fraction-inside-disk.\n",
        "    model.compile(loss='mse', optimizer='adam', metrics=[\"accuracy\", in_disk])\n",
        "    return model"
      ]
    },
    {
      "cell_type": "code",
      "execution_count": 9,
      "metadata": {
        "id": "E6A5Obp7DjWr"
      },
      "outputs": [],
      "source": [
        "# Utility to fit and plot a run, again cribbed from DLAVA chapter B3.\n",
        "def run_model(model_maker, plot_title):\n",
        "    model = model_maker()\n",
        "\n",
        "    # print(\"In run_model():\")\n",
        "    # debug_print('X_train.shape')\n",
        "    # debug_print(\"y_train.shape\")\n",
        "    # 20211218\n",
        "    # history = model.fit(X_train, y_train, validation_split=0.2,\n",
        "    #                     epochs=fcd_epochs, batch_size=fcd_batch_size)\n",
        "    \n",
        "    # (X_train, X_test, y_train, y_test)\n",
        "\n",
        "    history = model.fit(X_train,\n",
        "                        y_train,\n",
        "\n",
        "                        # validation_split=0.2,\n",
        "                        validation_data = (X_test, y_test),\n",
        "                        \n",
        "                        epochs=fcd_epochs,\n",
        "                        batch_size=fcd_batch_size)\n",
        "\n",
        "\n",
        "    print()\n",
        "    plot_accuracy_and_loss(history, plot_title)\n",
        "    return model, history\n",
        "\n",
        "# A little utility to draw plots of accuracy and loss.\n",
        "def plot_accuracy_and_loss(history, plot_title):\n",
        "    xs = range(len(history.history['accuracy']))\n",
        "    # plt.figure(figsize=(10,3))\n",
        "    plt.figure(figsize=(15,3))\n",
        "\n",
        "    # plt.subplot(1, 2, 1)\n",
        "    plt.subplot(1, 3, 1)\n",
        "    plt.plot(xs, history.history['accuracy'], label='train')\n",
        "    plt.plot(xs, history.history['val_accuracy'], label='validation')\n",
        "    plt.legend(loc='lower left')\n",
        "    plt.xlabel('epochs')\n",
        "    plt.ylabel('accuracy')\n",
        "    plt.title(plot_title+': Accuracy')\n",
        "\n",
        "    plt.subplot(1, 3, 2)\n",
        "    # plt.plot(xs, history.history['fcd_prediction_inside_disk'], label='train')\n",
        "    # plt.plot(xs, history.history['val_fcd_prediction_inside_disk'], label='validation')\n",
        "    plt.plot(xs, history.history['in_disk'], label='train')\n",
        "    plt.plot(xs, history.history['val_in_disk'], label='validation')\n",
        "    plt.legend(loc='lower left')\n",
        "    plt.xlabel('epochs')\n",
        "    plt.ylabel('fraction inside disk')\n",
        "    plt.title(plot_title+': fraction inside disk')\n",
        "\n",
        "    # plt.subplot(1, 2, 2)\n",
        "    plt.subplot(1, 3, 3)\n",
        "    plt.plot(xs, history.history['loss'], label='train')\n",
        "    plt.plot(xs, history.history['val_loss'], label='validation')\n",
        "    plt.legend(loc='upper left')\n",
        "    plt.xlabel('epochs')\n",
        "    plt.ylabel('loss')\n",
        "    plt.title(plot_title+': Loss')\n",
        "\n",
        "    plt.show()"
      ]
    },
    {
      "cell_type": "markdown",
      "metadata": {
        "id": "9Iot7WB8KhGg"
      },
      "source": [
        "# Read training data"
      ]
    },
    {
      "cell_type": "code",
      "execution_count": 10,
      "metadata": {
        "colab": {
          "base_uri": "https://localhost:8080/",
          "height": 1000,
          "referenced_widgets": [
            "8f751483c5e0456291e96fa87ca96c92",
            "eca77c4cd1a446d09ef3fb473dbdf27f",
            "f325bd43095d4311abea69d89687b999",
            "0e2b252a973043df8e14a6da73f89f34",
            "c404a85ee40346aa80b7588049a72f81",
            "ccb0e1333365494cb88503a585433313",
            "d8a1b53aaf04460bb3ef3cc4892303ef",
            "5644005541b7400f8e76f9310653e388",
            "f6ed3d461ace49a6aeb5962b6f0edfb3",
            "e8550780a33f4ccdbaa47d08b9fa8c4b",
            "c68784eaa3c94d36979179fd0046b21b"
          ]
        },
        "id": "zKUhDLbgJxtR",
        "outputId": "7c1a2b3e-2c34-4daf-cd09-2e16b62680ee"
      },
      "outputs": [
        {
          "output_type": "stream",
          "name": "stdout",
          "text": [
            "Reading all images from /content/drive/My Drive/PredatorEye/fcd_training_set/\n",
            "With an amplification factor of 8 for a total of 40000 images in dataset.\n"
          ]
        },
        {
          "output_type": "display_data",
          "data": {
            "application/vnd.jupyter.widget-view+json": {
              "model_id": "8f751483c5e0456291e96fa87ca96c92",
              "version_minor": 0,
              "version_major": 2
            },
            "text/plain": [
              "  0%|          | 0/5000 [00:00<?, ?it/s]"
            ]
          },
          "metadata": {}
        },
        {
          "output_type": "display_data",
          "data": {
            "image/png": "[encoded data removed]",
            "text/plain": [
              "<Figure size 432x288 with 1 Axes>"
            ]
          },
          "metadata": {
            "needs_background": "light"
          }
        },
        {
          "output_type": "display_data",
          "data": {
            "image/png": "[encoded data removed]",
            "text/plain": [
              "<Figure size 432x288 with 1 Axes>"
            ]
          },
          "metadata": {
            "needs_background": "light"
          }
        },
        {
          "output_type": "display_data",
          "data": {
            "image/png": "[encoded data removed]",
            "text/plain": [
              "<Figure size 432x288 with 1 Axes>"
            ]
          },
          "metadata": {
            "needs_background": "light"
          }
        },
        {
          "output_type": "display_data",
          "data": {
            "image/png": "[encoded data removed]",
            "text/plain": [
              "<Figure size 432x288 with 1 Axes>"
            ]
          },
          "metadata": {
            "needs_background": "light"
          }
        },
        {
          "output_type": "display_data",
          "data": {
            "image/png": "[encoded data removed]",
            "text/plain": [
              "<Figure size 432x288 with 1 Axes>"
            ]
          },
          "metadata": {
            "needs_background": "light"
          }
        },
        {
          "output_type": "display_data",
          "data": {
            "image/png": "[encoded data removed]",
            "text/plain": [
              "<Figure size 432x288 with 1 Axes>"
            ]
          },
          "metadata": {
            "needs_background": "light"
          }
        },
        {
          "output_type": "display_data",
          "data": {
            "image/png": "[encoded data removed]",
            "text/plain": [
              "<Figure size 432x288 with 1 Axes>"
            ]
          },
          "metadata": {
            "needs_background": "light"
          }
        },
        {
          "output_type": "display_data",
          "data": {
            "image/png": "[encoded data removed]",
            "text/plain": [
              "<Figure size 432x288 with 1 Axes>"
            ]
          },
          "metadata": {
            "needs_background": "light"
          }
        },
        {
          "output_type": "display_data",
          "data": {
            "image/png": "[encoded data removed]",
            "text/plain": [
              "<Figure size 432x288 with 1 Axes>"
            ]
          },
          "metadata": {
            "needs_background": "light"
          }
        },
        {
          "output_type": "display_data",
          "data": {
            "image/png": "[encoded data removed]",
            "text/plain": [
              "<Figure size 432x288 with 1 Axes>"
            ]
          },
          "metadata": {
            "needs_background": "light"
          }
        },
        {
          "output_type": "display_data",
          "data": {
            "image/png": "[encoded data removed]",
            "text/plain": [
              "<Figure size 432x288 with 1 Axes>"
            ]
          },
          "metadata": {
            "needs_background": "light"
          }
        },
        {
          "output_type": "display_data",
          "data": {
            "image/png": "[encoded data removed]",
            "text/plain": [
              "<Figure size 432x288 with 1 Axes>"
            ]
          },
          "metadata": {
            "needs_background": "light"
          }
        },
        {
          "output_type": "display_data",
          "data": {
            "image/png": "[encoded data removed]",
            "text/plain": [
              "<Figure size 432x288 with 1 Axes>"
            ]
          },
          "metadata": {
            "needs_background": "light"
          }
        },
        {
          "output_type": "display_data",
          "data": {
            "image/png": "[encoded data removed]",
            "text/plain": [
              "<Figure size 432x288 with 1 Axes>"
            ]
          },
          "metadata": {
            "needs_background": "light"
          }
        },
        {
          "output_type": "display_data",
          "data": {
            "image/png": "[encoded data removed]",
            "text/plain": [
              "<Figure size 432x288 with 1 Axes>"
            ]
          },
          "metadata": {
            "needs_background": "light"
          }
        },
        {
          "output_type": "display_data",
          "data": {
            "image/png": "[encoded data removed]",
            "text/plain": [
              "<Figure size 432x288 with 1 Axes>"
            ]
          },
          "metadata": {
            "needs_background": "light"
          }
        },
        {
          "output_type": "display_data",
          "data": {
            "image/png": "[encoded data removed]",
            "text/plain": [
              "<Figure size 432x288 with 1 Axes>"
            ]
          },
          "metadata": {
            "needs_background": "light"
          }
        },
        {
          "output_type": "display_data",
          "data": {
            "image/png": "[encoded data removed]",
            "text/plain": [
              "<Figure size 432x288 with 1 Axes>"
            ]
          },
          "metadata": {
            "needs_background": "light"
          }
        },
        {
          "output_type": "display_data",
          "data": {
            "image/png": "[encoded data removed]",
            "text/plain": [
              "<Figure size 432x288 with 1 Axes>"
            ]
          },
          "metadata": {
            "needs_background": "light"
          }
        },
        {
          "output_type": "display_data",
          "data": {
            "image/png": "[encoded data removed]",
            "text/plain": [
              "<Figure size 432x288 with 1 Axes>"
            ]
          },
          "metadata": {
            "needs_background": "light"
          }
        },
        {
          "output_type": "display_data",
          "data": {
            "image/png": "[encoded data removed]",
            "text/plain": [
              "<Figure size 432x288 with 1 Axes>"
            ]
          },
          "metadata": {
            "needs_background": "light"
          }
        },
        {
          "output_type": "display_data",
          "data": {
            "image/png": "[encoded data removed]",
            "text/plain": [
              "<Figure size 432x288 with 1 Axes>"
            ]
          },
          "metadata": {
            "needs_background": "light"
          }
        },
        {
          "output_type": "display_data",
          "data": {
            "image/png": "[encoded data removed]",
            "text/plain": [
              "<Figure size 432x288 with 1 Axes>"
            ]
          },
          "metadata": {
            "needs_background": "light"
          }
        },
        {
          "output_type": "display_data",
          "data": {
            "image/png": "[encoded data removed]",
            "text/plain": [
              "<Figure size 432x288 with 1 Axes>"
            ]
          },
          "metadata": {
            "needs_background": "light"
          }
        },
        {
          "output_type": "display_data",
          "data": {
            "image/png": "[encoded data removed]",
            "text/plain": [
              "<Figure size 432x288 with 1 Axes>"
            ]
          },
          "metadata": {
            "needs_background": "light"
          }
        },
        {
          "output_type": "display_data",
          "data": {
            "image/png": "[encoded data removed]",
            "text/plain": [
              "<Figure size 432x288 with 1 Axes>"
            ]
          },
          "metadata": {
            "needs_background": "light"
          }
        },
        {
          "output_type": "display_data",
          "data": {
            "image/png": "[encoded data removed]",
            "text/plain": [
              "<Figure size 432x288 with 1 Axes>"
            ]
          },
          "metadata": {
            "needs_background": "light"
          }
        },
        {
          "output_type": "display_data",
          "data": {
            "image/png": "[encoded data removed]",
            "text/plain": [
              "<Figure size 432x288 with 1 Axes>"
            ]
          },
          "metadata": {
            "needs_background": "light"
          }
        },
        {
          "output_type": "display_data",
          "data": {
            "image/png": "[encoded data removed]",
            "text/plain": [
              "<Figure size 432x288 with 1 Axes>"
            ]
          },
          "metadata": {
            "needs_background": "light"
          }
        },
        {
          "output_type": "display_data",
          "data": {
            "image/png": "[encoded data removed]",
            "text/plain": [
              "<Figure size 432x288 with 1 Axes>"
            ]
          },
          "metadata": {
            "needs_background": "light"
          }
        },
        {
          "output_type": "display_data",
          "data": {
            "image/png": "[encoded data removed]",
            "text/plain": [
              "<Figure size 432x288 with 1 Axes>"
            ]
          },
          "metadata": {
            "needs_background": "light"
          }
        },
        {
          "output_type": "display_data",
          "data": {
            "image/png": "[encoded data removed]",
            "text/plain": [
              "<Figure size 432x288 with 1 Axes>"
            ]
          },
          "metadata": {
            "needs_background": "light"
          }
        },
        {
          "output_type": "error",
          "ename": "KeyboardInterrupt",
          "evalue": "ignored",
          "traceback": [
            "\u001b[0;31m---------------------------------------------------------------------------\u001b[0m",
            "\u001b[0;31mKeyboardInterrupt\u001b[0m                         Traceback (most recent call last)",
            "\u001b[0;32m<ipython-input-10-fbc2af70ab4d>\u001b[0m in \u001b[0;36m<module>\u001b[0;34m()\u001b[0m\n\u001b[1;32m      6\u001b[0m \u001b[0;34m(\u001b[0m\u001b[0mX_train\u001b[0m\u001b[0;34m,\u001b[0m \u001b[0mX_test\u001b[0m\u001b[0;34m,\u001b[0m \u001b[0my_train\u001b[0m\u001b[0;34m,\u001b[0m \u001b[0my_test\u001b[0m\u001b[0;34m)\u001b[0m \u001b[0;34m=\u001b[0m \u001b[0;34m(\u001b[0m\u001b[0;34m[\u001b[0m\u001b[0;34m]\u001b[0m\u001b[0;34m,\u001b[0m \u001b[0;34m[\u001b[0m\u001b[0;34m]\u001b[0m\u001b[0;34m,\u001b[0m \u001b[0;34m[\u001b[0m\u001b[0;34m]\u001b[0m\u001b[0;34m,\u001b[0m \u001b[0;34m[\u001b[0m\u001b[0;34m]\u001b[0m\u001b[0;34m)\u001b[0m\u001b[0;34m\u001b[0m\u001b[0;34m\u001b[0m\u001b[0m\n\u001b[1;32m      7\u001b[0m \u001b[0mgc\u001b[0m\u001b[0;34m.\u001b[0m\u001b[0mcollect\u001b[0m\u001b[0;34m(\u001b[0m\u001b[0;34m)\u001b[0m\u001b[0;34m\u001b[0m\u001b[0;34m\u001b[0m\u001b[0m\n\u001b[0;32m----> 8\u001b[0;31m \u001b[0;34m(\u001b[0m\u001b[0mX_train\u001b[0m\u001b[0;34m,\u001b[0m \u001b[0my_train\u001b[0m\u001b[0;34m)\u001b[0m \u001b[0;34m=\u001b[0m \u001b[0mread_fcd_data_from_directory\u001b[0m\u001b[0;34m(\u001b[0m\u001b[0mfcd_ts_dir\u001b[0m\u001b[0;34m,\u001b[0m \u001b[0mmax_input_images\u001b[0m\u001b[0;34m)\u001b[0m\u001b[0;34m\u001b[0m\u001b[0;34m\u001b[0m\u001b[0m\n\u001b[0m\u001b[1;32m      9\u001b[0m \u001b[0;31m# print('Total of', X_train.shape[0], 'labeled images.')\u001b[0m\u001b[0;34m\u001b[0m\u001b[0;34m\u001b[0m\u001b[0;34m\u001b[0m\u001b[0m\n\u001b[1;32m     10\u001b[0m \u001b[0mprint\u001b[0m\u001b[0;34m(\u001b[0m\u001b[0;34m'Total of'\u001b[0m\u001b[0;34m,\u001b[0m \u001b[0mlen\u001b[0m\u001b[0;34m(\u001b[0m\u001b[0mX_train\u001b[0m\u001b[0;34m)\u001b[0m\u001b[0;34m,\u001b[0m \u001b[0;34m'labeled images.'\u001b[0m\u001b[0;34m)\u001b[0m\u001b[0;34m\u001b[0m\u001b[0;34m\u001b[0m\u001b[0m\n",
            "\u001b[0;32m<ipython-input-5-32c30ef48651>\u001b[0m in \u001b[0;36mread_fcd_data_from_directory\u001b[0;34m(directory_pathname, image_count)\u001b[0m\n\u001b[1;32m    105\u001b[0m         \u001b[0mimage_pathname\u001b[0m \u001b[0;34m=\u001b[0m \u001b[0mjoin\u001b[0m\u001b[0;34m(\u001b[0m\u001b[0mdirectory_pathname\u001b[0m\u001b[0;34m,\u001b[0m \u001b[0mfilename\u001b[0m\u001b[0;34m)\u001b[0m\u001b[0;34m\u001b[0m\u001b[0;34m\u001b[0m\u001b[0m\n\u001b[1;32m    106\u001b[0m         \u001b[0;31m# Numpy pixel array of image object.\u001b[0m\u001b[0;34m\u001b[0m\u001b[0;34m\u001b[0m\u001b[0;34m\u001b[0m\u001b[0m\n\u001b[0;32m--> 107\u001b[0;31m         \u001b[0mimage\u001b[0m \u001b[0;34m=\u001b[0m \u001b[0mImage\u001b[0m\u001b[0;34m.\u001b[0m\u001b[0mopen\u001b[0m\u001b[0;34m(\u001b[0m\u001b[0mimage_pathname\u001b[0m\u001b[0;34m)\u001b[0m\u001b[0;34m\u001b[0m\u001b[0;34m\u001b[0m\u001b[0m\n\u001b[0m\u001b[1;32m    108\u001b[0m         \u001b[0mnew_size\u001b[0m \u001b[0;34m=\u001b[0m \u001b[0;34m(\u001b[0m\u001b[0mfcd_image_size\u001b[0m\u001b[0;34m,\u001b[0m \u001b[0mfcd_image_size\u001b[0m\u001b[0;34m)\u001b[0m\u001b[0;34m\u001b[0m\u001b[0;34m\u001b[0m\u001b[0m\n\u001b[1;32m    109\u001b[0m         pixels = asarray(image.resize(new_size, PIL.Image.LANCZOS),\n",
            "\u001b[0;32m/usr/local/lib/python3.7/dist-packages/PIL/Image.py\u001b[0m in \u001b[0;36mopen\u001b[0;34m(fp, mode)\u001b[0m\n\u001b[1;32m   2850\u001b[0m         \u001b[0mexclusive_fp\u001b[0m \u001b[0;34m=\u001b[0m \u001b[0;32mTrue\u001b[0m\u001b[0;34m\u001b[0m\u001b[0;34m\u001b[0m\u001b[0m\n\u001b[1;32m   2851\u001b[0m \u001b[0;34m\u001b[0m\u001b[0m\n\u001b[0;32m-> 2852\u001b[0;31m     \u001b[0mprefix\u001b[0m \u001b[0;34m=\u001b[0m \u001b[0mfp\u001b[0m\u001b[0;34m.\u001b[0m\u001b[0mread\u001b[0m\u001b[0;34m(\u001b[0m\u001b[0;36m16\u001b[0m\u001b[0;34m)\u001b[0m\u001b[0;34m\u001b[0m\u001b[0;34m\u001b[0m\u001b[0m\n\u001b[0m\u001b[1;32m   2853\u001b[0m \u001b[0;34m\u001b[0m\u001b[0m\n\u001b[1;32m   2854\u001b[0m     \u001b[0mpreinit\u001b[0m\u001b[0;34m(\u001b[0m\u001b[0;34m)\u001b[0m\u001b[0;34m\u001b[0m\u001b[0;34m\u001b[0m\u001b[0m\n",
            "\u001b[0;31mKeyboardInterrupt\u001b[0m: "
          ]
        }
      ],
      "source": [
        "# Read FCD training data from a given directory.\n",
        "reset_random_seeds()\n",
        "start_time = time.time()\n",
        "# (X_train, y_train) = ([], [])  # To release memory when rerunning in notebook.\n",
        "# To release memory when rerunning in notebook.\n",
        "(X_train, X_test, y_train, y_test) = ([], [], [], [])  \n",
        "gc.collect()\n",
        "(X_train, y_train) = read_fcd_data_from_directory(fcd_ts_dir, max_input_images)\n",
        "# print('Total of', X_train.shape[0], 'labeled images.')\n",
        "print('Total of', len(X_train), 'labeled images.')\n",
        "\n",
        "# 20211218\n",
        "(X_train, X_test, y_train, y_test) = train_test_split(X_train, y_train,\n",
        "                                                      test_size=0.2)\n",
        "print('len(X_train) =', len(X_train))\n",
        "print('len(y_train) =', len(y_train))\n",
        "print('len(X_test) =', len(X_test))\n",
        "print('len(y_test) =', len(y_test))\n",
        "\n",
        "# Convert from python lists to np array.\n",
        "X_train = np.array(X_train, dtype=np.float32)\n",
        "y_train = np.array(y_train, dtype=np.float32)\n",
        "X_test = np.array(X_test, dtype=np.float32)\n",
        "y_test = np.array(y_test, dtype=np.float32)\n",
        "\n",
        "print('Elapsed time:', int(time.time() - start_time), 'seconds.')"
      ]
    },
    {
      "cell_type": "markdown",
      "metadata": {
        "id": "CQy5wa_GLNG4"
      },
      "source": [
        "# Build and train model"
      ]
    },
    {
      "cell_type": "code",
      "execution_count": null,
      "metadata": {
        "id": "2ppYkZ-grG2E"
      },
      "outputs": [],
      "source": [
        "# Run a model.\n",
        "reset_random_seeds()\n",
        "start_time = time.time()\n",
        "fcd_model_timestamp = timestamp_string()\n",
        "(model, history) = ([], [])  # To release memory when rerunning in notebook.\n",
        "gc.collect()\n",
        "\n",
        "(model, history) = run_model(make_fcd_cnn_model, 'FCD')\n",
        "\n",
        "elapsed_seconds = int(time.time() - start_time)\n",
        "print('Elapsed time: ' + str(elapsed_seconds) + ' seconds (' +\n",
        "      str(int(elapsed_seconds / 60)) +' minutes).')\n",
        "\n",
        "# model.save(model_save_directory + fcd_model_timestamp)\n",
        "model_save_path = model_save_directory + fcd_model_timestamp\n",
        "model.save(model_save_path)\n",
        "print('Saved trained model to', model_save_path)"
      ]
    },
    {
      "cell_type": "markdown",
      "metadata": {
        "id": "gYrWnkXtLVcO"
      },
      "source": [
        "# Analyze results"
      ]
    },
    {
      "cell_type": "code",
      "execution_count": null,
      "metadata": {
        "id": "VfqgguszL0sv"
      },
      "outputs": [],
      "source": [
        "# Draw some results to understand performance\n",
        "# TODO needs to discriminate between training and validation sets.\n",
        "#      feature best/worse results of both cases?\n",
        "# 20211210 refactor to not run predict on whole training set\n",
        "def draw_results(count = 20):\n",
        "\n",
        "    # 20211218 (should be a parameter to draw_results())\n",
        "    # for i in random.sample(range(X_train.shape[0]), count) :\n",
        "    for i in random.sample(range(X_test.shape[0]), count) :\n",
        "\n",
        "        # 20211218 (should be a parameter to draw_results())\n",
        "        # pixel_tensor = X_train[i, :, :, :]\n",
        "        pixel_tensor = X_test[i, :, :, :]\n",
        "        \n",
        "        predict = model.predict(tf.convert_to_tensor([pixel_tensor]))[0]\n",
        "        x = predict[0]\n",
        "        y = predict[1]\n",
        "        print(i, \": (\", x, \",\", y, \")\")\n",
        "\n",
        "        # 20211218\n",
        "        # draw_image(X_train[i, :, :, :], [x, y])\n",
        "        draw_image(pixel_tensor, [x, y])\n",
        "\n",
        "reset_random_seeds()\n",
        "draw_results()"
      ]
    }
  ],
  "metadata": {
    "accelerator": "GPU",
    "colab": {
      "collapsed_sections": [],
      "machine_shape": "hm",
      "name": "Find_Conspicuous_Disk.ipynb",
      "provenance": []
    },
    "kernelspec": {
      "display_name": "Python 3",
      "name": "python3"
    },
    "language_info": {
      "name": "python"
    },
    "widgets": {
      "application/vnd.jupyter.widget-state+json": {
        "8f751483c5e0456291e96fa87ca96c92": {
          "model_module": "@jupyter-widgets/controls",
          "model_name": "HBoxModel",
          "model_module_version": "1.5.0",
          "state": {
            "_view_name": "HBoxView",
            "_dom_classes": [],
            "_model_name": "HBoxModel",
            "_view_module": "@jupyter-widgets/controls",
            "_model_module_version": "1.5.0",
            "_view_count": null,
            "_view_module_version": "1.5.0",
            "box_style": "",
            "layout": "IPY_MODEL_eca77c4cd1a446d09ef3fb473dbdf27f",
            "_model_module": "@jupyter-widgets/controls",
            "children": [
              "IPY_MODEL_f325bd43095d4311abea69d89687b999",
              "IPY_MODEL_0e2b252a973043df8e14a6da73f89f34",
              "IPY_MODEL_c404a85ee40346aa80b7588049a72f81"
            ]
          }
        },
        "eca77c4cd1a446d09ef3fb473dbdf27f": {
          "model_module": "@jupyter-widgets/base",
          "model_name": "LayoutModel",
          "model_module_version": "1.2.0",
          "state": {
            "_view_name": "LayoutView",
            "grid_template_rows": null,
            "right": null,
            "justify_content": null,
            "_view_module": "@jupyter-widgets/base",
            "overflow": null,
            "_model_module_version": "1.2.0",
            "_view_count": null,
            "flex_flow": null,
            "width": null,
            "min_width": null,
            "border": null,
            "align_items": null,
            "bottom": null,
            "_model_module": "@jupyter-widgets/base",
            "top": null,
            "grid_column": null,
            "overflow_y": null,
            "overflow_x": null,
            "grid_auto_flow": null,
            "grid_area": null,
            "grid_template_columns": null,
            "flex": null,
            "_model_name": "LayoutModel",
            "justify_items": null,
            "grid_row": null,
            "max_height": null,
            "align_content": null,
            "visibility": null,
            "align_self": null,
            "height": null,
            "min_height": null,
            "padding": null,
            "grid_auto_rows": null,
            "grid_gap": null,
            "max_width": null,
            "order": null,
            "_view_module_version": "1.2.0",
            "grid_template_areas": null,
            "object_position": null,
            "object_fit": null,
            "grid_auto_columns": null,
            "margin": null,
            "display": null,
            "left": null
          }
        },
        "f325bd43095d4311abea69d89687b999": {
          "model_module": "@jupyter-widgets/controls",
          "model_name": "HTMLModel",
          "model_module_version": "1.5.0",
          "state": {
            "_view_name": "HTMLView",
            "style": "IPY_MODEL_ccb0e1333365494cb88503a585433313",
            "_dom_classes": [],
            "description": "",
            "_model_name": "HTMLModel",
            "placeholder": "​",
            "_view_module": "@jupyter-widgets/controls",
            "_model_module_version": "1.5.0",
            "value": "  0%",
            "_view_count": null,
            "_view_module_version": "1.5.0",
            "description_tooltip": null,
            "_model_module": "@jupyter-widgets/controls",
            "layout": "IPY_MODEL_d8a1b53aaf04460bb3ef3cc4892303ef"
          }
        },
        "0e2b252a973043df8e14a6da73f89f34": {
          "model_module": "@jupyter-widgets/controls",
          "model_name": "FloatProgressModel",
          "model_module_version": "1.5.0",
          "state": {
            "_view_name": "ProgressView",
            "style": "IPY_MODEL_5644005541b7400f8e76f9310653e388",
            "_dom_classes": [],
            "description": "",
            "_model_name": "FloatProgressModel",
            "bar_style": "danger",
            "max": 5000,
            "_view_module": "@jupyter-widgets/controls",
            "_model_module_version": "1.5.0",
            "value": 4,
            "_view_count": null,
            "_view_module_version": "1.5.0",
            "orientation": "horizontal",
            "min": 0,
            "description_tooltip": null,
            "_model_module": "@jupyter-widgets/controls",
            "layout": "IPY_MODEL_f6ed3d461ace49a6aeb5962b6f0edfb3"
          }
        },
        "c404a85ee40346aa80b7588049a72f81": {
          "model_module": "@jupyter-widgets/controls",
          "model_name": "HTMLModel",
          "model_module_version": "1.5.0",
          "state": {
            "_view_name": "HTMLView",
            "style": "IPY_MODEL_e8550780a33f4ccdbaa47d08b9fa8c4b",
            "_dom_classes": [],
            "description": "",
            "_model_name": "HTMLModel",
            "placeholder": "​",
            "_view_module": "@jupyter-widgets/controls",
            "_model_module_version": "1.5.0",
            "value": " 4/5000 [00:05&lt;2:01:20,  1.46s/it]",
            "_view_count": null,
            "_view_module_version": "1.5.0",
            "description_tooltip": null,
            "_model_module": "@jupyter-widgets/controls",
            "layout": "IPY_MODEL_c68784eaa3c94d36979179fd0046b21b"
          }
        },
        "ccb0e1333365494cb88503a585433313": {
          "model_module": "@jupyter-widgets/controls",
          "model_name": "DescriptionStyleModel",
          "model_module_version": "1.5.0",
          "state": {
            "_view_name": "StyleView",
            "_model_name": "DescriptionStyleModel",
            "description_width": "",
            "_view_module": "@jupyter-widgets/base",
            "_model_module_version": "1.5.0",
            "_view_count": null,
            "_view_module_version": "1.2.0",
            "_model_module": "@jupyter-widgets/controls"
          }
        },
        "d8a1b53aaf04460bb3ef3cc4892303ef": {
          "model_module": "@jupyter-widgets/base",
          "model_name": "LayoutModel",
          "model_module_version": "1.2.0",
          "state": {
            "_view_name": "LayoutView",
            "grid_template_rows": null,
            "right": null,
            "justify_content": null,
            "_view_module": "@jupyter-widgets/base",
            "overflow": null,
            "_model_module_version": "1.2.0",
            "_view_count": null,
            "flex_flow": null,
            "width": null,
            "min_width": null,
            "border": null,
            "align_items": null,
            "bottom": null,
            "_model_module": "@jupyter-widgets/base",
            "top": null,
            "grid_column": null,
            "overflow_y": null,
            "overflow_x": null,
            "grid_auto_flow": null,
            "grid_area": null,
            "grid_template_columns": null,
            "flex": null,
            "_model_name": "LayoutModel",
            "justify_items": null,
            "grid_row": null,
            "max_height": null,
            "align_content": null,
            "visibility": null,
            "align_self": null,
            "height": null,
            "min_height": null,
            "padding": null,
            "grid_auto_rows": null,
            "grid_gap": null,
            "max_width": null,
            "order": null,
            "_view_module_version": "1.2.0",
            "grid_template_areas": null,
            "object_position": null,
            "object_fit": null,
            "grid_auto_columns": null,
            "margin": null,
            "display": null,
            "left": null
          }
        },
        "5644005541b7400f8e76f9310653e388": {
          "model_module": "@jupyter-widgets/controls",
          "model_name": "ProgressStyleModel",
          "model_module_version": "1.5.0",
          "state": {
            "_view_name": "StyleView",
            "_model_name": "ProgressStyleModel",
            "description_width": "",
            "_view_module": "@jupyter-widgets/base",
            "_model_module_version": "1.5.0",
            "_view_count": null,
            "_view_module_version": "1.2.0",
            "bar_color": null,
            "_model_module": "@jupyter-widgets/controls"
          }
        },
        "f6ed3d461ace49a6aeb5962b6f0edfb3": {
          "model_module": "@jupyter-widgets/base",
          "model_name": "LayoutModel",
          "model_module_version": "1.2.0",
          "state": {
            "_view_name": "LayoutView",
            "grid_template_rows": null,
            "right": null,
            "justify_content": null,
            "_view_module": "@jupyter-widgets/base",
            "overflow": null,
            "_model_module_version": "1.2.0",
            "_view_count": null,
            "flex_flow": null,
            "width": null,
            "min_width": null,
            "border": null,
            "align_items": null,
            "bottom": null,
            "_model_module": "@jupyter-widgets/base",
            "top": null,
            "grid_column": null,
            "overflow_y": null,
            "overflow_x": null,
            "grid_auto_flow": null,
            "grid_area": null,
            "grid_template_columns": null,
            "flex": null,
            "_model_name": "LayoutModel",
            "justify_items": null,
            "grid_row": null,
            "max_height": null,
            "align_content": null,
            "visibility": null,
            "align_self": null,
            "height": null,
            "min_height": null,
            "padding": null,
            "grid_auto_rows": null,
            "grid_gap": null,
            "max_width": null,
            "order": null,
            "_view_module_version": "1.2.0",
            "grid_template_areas": null,
            "object_position": null,
            "object_fit": null,
            "grid_auto_columns": null,
            "margin": null,
            "display": null,
            "left": null
          }
        },
        "e8550780a33f4ccdbaa47d08b9fa8c4b": {
          "model_module": "@jupyter-widgets/controls",
          "model_name": "DescriptionStyleModel",
          "model_module_version": "1.5.0",
          "state": {
            "_view_name": "StyleView",
            "_model_name": "DescriptionStyleModel",
            "description_width": "",
            "_view_module": "@jupyter-widgets/base",
            "_model_module_version": "1.5.0",
            "_view_count": null,
            "_view_module_version": "1.2.0",
            "_model_module": "@jupyter-widgets/controls"
          }
        },
        "c68784eaa3c94d36979179fd0046b21b": {
          "model_module": "@jupyter-widgets/base",
          "model_name": "LayoutModel",
          "model_module_version": "1.2.0",
          "state": {
            "_view_name": "LayoutView",
            "grid_template_rows": null,
            "right": null,
            "justify_content": null,
            "_view_module": "@jupyter-widgets/base",
            "overflow": null,
            "_model_module_version": "1.2.0",
            "_view_count": null,
            "flex_flow": null,
            "width": null,
            "min_width": null,
            "border": null,
            "align_items": null,
            "bottom": null,
            "_model_module": "@jupyter-widgets/base",
            "top": null,
            "grid_column": null,
            "overflow_y": null,
            "overflow_x": null,
            "grid_auto_flow": null,
            "grid_area": null,
            "grid_template_columns": null,
            "flex": null,
            "_model_name": "LayoutModel",
            "justify_items": null,
            "grid_row": null,
            "max_height": null,
            "align_content": null,
            "visibility": null,
            "align_self": null,
            "height": null,
            "min_height": null,
            "padding": null,
            "grid_auto_rows": null,
            "grid_gap": null,
            "max_width": null,
            "order": null,
            "_view_module_version": "1.2.0",
            "grid_template_areas": null,
            "object_position": null,
            "object_fit": null,
            "grid_auto_columns": null,
            "margin": null,
            "display": null,
            "left": null
          }
        }
      }
    }
  },
  "nbformat": 4,
  "nbformat_minor": 0
}